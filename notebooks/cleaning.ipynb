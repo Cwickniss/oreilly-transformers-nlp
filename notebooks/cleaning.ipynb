{
 "cells": [
  {
   "cell_type": "code",
   "execution_count": 29,
   "id": "a54932c6",
   "metadata": {},
   "outputs": [],
   "source": [
    "from nlp import Dataset\n",
    "import pandas as pd\n",
    "import re\n",
    "from transformers import DistilBertTokenizerFast\n",
    "from transformers import DistilBertForSequenceClassification\n",
    "from torch.nn import Softmax\n",
    "from torch import tensor, where\n",
    "from torch.utils.data import DataLoader\n"
   ]
  },
  {
   "cell_type": "code",
   "execution_count": 2,
   "id": "c1a1f5c2",
   "metadata": {},
   "outputs": [],
   "source": [
    "# Our same clean tweet function as before\n",
    "\n",
    "URL_REGEX = re.compile('http(s)?:\\/\\/t.co\\/\\w+')\n",
    "MENTION_REGEX = re.compile('@\\w+')\n",
    "\n",
    "def clean_tweet(tweet):\n",
    "    # remove mentions, the pound sign, and replace urls with URL token\n",
    "    tweet = re.sub(URL_REGEX, 'url', tweet)  # replace urls with url. Assumes that the mention of a url is significant\n",
    "    tweet = re.sub(MENTION_REGEX, '', tweet)  # remove mentions entirely\n",
    "    tweet = tweet.replace('#', '')  # remove pound signs\n",
    "    \n",
    "    return tweet.strip()"
   ]
  },
  {
   "cell_type": "code",
   "execution_count": 3,
   "id": "02f8521e",
   "metadata": {},
   "outputs": [],
   "source": [
    "# read our tweet sample\n",
    "tweets = pd.read_csv('../data/tweets_sample.csv', encoding='ISO-8859-1')\n",
    "\n",
    "# convert the date to a datetime format\n",
    "tweets['date'] = pd.to_datetime(tweets['TweetAt']).astype('datetime64[ms]')\n",
    "\n",
    "# set our index as our datetime column and delete the date columns\n",
    "tweets.index = tweets['date']\n",
    "del tweets['date']\n",
    "\n",
    "# Sort our tweets\n",
    "tweets.sort_index(inplace=True)\n",
    "\n",
    "# clean our tweet text using a custom function\n",
    "tweets['text'] = tweets['OriginalTweet'].apply(clean_tweet)\n",
    "\n",
    "# Perform the same label mapping as before\n",
    "tweets['labels'] = tweets['Sentiment'].map({\n",
    "    'Extremely Negative': 0,\n",
    "    'Negative': 0,\n",
    "    'Neutral': 1,\n",
    "    'Positive': 2,\n",
    "    'Extremely Positive': 2\n",
    "})"
   ]
  },
  {
   "cell_type": "code",
   "execution_count": 4,
   "id": "1082aa1f",
   "metadata": {},
   "outputs": [],
   "source": [
    "tweets['text'] = tweets['OriginalTweet'].apply(clean_tweet)"
   ]
  },
  {
   "cell_type": "code",
   "execution_count": 5,
   "id": "a745f506",
   "metadata": {},
   "outputs": [],
   "source": [
    "tweets['index'] = range(tweets.shape[0])"
   ]
  },
  {
   "cell_type": "code",
   "execution_count": 6,
   "id": "4a87677f",
   "metadata": {
    "scrolled": true
   },
   "outputs": [],
   "source": [
    "BERT_MODEL = 'distilbert-base-uncased'\n",
    "\n",
    "bert_tokenizer = DistilBertTokenizerFast.from_pretrained(BERT_MODEL)\n"
   ]
  },
  {
   "cell_type": "code",
   "execution_count": 7,
   "id": "067c327c",
   "metadata": {},
   "outputs": [],
   "source": [
    "tweets = tweets[:'2020-03']"
   ]
  },
  {
   "cell_type": "code",
   "execution_count": 8,
   "id": "5f8f029e",
   "metadata": {},
   "outputs": [
    {
     "data": {
      "application/vnd.jupyter.widget-view+json": {
       "model_id": "6974334b491e4e11998bea6b947ddb26",
       "version_major": 2,
       "version_minor": 0
      },
      "text/plain": [
       "  0%|          | 0/3 [00:00<?, ?it/s]"
      ]
     },
     "metadata": {},
     "output_type": "display_data"
    },
    {
     "data": {
      "application/vnd.jupyter.widget-view+json": {
       "model_id": "faf1c6f4ddb948bc9204e4552e57f17e",
       "version_major": 2,
       "version_minor": 0
      },
      "text/plain": [
       "  0%|          | 0/1 [00:00<?, ?it/s]"
      ]
     },
     "metadata": {},
     "output_type": "display_data"
    }
   ],
   "source": [
    "tweet_dataset = Dataset.from_pandas(tweets.reset_index()[['text', 'labels', 'index']])\n",
    "\n",
    "# Dataset has a built in train test split method\n",
    "tweet_dataset = tweet_dataset.train_test_split(test_size=0.2)\n",
    "\n",
    "train_set = tweet_dataset['train']\n",
    "test_set = tweet_dataset['test']"
   ]
  },
  {
   "cell_type": "code",
   "execution_count": 9,
   "id": "e62eeeaa",
   "metadata": {},
   "outputs": [
    {
     "data": {
      "application/vnd.jupyter.widget-view+json": {
       "model_id": "8ff8158044e04ad9a8b3ee98ad9e50ed",
       "version_major": 2,
       "version_minor": 0
      },
      "text/plain": [
       "  0%|          | 0/1 [00:00<?, ?it/s]"
      ]
     },
     "metadata": {},
     "output_type": "display_data"
    },
    {
     "data": {
      "application/vnd.jupyter.widget-view+json": {
       "model_id": "5b8664950149427b8037827419d0806b",
       "version_major": 2,
       "version_minor": 0
      },
      "text/plain": [
       "  0%|          | 0/1 [00:00<?, ?it/s]"
      ]
     },
     "metadata": {},
     "output_type": "display_data"
    }
   ],
   "source": [
    "# We will pad our dataset so that our input matrices are the same length and truncate anything longer than 512 tokens\n",
    "def preprocess(data):\n",
    "    return bert_tokenizer(data['text'], padding=True, truncation=True, max_length=128)\n",
    "\n",
    "train_set = train_set.map(preprocess, batched=True, batch_size=len(train_set))\n",
    "test_set = test_set.map(preprocess, batched=True, batch_size=len(test_set))\n",
    "\n",
    "train_set.set_format('torch', columns=['input_ids', 'attention_mask', 'labels', 'index'])\n",
    "test_set.set_format('torch', columns=['input_ids', 'attention_mask', 'labels', 'index'])"
   ]
  },
  {
   "cell_type": "code",
   "execution_count": 10,
   "id": "e99c98c4",
   "metadata": {
    "scrolled": true
   },
   "outputs": [
    {
     "name": "stderr",
     "output_type": "stream",
     "text": [
      "Some weights of the model checkpoint at distilbert-base-uncased were not used when initializing DistilBertForSequenceClassification: ['vocab_transform.weight', 'vocab_projector.bias', 'vocab_layer_norm.weight', 'vocab_projector.weight', 'vocab_transform.bias', 'vocab_layer_norm.bias']\n",
      "- This IS expected if you are initializing DistilBertForSequenceClassification from the checkpoint of a model trained on another task or with another architecture (e.g. initializing a BertForSequenceClassification model from a BertForPreTraining model).\n",
      "- This IS NOT expected if you are initializing DistilBertForSequenceClassification from the checkpoint of a model that you expect to be exactly identical (initializing a BertForSequenceClassification model from a BertForSequenceClassification model).\n",
      "Some weights of DistilBertForSequenceClassification were not initialized from the model checkpoint at distilbert-base-uncased and are newly initialized: ['classifier.weight', 'classifier.bias', 'pre_classifier.weight', 'pre_classifier.bias']\n",
      "You should probably TRAIN this model on a down-stream task to be able to use it for predictions and inference.\n"
     ]
    }
   ],
   "source": [
    "sequence_classification_model = DistilBertForSequenceClassification.from_pretrained(\n",
    "    BERT_MODEL, num_labels=3,\n",
    "    output_attentions = False, # Whether the model returns attentions weights.\n",
    "    output_hidden_states = False # Whether the model returns all hidden-states.\n",
    ")"
   ]
  },
  {
   "cell_type": "code",
   "execution_count": 11,
   "id": "96d0627b",
   "metadata": {},
   "outputs": [],
   "source": [
    "from aum import AUMCalculator\n",
    "\n",
    "save_dir = './clean'\n",
    "aum_calculator = AUMCalculator(save_dir, compressed=False)"
   ]
  },
  {
   "cell_type": "code",
   "execution_count": 12,
   "id": "c3ed5803",
   "metadata": {},
   "outputs": [],
   "source": [
    "from transformers import AdamW\n",
    "\n",
    "optimizer = AdamW(sequence_classification_model.parameters(), lr=5e-5)"
   ]
  },
  {
   "cell_type": "code",
   "execution_count": 13,
   "id": "4db411e3",
   "metadata": {},
   "outputs": [],
   "source": [
    "from transformers import get_scheduler\n",
    "\n",
    "train_loader = DataLoader(train_set, batch_size=64, shuffle=False)\n",
    "\n",
    "num_epochs = 10\n",
    "num_training_steps = num_epochs * len(train_loader)\n",
    "lr_scheduler = get_scheduler(\n",
    "    \"linear\",\n",
    "    optimizer=optimizer,\n",
    "    num_warmup_steps=0,\n",
    "    num_training_steps=num_training_steps\n",
    ")"
   ]
  },
  {
   "cell_type": "code",
   "execution_count": 14,
   "id": "1d3cc445",
   "metadata": {
    "scrolled": true
   },
   "outputs": [
    {
     "data": {
      "application/vnd.jupyter.widget-view+json": {
       "model_id": "5ae8c5fb0fa54c6f9ec94ea586afe0fd",
       "version_major": 2,
       "version_minor": 0
      },
      "text/plain": [
       "  0%|          | 0/340 [00:00<?, ?it/s]"
      ]
     },
     "metadata": {},
     "output_type": "display_data"
    }
   ],
   "source": [
    "from tqdm.auto import tqdm\n",
    "\n",
    "progress_bar = tqdm(range(num_training_steps))\n",
    "\n",
    "sequence_classification_model.train()\n",
    "for epoch in range(num_epochs):\n",
    "    for batch in train_loader:\n",
    "        _batch = {k: v for k, v in batch.items() if k not in ('index',)}\n",
    "        outputs = sequence_classification_model(**_batch)\n",
    "        loss = outputs.loss\n",
    "        loss.backward()\n",
    "\n",
    "        optimizer.step()\n",
    "        lr_scheduler.step()\n",
    "        \n",
    "        records = aum_calculator.update(outputs.logits, batch['labels'], batch['index'].tolist())\n",
    "        \n",
    "        optimizer.zero_grad()\n",
    "        progress_bar.update(1)"
   ]
  },
  {
   "cell_type": "code",
   "execution_count": 15,
   "id": "ccb6ac7b",
   "metadata": {},
   "outputs": [],
   "source": [
    "aum_calculator.finalize()"
   ]
  },
  {
   "cell_type": "code",
   "execution_count": 16,
   "id": "75dff6ee",
   "metadata": {},
   "outputs": [
    {
     "data": {
      "text/html": [
       "<div>\n",
       "<style scoped>\n",
       "    .dataframe tbody tr th:only-of-type {\n",
       "        vertical-align: middle;\n",
       "    }\n",
       "\n",
       "    .dataframe tbody tr th {\n",
       "        vertical-align: top;\n",
       "    }\n",
       "\n",
       "    .dataframe thead th {\n",
       "        text-align: right;\n",
       "    }\n",
       "</style>\n",
       "<table border=\"1\" class=\"dataframe\">\n",
       "  <thead>\n",
       "    <tr style=\"text-align: right;\">\n",
       "      <th></th>\n",
       "      <th>sample_id</th>\n",
       "      <th>aum</th>\n",
       "    </tr>\n",
       "  </thead>\n",
       "  <tbody>\n",
       "    <tr>\n",
       "      <th>0</th>\n",
       "      <td>631</td>\n",
       "      <td>4.833951</td>\n",
       "    </tr>\n",
       "    <tr>\n",
       "      <th>1</th>\n",
       "      <td>2047</td>\n",
       "      <td>4.783761</td>\n",
       "    </tr>\n",
       "    <tr>\n",
       "      <th>2</th>\n",
       "      <td>856</td>\n",
       "      <td>4.759823</td>\n",
       "    </tr>\n",
       "    <tr>\n",
       "      <th>3</th>\n",
       "      <td>489</td>\n",
       "      <td>4.721553</td>\n",
       "    </tr>\n",
       "    <tr>\n",
       "      <th>4</th>\n",
       "      <td>2113</td>\n",
       "      <td>4.707543</td>\n",
       "    </tr>\n",
       "  </tbody>\n",
       "</table>\n",
       "</div>"
      ],
      "text/plain": [
       "   sample_id       aum\n",
       "0        631  4.833951\n",
       "1       2047  4.783761\n",
       "2        856  4.759823\n",
       "3        489  4.721553\n",
       "4       2113  4.707543"
      ]
     },
     "execution_count": 16,
     "metadata": {},
     "output_type": "execute_result"
    }
   ],
   "source": [
    "aum_values = pd.read_csv('./clean/aum_values.csv')\n",
    "\n",
    "aum_values.head()"
   ]
  },
  {
   "cell_type": "code",
   "execution_count": 17,
   "id": "f39d9ddf",
   "metadata": {},
   "outputs": [
    {
     "data": {
      "text/html": [
       "<div>\n",
       "<style scoped>\n",
       "    .dataframe tbody tr th:only-of-type {\n",
       "        vertical-align: middle;\n",
       "    }\n",
       "\n",
       "    .dataframe tbody tr th {\n",
       "        vertical-align: top;\n",
       "    }\n",
       "\n",
       "    .dataframe thead th {\n",
       "        text-align: right;\n",
       "    }\n",
       "</style>\n",
       "<table border=\"1\" class=\"dataframe\">\n",
       "  <thead>\n",
       "    <tr style=\"text-align: right;\">\n",
       "      <th></th>\n",
       "      <th>sample_id</th>\n",
       "      <th>aum</th>\n",
       "    </tr>\n",
       "  </thead>\n",
       "  <tbody>\n",
       "    <tr>\n",
       "      <th>2160</th>\n",
       "      <td>189</td>\n",
       "      <td>-2.684253</td>\n",
       "    </tr>\n",
       "    <tr>\n",
       "      <th>2161</th>\n",
       "      <td>1275</td>\n",
       "      <td>-3.183550</td>\n",
       "    </tr>\n",
       "    <tr>\n",
       "      <th>2162</th>\n",
       "      <td>2262</td>\n",
       "      <td>-3.430273</td>\n",
       "    </tr>\n",
       "    <tr>\n",
       "      <th>2163</th>\n",
       "      <td>1720</td>\n",
       "      <td>-3.829838</td>\n",
       "    </tr>\n",
       "    <tr>\n",
       "      <th>2164</th>\n",
       "      <td>2021</td>\n",
       "      <td>-3.930788</td>\n",
       "    </tr>\n",
       "  </tbody>\n",
       "</table>\n",
       "</div>"
      ],
      "text/plain": [
       "      sample_id       aum\n",
       "2160        189 -2.684253\n",
       "2161       1275 -3.183550\n",
       "2162       2262 -3.430273\n",
       "2163       1720 -3.829838\n",
       "2164       2021 -3.930788"
      ]
     },
     "execution_count": 17,
     "metadata": {},
     "output_type": "execute_result"
    }
   ],
   "source": [
    "aum_values.tail()"
   ]
  },
  {
   "cell_type": "code",
   "execution_count": 18,
   "id": "48b3e43f",
   "metadata": {},
   "outputs": [
    {
     "name": "stdout",
     "output_type": "stream",
     "text": [
      "(21650, 8)\n"
     ]
    },
    {
     "data": {
      "text/html": [
       "<div>\n",
       "<style scoped>\n",
       "    .dataframe tbody tr th:only-of-type {\n",
       "        vertical-align: middle;\n",
       "    }\n",
       "\n",
       "    .dataframe tbody tr th {\n",
       "        vertical-align: top;\n",
       "    }\n",
       "\n",
       "    .dataframe thead th {\n",
       "        text-align: right;\n",
       "    }\n",
       "</style>\n",
       "<table border=\"1\" class=\"dataframe\">\n",
       "  <thead>\n",
       "    <tr style=\"text-align: right;\">\n",
       "      <th></th>\n",
       "      <th>sample_id</th>\n",
       "      <th>num_measurements</th>\n",
       "      <th>target_logit</th>\n",
       "      <th>target_val</th>\n",
       "      <th>other_logit</th>\n",
       "      <th>other_val</th>\n",
       "      <th>margin</th>\n",
       "      <th>aum</th>\n",
       "    </tr>\n",
       "  </thead>\n",
       "  <tbody>\n",
       "    <tr>\n",
       "      <th>0</th>\n",
       "      <td>3</td>\n",
       "      <td>1</td>\n",
       "      <td>0</td>\n",
       "      <td>0.045145</td>\n",
       "      <td>2</td>\n",
       "      <td>0.103130</td>\n",
       "      <td>-0.057985</td>\n",
       "      <td>-0.057985</td>\n",
       "    </tr>\n",
       "    <tr>\n",
       "      <th>1</th>\n",
       "      <td>3</td>\n",
       "      <td>2</td>\n",
       "      <td>0</td>\n",
       "      <td>0.488836</td>\n",
       "      <td>1</td>\n",
       "      <td>0.343246</td>\n",
       "      <td>0.145589</td>\n",
       "      <td>0.043802</td>\n",
       "    </tr>\n",
       "    <tr>\n",
       "      <th>2</th>\n",
       "      <td>3</td>\n",
       "      <td>3</td>\n",
       "      <td>0</td>\n",
       "      <td>2.165504</td>\n",
       "      <td>1</td>\n",
       "      <td>-0.506680</td>\n",
       "      <td>2.672184</td>\n",
       "      <td>0.919930</td>\n",
       "    </tr>\n",
       "    <tr>\n",
       "      <th>3</th>\n",
       "      <td>3</td>\n",
       "      <td>4</td>\n",
       "      <td>0</td>\n",
       "      <td>2.900662</td>\n",
       "      <td>2</td>\n",
       "      <td>-1.349745</td>\n",
       "      <td>4.250407</td>\n",
       "      <td>1.752549</td>\n",
       "    </tr>\n",
       "    <tr>\n",
       "      <th>4</th>\n",
       "      <td>3</td>\n",
       "      <td>5</td>\n",
       "      <td>0</td>\n",
       "      <td>3.197479</td>\n",
       "      <td>2</td>\n",
       "      <td>-1.443019</td>\n",
       "      <td>4.640498</td>\n",
       "      <td>2.330139</td>\n",
       "    </tr>\n",
       "  </tbody>\n",
       "</table>\n",
       "</div>"
      ],
      "text/plain": [
       "   sample_id  num_measurements  target_logit  target_val  other_logit  \\\n",
       "0          3                 1             0    0.045145            2   \n",
       "1          3                 2             0    0.488836            1   \n",
       "2          3                 3             0    2.165504            1   \n",
       "3          3                 4             0    2.900662            2   \n",
       "4          3                 5             0    3.197479            2   \n",
       "\n",
       "   other_val    margin       aum  \n",
       "0   0.103130 -0.057985 -0.057985  \n",
       "1   0.343246  0.145589  0.043802  \n",
       "2  -0.506680  2.672184  0.919930  \n",
       "3  -1.349745  4.250407  1.752549  \n",
       "4  -1.443019  4.640498  2.330139  "
      ]
     },
     "execution_count": 18,
     "metadata": {},
     "output_type": "execute_result"
    }
   ],
   "source": [
    "all_aum_records = pd.read_csv('./clean/full_aum_records.csv')\n",
    "print(all_aum_records.shape)\n",
    "all_aum_records.head()"
   ]
  },
  {
   "cell_type": "code",
   "execution_count": null,
   "id": "3b5d3aeb",
   "metadata": {},
   "outputs": [],
   "source": []
  },
  {
   "cell_type": "code",
   "execution_count": null,
   "id": "d7ddf7f6",
   "metadata": {},
   "outputs": [],
   "source": [
    "950"
   ]
  },
  {
   "cell_type": "code",
   "execution_count": null,
   "id": "08233c35",
   "metadata": {},
   "outputs": [],
   "source": []
  },
  {
   "cell_type": "code",
   "execution_count": 33,
   "id": "e07cd2be",
   "metadata": {},
   "outputs": [
    {
     "data": {
      "text/html": [
       "<div>\n",
       "<style scoped>\n",
       "    .dataframe tbody tr th:only-of-type {\n",
       "        vertical-align: middle;\n",
       "    }\n",
       "\n",
       "    .dataframe tbody tr th {\n",
       "        vertical-align: top;\n",
       "    }\n",
       "\n",
       "    .dataframe thead th {\n",
       "        text-align: right;\n",
       "    }\n",
       "</style>\n",
       "<table border=\"1\" class=\"dataframe\">\n",
       "  <thead>\n",
       "    <tr style=\"text-align: right;\">\n",
       "      <th></th>\n",
       "      <th>sample_id</th>\n",
       "      <th>num_measurements</th>\n",
       "      <th>target_logit</th>\n",
       "      <th>target_val</th>\n",
       "      <th>other_logit</th>\n",
       "      <th>other_val</th>\n",
       "      <th>margin</th>\n",
       "      <th>aum</th>\n",
       "    </tr>\n",
       "  </thead>\n",
       "  <tbody>\n",
       "    <tr>\n",
       "      <th>16070</th>\n",
       "      <td>2021</td>\n",
       "      <td>1</td>\n",
       "      <td>1</td>\n",
       "      <td>-0.065304</td>\n",
       "      <td>2</td>\n",
       "      <td>0.818957</td>\n",
       "      <td>-0.884260</td>\n",
       "      <td>-0.884260</td>\n",
       "    </tr>\n",
       "    <tr>\n",
       "      <th>16071</th>\n",
       "      <td>2021</td>\n",
       "      <td>2</td>\n",
       "      <td>1</td>\n",
       "      <td>-0.936340</td>\n",
       "      <td>2</td>\n",
       "      <td>2.034497</td>\n",
       "      <td>-2.970837</td>\n",
       "      <td>-1.927549</td>\n",
       "    </tr>\n",
       "    <tr>\n",
       "      <th>16072</th>\n",
       "      <td>2021</td>\n",
       "      <td>3</td>\n",
       "      <td>1</td>\n",
       "      <td>-1.373233</td>\n",
       "      <td>2</td>\n",
       "      <td>2.957131</td>\n",
       "      <td>-4.330364</td>\n",
       "      <td>-2.728487</td>\n",
       "    </tr>\n",
       "    <tr>\n",
       "      <th>16073</th>\n",
       "      <td>2021</td>\n",
       "      <td>4</td>\n",
       "      <td>1</td>\n",
       "      <td>-1.417986</td>\n",
       "      <td>2</td>\n",
       "      <td>3.011595</td>\n",
       "      <td>-4.429581</td>\n",
       "      <td>-3.153761</td>\n",
       "    </tr>\n",
       "    <tr>\n",
       "      <th>16074</th>\n",
       "      <td>2021</td>\n",
       "      <td>5</td>\n",
       "      <td>1</td>\n",
       "      <td>-1.419494</td>\n",
       "      <td>2</td>\n",
       "      <td>3.078312</td>\n",
       "      <td>-4.497806</td>\n",
       "      <td>-3.422570</td>\n",
       "    </tr>\n",
       "    <tr>\n",
       "      <th>16075</th>\n",
       "      <td>2021</td>\n",
       "      <td>6</td>\n",
       "      <td>1</td>\n",
       "      <td>-1.554803</td>\n",
       "      <td>2</td>\n",
       "      <td>3.293090</td>\n",
       "      <td>-4.847893</td>\n",
       "      <td>-3.660124</td>\n",
       "    </tr>\n",
       "    <tr>\n",
       "      <th>16076</th>\n",
       "      <td>2021</td>\n",
       "      <td>7</td>\n",
       "      <td>1</td>\n",
       "      <td>-1.279511</td>\n",
       "      <td>2</td>\n",
       "      <td>3.266360</td>\n",
       "      <td>-4.545871</td>\n",
       "      <td>-3.786659</td>\n",
       "    </tr>\n",
       "    <tr>\n",
       "      <th>16077</th>\n",
       "      <td>2021</td>\n",
       "      <td>8</td>\n",
       "      <td>1</td>\n",
       "      <td>-1.036999</td>\n",
       "      <td>2</td>\n",
       "      <td>3.213236</td>\n",
       "      <td>-4.250235</td>\n",
       "      <td>-3.844606</td>\n",
       "    </tr>\n",
       "    <tr>\n",
       "      <th>16078</th>\n",
       "      <td>2021</td>\n",
       "      <td>9</td>\n",
       "      <td>1</td>\n",
       "      <td>-1.247438</td>\n",
       "      <td>2</td>\n",
       "      <td>3.289425</td>\n",
       "      <td>-4.536863</td>\n",
       "      <td>-3.921523</td>\n",
       "    </tr>\n",
       "    <tr>\n",
       "      <th>16079</th>\n",
       "      <td>2021</td>\n",
       "      <td>10</td>\n",
       "      <td>1</td>\n",
       "      <td>-0.892039</td>\n",
       "      <td>2</td>\n",
       "      <td>3.122126</td>\n",
       "      <td>-4.014165</td>\n",
       "      <td>-3.930788</td>\n",
       "    </tr>\n",
       "  </tbody>\n",
       "</table>\n",
       "</div>"
      ],
      "text/plain": [
       "       sample_id  num_measurements  target_logit  target_val  other_logit  \\\n",
       "16070       2021                 1             1   -0.065304            2   \n",
       "16071       2021                 2             1   -0.936340            2   \n",
       "16072       2021                 3             1   -1.373233            2   \n",
       "16073       2021                 4             1   -1.417986            2   \n",
       "16074       2021                 5             1   -1.419494            2   \n",
       "16075       2021                 6             1   -1.554803            2   \n",
       "16076       2021                 7             1   -1.279511            2   \n",
       "16077       2021                 8             1   -1.036999            2   \n",
       "16078       2021                 9             1   -1.247438            2   \n",
       "16079       2021                10             1   -0.892039            2   \n",
       "\n",
       "       other_val    margin       aum  \n",
       "16070   0.818957 -0.884260 -0.884260  \n",
       "16071   2.034497 -2.970837 -1.927549  \n",
       "16072   2.957131 -4.330364 -2.728487  \n",
       "16073   3.011595 -4.429581 -3.153761  \n",
       "16074   3.078312 -4.497806 -3.422570  \n",
       "16075   3.293090 -4.847893 -3.660124  \n",
       "16076   3.266360 -4.545871 -3.786659  \n",
       "16077   3.213236 -4.250235 -3.844606  \n",
       "16078   3.289425 -4.536863 -3.921523  \n",
       "16079   3.122126 -4.014165 -3.930788  "
      ]
     },
     "execution_count": 33,
     "metadata": {},
     "output_type": "execute_result"
    }
   ],
   "source": [
    "\n",
    "all_aum_records[all_aum_records['sample_id'] == 2021]"
   ]
  },
  {
   "cell_type": "code",
   "execution_count": 34,
   "id": "0cca145c",
   "metadata": {},
   "outputs": [
    {
     "data": {
      "text/plain": [
       "<AxesSubplot:>"
      ]
     },
     "execution_count": 34,
     "metadata": {},
     "output_type": "execute_result"
    },
    {
     "data": {
      "image/png": "[encoded data removed]",
      "text/plain": [
       "<Figure size 432x288 with 1 Axes>"
      ]
     },
     "metadata": {
      "needs_background": "light"
     },
     "output_type": "display_data"
    }
   ],
   "source": [
    "all_aum_records[all_aum_records['sample_id'] == 2021][['target_val', 'other_val']].plot()"
   ]
  },
  {
   "cell_type": "code",
   "execution_count": 37,
   "id": "9323cf9d",
   "metadata": {},
   "outputs": [
    {
     "data": {
      "text/plain": [
       "array([['COVID-19 Consumer Rights\\r\\r\\n\\r\\r\\nhttps://t.co/2hwMp1zCA4\\r\\r\\n\\r\\r\\n#MABS #DublinSouthMABS #support #help #WeAreInThisTogether #COVID19 #COVID_19 #CoronaCrisis #MoneyAdviceÂ\\x85 https://t.co/hSbYwfaW1h',\n",
       "        'Neutral']], dtype=object)"
      ]
     },
     "execution_count": 37,
     "metadata": {},
     "output_type": "execute_result"
    }
   ],
   "source": [
    "tweets[tweets['index'] == 2021][['OriginalTweet', 'Sentiment']].values"
   ]
  },
  {
   "cell_type": "code",
   "execution_count": null,
   "id": "65e90991",
   "metadata": {},
   "outputs": [],
   "source": []
  },
  {
   "cell_type": "code",
   "execution_count": null,
   "id": "45683887",
   "metadata": {},
   "outputs": [],
   "source": []
  },
  {
   "cell_type": "code",
   "execution_count": null,
   "id": "e94e7c51",
   "metadata": {},
   "outputs": [],
   "source": [
    "# Using cosine similarity to find confusing phrases"
   ]
  },
  {
   "cell_type": "code",
   "execution_count": 25,
   "id": "fbee04bb",
   "metadata": {},
   "outputs": [],
   "source": [
    "from sentence_transformers import SentenceTransformer, util\n",
    "model = SentenceTransformer('all-MiniLM-L6-v2')"
   ]
  },
  {
   "cell_type": "code",
   "execution_count": 26,
   "id": "634a701e",
   "metadata": {},
   "outputs": [],
   "source": [
    "embeddings = model.encode(tweets['text'].tolist(), convert_to_tensor=True)"
   ]
  },
  {
   "cell_type": "code",
   "execution_count": 27,
   "id": "e5ab3d89",
   "metadata": {},
   "outputs": [],
   "source": [
    "cosine_scores = util.pytorch_cos_sim(embeddings, embeddings)"
   ]
  },
  {
   "cell_type": "code",
   "execution_count": 58,
   "id": "b89676e3",
   "metadata": {
    "scrolled": true
   },
   "outputs": [
    {
     "name": "stdout",
     "output_type": "stream",
     "text": [
      "21 233 [[\"Lowe's closes Harper Woods store to customers after employee dies of COVID-19 https://t.co/Wke3lNHRwM via @crainsdetroit\"\n",
      "  'Positive']\n",
      " [\".@Lowe's closes Harper Woods store to customers after employee dies of #COVID19 https://t.co/MJhZQwpL4W via @crainsdetroit\"\n",
      "  'Neutral']]\n",
      "--------\n",
      "94 233 [[\"Lowe's closes Harper Woods store to customers after employee dies of COVID-19 https://t.co/V6Q3HYnZaE\"\n",
      "  'Positive']\n",
      " [\".@Lowe's closes Harper Woods store to customers after employee dies of #COVID19 https://t.co/MJhZQwpL4W via @crainsdetroit\"\n",
      "  'Neutral']]\n",
      "--------\n",
      "210 304 [['Covid-19 #heroes: Â\\x91The #pub may be closed but that doesnÂ\\x92t mean we canÂ\\x92t help peopleÂ\\x92 https://t.co/RJCkmLDVt5 #coronavirus'\n",
      "  'Positive']\n",
      " ['Covid-19 heroes: Â\\x91The pub may be closed but that doesnÂ\\x92t mean we canÂ\\x92t help peopleÂ\\x92\\r\\r\\nhttps://t.co/mpq8VYPrcT #coronavirus positive mindset'\n",
      "  'Extremely Positive']]\n",
      "--------\n",
      "233 21 [[\"Lowe's closes Harper Woods store to customers after employee dies of COVID-19 https://t.co/Wke3lNHRwM via @crainsdetroit\"\n",
      "  'Positive']\n",
      " [\".@Lowe's closes Harper Woods store to customers after employee dies of #COVID19 https://t.co/MJhZQwpL4W via @crainsdetroit\"\n",
      "  'Neutral']]\n",
      "--------\n",
      "233 94 [[\"Lowe's closes Harper Woods store to customers after employee dies of COVID-19 https://t.co/V6Q3HYnZaE\"\n",
      "  'Positive']\n",
      " [\".@Lowe's closes Harper Woods store to customers after employee dies of #COVID19 https://t.co/MJhZQwpL4W via @crainsdetroit\"\n",
      "  'Neutral']]\n",
      "--------\n",
      "281 535 [[\"'A Perfect Storm': U.S. Facing Hunger Crisis as Demand for Food Banks Soars https://t.co/wpA6p2XLU7 @theguardian #coronavirus #COVID19 #foodinsecurity\"\n",
      "  'Negative']\n",
      " [\"'A perfect storm': US facing #hunger #crisis as demand for #foodbanks soars | Environment | The Guardian #ados #pandemic #coronavirus  https://t.co/JboPvSFgLZ\"\n",
      "  'Positive']]\n",
      "--------\n",
      "304 210 [['Covid-19 #heroes: Â\\x91The #pub may be closed but that doesnÂ\\x92t mean we canÂ\\x92t help peopleÂ\\x92 https://t.co/RJCkmLDVt5 #coronavirus'\n",
      "  'Positive']\n",
      " ['Covid-19 heroes: Â\\x91The pub may be closed but that doesnÂ\\x92t mean we canÂ\\x92t help peopleÂ\\x92\\r\\r\\nhttps://t.co/mpq8VYPrcT #coronavirus positive mindset'\n",
      "  'Extremely Positive']]\n",
      "--------\n",
      "535 281 [[\"'A Perfect Storm': U.S. Facing Hunger Crisis as Demand for Food Banks Soars https://t.co/wpA6p2XLU7 @theguardian #coronavirus #COVID19 #foodinsecurity\"\n",
      "  'Negative']\n",
      " [\"'A perfect storm': US facing #hunger #crisis as demand for #foodbanks soars | Environment | The Guardian #ados #pandemic #coronavirus  https://t.co/JboPvSFgLZ\"\n",
      "  'Positive']]\n",
      "--------\n",
      "640 703 [['The world could soon run out of space to store #oil. That may plunge prices below zero. This is not good.\\r\\r\\n#COVID19 #coronavirus #reality \\r\\r\\nhttps://t.co/2eM7GBfMzG'\n",
      "  'Negative']\n",
      " ['The world could soon run out of space to store oil. That may plunge prices below zero. - Experts\\r\\r\\n\\r\\r\\n#Oil / #Petrol prices down amid #Coronavirus crisis #COVID?19'\n",
      "  'Extremely Negative']]\n",
      "--------\n",
      "703 640 [['The world could soon run out of space to store #oil. That may plunge prices below zero. This is not good.\\r\\r\\n#COVID19 #coronavirus #reality \\r\\r\\nhttps://t.co/2eM7GBfMzG'\n",
      "  'Negative']\n",
      " ['The world could soon run out of space to store oil. That may plunge prices below zero. - Experts\\r\\r\\n\\r\\r\\n#Oil / #Petrol prices down amid #Coronavirus crisis #COVID?19'\n",
      "  'Extremely Negative']]\n",
      "--------\n",
      "990 2574 [[\"Scammers are taking advantage of fears surrounding the #Coronavirus. Here's information on how to avoid being a victim of a scam.\\r\\r\\nhttps://t.co/6o6HVGjhzw\"\n",
      "  'Extremely Negative']\n",
      " ['#Scammers are taking advantage of fears surrounding the #Coronavirus. Here are some tips to help you keep the scammers at bay:  https://t.co/fcIYjG2TjC'\n",
      "  'Positive']]\n",
      "--------\n",
      "1229 1952 [['ICYMI Police officers handed out rolls of toilet paper at a Sydney supermarket to try to calm shoppers who are panic buying during the epidemic'\n",
      "  'Negative']\n",
      " ['Police officers handed out rolls of toilet paper at a Sydney supermarket on Thursday to try to calm shoppers down during the outbreak in Australia'\n",
      "  'Positive']]\n",
      "--------\n"
     ]
    }
   ],
   "source": [
    "index1, index2 = where(cosine_scores >= 0.9)\n",
    "pairs_to_consider = list(zip(index1.tolist(), index2.tolist()))\n",
    "for i1, i2 in pairs_to_consider[:len(pairs_to_consider)//2]:\n",
    "    if i1 != i2:\n",
    "        samples = tweets[tweets['index'].isin([i1, i2])]\n",
    "        if samples['Sentiment'].nunique() > 1:\n",
    "            print(i1, i2, samples[['OriginalTweet', 'Sentiment']].values)\n",
    "            print('--------')"
   ]
  },
  {
   "cell_type": "code",
   "execution_count": 41,
   "id": "5b85eaf7",
   "metadata": {},
   "outputs": [
    {
     "data": {
      "text/plain": [
       "\"\\n\\n950  ['?????? FOR ALL THE GROCERY STORE EMPLOYEES! #COVID2019 #coronavirus #pandemic #corona', 'Neutral']\\n1263 ['Grocery store employees are flippin heroes!! #coronavirus', 'Positive']\\n\\n\""
      ]
     },
     "execution_count": 41,
     "metadata": {},
     "output_type": "execute_result"
    }
   ],
   "source": [
    "'''\n",
    "\n",
    "990  [\"Scammers are taking advantage of fears surrounding the #Coronavirus. Here's information on how to avoid being a victim of a scam.\\r\\r\\nhttps://t.co/6o6HVGjhzw\"\n",
    "  'Extremely Negative']\n",
    "2574 ['#Scammers are taking advantage of fears surrounding the #Coronavirus. Here are some tips to help you keep the scammers at bay:  https://t.co/fcIYjG2TjC'\n",
    "  'Positive']\n",
    "'''"
   ]
  },
  {
   "cell_type": "code",
   "execution_count": 59,
   "id": "b5fd6e26",
   "metadata": {},
   "outputs": [
    {
     "data": {
      "text/html": [
       "<div>\n",
       "<style scoped>\n",
       "    .dataframe tbody tr th:only-of-type {\n",
       "        vertical-align: middle;\n",
       "    }\n",
       "\n",
       "    .dataframe tbody tr th {\n",
       "        vertical-align: top;\n",
       "    }\n",
       "\n",
       "    .dataframe thead th {\n",
       "        text-align: right;\n",
       "    }\n",
       "</style>\n",
       "<table border=\"1\" class=\"dataframe\">\n",
       "  <thead>\n",
       "    <tr style=\"text-align: right;\">\n",
       "      <th></th>\n",
       "      <th>sample_id</th>\n",
       "      <th>aum</th>\n",
       "    </tr>\n",
       "  </thead>\n",
       "  <tbody>\n",
       "    <tr>\n",
       "      <th>137</th>\n",
       "      <td>2574</td>\n",
       "      <td>4.336185</td>\n",
       "    </tr>\n",
       "    <tr>\n",
       "      <th>458</th>\n",
       "      <td>990</td>\n",
       "      <td>3.987751</td>\n",
       "    </tr>\n",
       "  </tbody>\n",
       "</table>\n",
       "</div>"
      ],
      "text/plain": [
       "     sample_id       aum\n",
       "137       2574  4.336185\n",
       "458        990  3.987751"
      ]
     },
     "execution_count": 59,
     "metadata": {},
     "output_type": "execute_result"
    }
   ],
   "source": [
    "# AUM says they are both just fine\n",
    "aum_values[aum_values['sample_id'].isin((990, 2574))]"
   ]
  },
  {
   "cell_type": "code",
   "execution_count": 61,
   "id": "3a00efce",
   "metadata": {
    "scrolled": true
   },
   "outputs": [
    {
     "name": "stderr",
     "output_type": "stream",
     "text": [
      "/var/folders/y9/9xqbqkg90tnc0cmm0dxt985m0000gn/T/ipykernel_6570/1545741741.py:1: UserWarning: Implicit dimension choice for softmax has been deprecated. Change the call to include dim=X as an argument.\n",
      "  Softmax()(sequence_classification_model(**bert_tokenizer(\n"
     ]
    },
    {
     "data": {
      "text/plain": [
       "tensor([[0.0031, 0.0042, 0.9927]], grad_fn=<SoftmaxBackward0>)"
      ]
     },
     "execution_count": 61,
     "metadata": {},
     "output_type": "execute_result"
    }
   ],
   "source": [
    "# Our model is VERY confident in it's predictions\n",
    "Softmax()(sequence_classification_model(**bert_tokenizer(\n",
    "    clean_tweet('#Scammers are taking advantage of fears surrounding the #Coronavirus. Here are some tips to help you keep the scammers at bay:  https://t.co/fcIYjG2TjC')\n",
    ", return_tensors='pt')).logits)"
   ]
  },
  {
   "cell_type": "code",
   "execution_count": null,
   "id": "af708fc5",
   "metadata": {},
   "outputs": [],
   "source": []
  }
 ],
 "metadata": {
  "kernelspec": {
   "display_name": "Python 3 (ipykernel)",
   "language": "python",
   "name": "python3"
  },
  "language_info": {
   "codemirror_mode": {
    "name": "ipython",
    "version": 3
   },
   "file_extension": ".py",
   "mimetype": "text/x-python",
   "name": "python",
   "nbconvert_exporter": "python",
   "pygments_lexer": "ipython3",
   "version": "3.9.9"
  }
 },
 "nbformat": 4,
 "nbformat_minor": 5
}
