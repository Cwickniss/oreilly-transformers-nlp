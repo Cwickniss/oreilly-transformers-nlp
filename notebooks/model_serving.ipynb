{
 "cells": [
  {
   "cell_type": "code",
   "execution_count": 1,
   "id": "efa7c61b",
   "metadata": {},
   "outputs": [],
   "source": [
    "from transformers import DistilBertForSequenceClassification, DistilBertTokenizerFast"
   ]
  },
  {
   "cell_type": "code",
   "execution_count": null,
   "id": "e284a23f",
   "metadata": {},
   "outputs": [],
   "source": []
  },
  {
   "cell_type": "code",
   "execution_count": 2,
   "id": "03d00707",
   "metadata": {},
   "outputs": [],
   "source": [
    "# load our tokenizer\n",
    "\n",
    "BERT_MODEL = 'distilbert-base-uncased'\n",
    "bert_tokenizer = DistilBertTokenizerFast.from_pretrained(BERT_MODEL)"
   ]
  },
  {
   "cell_type": "code",
   "execution_count": null,
   "id": "6c8e35cf",
   "metadata": {},
   "outputs": [],
   "source": []
  },
  {
   "cell_type": "code",
   "execution_count": 3,
   "id": "0b3fd6a6",
   "metadata": {},
   "outputs": [
    {
     "name": "stdout",
     "output_type": "stream",
     "text": [
      "ready for eval\n"
     ]
    }
   ],
   "source": [
    "# Load our model from our training directory\n",
    "sequence_classification_model = DistilBertForSequenceClassification.from_pretrained(\n",
    "    './clf/results', num_labels=3\n",
    ")"
   ]
  },
  {
   "cell_type": "code",
   "execution_count": null,
   "id": "e4b8fec5",
   "metadata": {},
   "outputs": [],
   "source": []
  },
  {
   "cell_type": "code",
   "execution_count": null,
   "id": "7da4dee3",
   "metadata": {},
   "outputs": [],
   "source": [
    "# need to install  git-lfs. Eg  `brew install git-lfs`\n",
    "\n",
    "sequence_classification_model.push_to_hub(\n",
    "    \"profoz/mlops-demo\", \n",
    "    use_auth_token='api_key',\n",
    "    use_temp_dir=True\n",
    ")\n",
    "\n",
    "bert_tokenizer.push_to_hub(\n",
    "    \"profoz/mlops-demo\", \n",
    "    use_auth_token='api_key',\n",
    "    use_temp_dir=True\n",
    ")\n"
   ]
  },
  {
   "cell_type": "code",
   "execution_count": null,
   "id": "f13b0b65",
   "metadata": {},
   "outputs": [],
   "source": []
  },
  {
   "cell_type": "code",
   "execution_count": 4,
   "id": "4b538076",
   "metadata": {},
   "outputs": [
    {
     "data": {
      "text/plain": [
       "[[{'label': 'LABEL_0', 'score': 0.7221869230270386},\n",
       "  {'label': 'LABEL_1', 'score': 0.12886649370193481},\n",
       "  {'label': 'LABEL_2', 'score': 0.14894655346870422}]]"
      ]
     },
     "execution_count": 4,
     "metadata": {},
     "output_type": "execute_result"
    }
   ],
   "source": [
    "import requests\n",
    "\n",
    "API_URL = \"https://api-inference.huggingface.co/models/profoz/mlops-demo\"\n",
    "headers = {\"Authorization\": \"Bearer api_key\"}\n",
    "\n",
    "def query(payload):\n",
    "    response = requests.post(API_URL, headers=headers, json=payload)\n",
    "    return response.json()\n",
    "\n",
    "output = query({\"inputs\": \"covid sucks so bad\"})\n",
    "output"
   ]
  },
  {
   "cell_type": "code",
   "execution_count": null,
   "id": "5e60dcaa",
   "metadata": {},
   "outputs": [],
   "source": []
  },
  {
   "cell_type": "code",
   "execution_count": 5,
   "id": "51a0fb6c",
   "metadata": {},
   "outputs": [
    {
     "name": "stdout",
     "output_type": "stream",
     "text": [
      "{0: 'LABEL_0', 1: 'LABEL_1', 2: 'LABEL_2'}\n",
      "{'LABEL_0': 0, 'LABEL_1': 1, 'LABEL_2': 2}\n"
     ]
    }
   ],
   "source": [
    "# change these for different labels\n",
    "print(sequence_classification_model.config.id2label)\n",
    "\n",
    "print(sequence_classification_model.config.label2id)"
   ]
  },
  {
   "cell_type": "code",
   "execution_count": null,
   "id": "16b72809",
   "metadata": {},
   "outputs": [],
   "source": []
  }
 ],
 "metadata": {
  "kernelspec": {
   "display_name": "Python 3 (ipykernel)",
   "language": "python",
   "name": "python3"
  },
  "language_info": {
   "codemirror_mode": {
    "name": "ipython",
    "version": 3
   },
   "file_extension": ".py",
   "mimetype": "text/x-python",
   "name": "python",
   "nbconvert_exporter": "python",
   "pygments_lexer": "ipython3",
   "version": "3.9.9"
  }
 },
 "nbformat": 4,
 "nbformat_minor": 5
}
