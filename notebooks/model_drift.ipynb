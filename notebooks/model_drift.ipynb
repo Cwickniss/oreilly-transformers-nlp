{
 "cells": [
  {
   "cell_type": "code",
   "execution_count": 1,
   "id": "a54932c6",
   "metadata": {},
   "outputs": [],
   "source": [
    "from nlp import load_dataset, Dataset\n",
    "import pandas as pd\n",
    "import re\n",
    "from transformers import Trainer, TrainingArguments, DistilBertForSequenceClassification, DistilBertTokenizerFast\n",
    "from datasets import load_metric\n",
    "import numpy as np\n",
    "from torch.nn import Softmax\n",
    "from torch.utils.data import DataLoader\n",
    "from torch import argmax\n"
   ]
  },
  {
   "cell_type": "code",
   "execution_count": 2,
   "id": "15111327",
   "metadata": {},
   "outputs": [],
   "source": [
    "# # Ingest tweets from the Kaggle Corona Sentiment tweet comopetition\n",
    "\n",
    "# tweets = pd.read_csv('../data/corona_sentiment.csv', encoding='ISO-8859-1')\n",
    "\n",
    "# print(tweets.shape)\n",
    "# tweets = tweets[(tweets['OriginalTweet'].str.len() > 30) & (tweets['OriginalTweet'].str.len() < 200)]\n",
    "# tweets.dropna(subset=['OriginalTweet'], inplace=True)\n",
    "# tweets = tweets[~tweets['OriginalTweet'].isnull()]\n",
    "\n",
    "# print(tweets.shape)\n",
    "# tweets['date'] = pd.to_datetime(tweets['TweetAt']).astype('datetime64[ms]')\n",
    "\n",
    "# tweets.index = tweets['date']\n",
    "# del tweets['date']\n",
    "\n",
    "# tweets.sort_index(inplace=True)\n",
    "\n",
    "# tweets['month'] = tweets.index.month\n",
    "# tweets = pd.concat([tweets[tweets['month'] != 3], tweets[tweets['month'] == 3].sample(2000)])\n",
    "\n",
    "# tweets['month'].value_counts().sort_index().plot(kind='bar')\n",
    "\n",
    "# tweets.to_csv('../data/tweets_sample.csv', index=False, encoding='ISO-8859-1')\n",
    "\n",
    "# tweets.head()\n"
   ]
  },
  {
   "cell_type": "code",
   "execution_count": null,
   "id": "c1a1f5c2",
   "metadata": {},
   "outputs": [],
   "source": []
  },
  {
   "cell_type": "code",
   "execution_count": 3,
   "id": "02f8521e",
   "metadata": {},
   "outputs": [
    {
     "data": {
      "text/html": [
       "<div>\n",
       "<style scoped>\n",
       "    .dataframe tbody tr th:only-of-type {\n",
       "        vertical-align: middle;\n",
       "    }\n",
       "\n",
       "    .dataframe tbody tr th {\n",
       "        vertical-align: top;\n",
       "    }\n",
       "\n",
       "    .dataframe thead th {\n",
       "        text-align: right;\n",
       "    }\n",
       "</style>\n",
       "<table border=\"1\" class=\"dataframe\">\n",
       "  <thead>\n",
       "    <tr style=\"text-align: right;\">\n",
       "      <th></th>\n",
       "      <th>UserName</th>\n",
       "      <th>ScreenName</th>\n",
       "      <th>Location</th>\n",
       "      <th>TweetAt</th>\n",
       "      <th>OriginalTweet</th>\n",
       "      <th>Sentiment</th>\n",
       "      <th>month</th>\n",
       "    </tr>\n",
       "    <tr>\n",
       "      <th>date</th>\n",
       "      <th></th>\n",
       "      <th></th>\n",
       "      <th></th>\n",
       "      <th></th>\n",
       "      <th></th>\n",
       "      <th></th>\n",
       "      <th></th>\n",
       "    </tr>\n",
       "  </thead>\n",
       "  <tbody>\n",
       "    <tr>\n",
       "      <th>2020-01-04</th>\n",
       "      <td>29309</td>\n",
       "      <td>74261</td>\n",
       "      <td>Tidal County, Knoxville, TN</td>\n",
       "      <td>01-04-2020</td>\n",
       "      <td>Overwhelmed with info Before you act stop Ask ...</td>\n",
       "      <td>Positive</td>\n",
       "      <td>1</td>\n",
       "    </tr>\n",
       "    <tr>\n",
       "      <th>2020-01-04</th>\n",
       "      <td>29313</td>\n",
       "      <td>74265</td>\n",
       "      <td>NaN</td>\n",
       "      <td>01-04-2020</td>\n",
       "      <td>Webinar 4 2 3 30p ET Navigating Today s Market...</td>\n",
       "      <td>Neutral</td>\n",
       "      <td>1</td>\n",
       "    </tr>\n",
       "    <tr>\n",
       "      <th>2020-01-04</th>\n",
       "      <td>29314</td>\n",
       "      <td>74266</td>\n",
       "      <td>Edmonton</td>\n",
       "      <td>01-04-2020</td>\n",
       "      <td>The provincial government is increasing its fo...</td>\n",
       "      <td>Negative</td>\n",
       "      <td>1</td>\n",
       "    </tr>\n",
       "    <tr>\n",
       "      <th>2020-01-04</th>\n",
       "      <td>29315</td>\n",
       "      <td>74267</td>\n",
       "      <td>News &amp; Bible verses USA</td>\n",
       "      <td>01-04-2020</td>\n",
       "      <td>Coronavirus: Oil prices could turn negative as...</td>\n",
       "      <td>Negative</td>\n",
       "      <td>1</td>\n",
       "    </tr>\n",
       "    <tr>\n",
       "      <th>2020-01-04</th>\n",
       "      <td>29316</td>\n",
       "      <td>74268</td>\n",
       "      <td>Fort George G. Meade, Md.</td>\n",
       "      <td>01-04-2020</td>\n",
       "      <td>Malwarebytes rounded up some useful tips for s...</td>\n",
       "      <td>Extremely Positive</td>\n",
       "      <td>1</td>\n",
       "    </tr>\n",
       "  </tbody>\n",
       "</table>\n",
       "</div>"
      ],
      "text/plain": [
       "            UserName  ScreenName                     Location     TweetAt  \\\n",
       "date                                                                        \n",
       "2020-01-04     29309       74261  Tidal County, Knoxville, TN  01-04-2020   \n",
       "2020-01-04     29313       74265                          NaN  01-04-2020   \n",
       "2020-01-04     29314       74266                     Edmonton  01-04-2020   \n",
       "2020-01-04     29315       74267      News & Bible verses USA  01-04-2020   \n",
       "2020-01-04     29316       74268    Fort George G. Meade, Md.  01-04-2020   \n",
       "\n",
       "                                                OriginalTweet  \\\n",
       "date                                                            \n",
       "2020-01-04  Overwhelmed with info Before you act stop Ask ...   \n",
       "2020-01-04  Webinar 4 2 3 30p ET Navigating Today s Market...   \n",
       "2020-01-04  The provincial government is increasing its fo...   \n",
       "2020-01-04  Coronavirus: Oil prices could turn negative as...   \n",
       "2020-01-04  Malwarebytes rounded up some useful tips for s...   \n",
       "\n",
       "                     Sentiment  month  \n",
       "date                                   \n",
       "2020-01-04            Positive      1  \n",
       "2020-01-04             Neutral      1  \n",
       "2020-01-04            Negative      1  \n",
       "2020-01-04            Negative      1  \n",
       "2020-01-04  Extremely Positive      1  "
      ]
     },
     "execution_count": 3,
     "metadata": {},
     "output_type": "execute_result"
    }
   ],
   "source": [
    "# read in our tweet sample\n",
    "tweets = pd.read_csv('../data/tweets_sample.csv', encoding='ISO-8859-1')\n",
    "\n",
    "# convert the date to a datetime format\n",
    "tweets['date'] = pd.to_datetime(tweets['TweetAt']).astype('datetime64[ms]')\n",
    "\n",
    "# set our index as our datetime column and delete the date columns\n",
    "tweets.index = tweets['date']\n",
    "del tweets['date']\n",
    "\n",
    "# Sort our tweets\n",
    "tweets.sort_index(inplace=True)\n",
    "\n",
    "tweets.head()"
   ]
  },
  {
   "cell_type": "code",
   "execution_count": 4,
   "id": "4039745b",
   "metadata": {},
   "outputs": [
    {
     "data": {
      "text/plain": [
       "<AxesSubplot:>"
      ]
     },
     "execution_count": 4,
     "metadata": {},
     "output_type": "execute_result"
    },
    {
     "data": {
      "image/png": "[encoded data removed]",
      "text/plain": [
       "<Figure size 432x288 with 1 Axes>"
      ]
     },
     "metadata": {
      "needs_background": "light"
     },
     "output_type": "display_data"
    }
   ],
   "source": [
    "tweets['Sentiment'].hist()"
   ]
  },
  {
   "cell_type": "code",
   "execution_count": 5,
   "id": "e1e79f7d",
   "metadata": {},
   "outputs": [
    {
     "data": {
      "text/plain": [
       "(6842, 7)"
      ]
     },
     "execution_count": 5,
     "metadata": {},
     "output_type": "execute_result"
    }
   ],
   "source": [
    "tweets.dropna(inplace=True)\n",
    "tweets.shape"
   ]
  },
  {
   "cell_type": "code",
   "execution_count": 6,
   "id": "61d2e06f",
   "metadata": {},
   "outputs": [
    {
     "data": {
      "text/plain": [
       "'Overwhelmed with info Before you act stop Ask yourself 1 Who is the message from 2 What do they want me to do 3 What evidence supports this message Then let the answers guide your next steps More via'"
      ]
     },
     "execution_count": 6,
     "metadata": {},
     "output_type": "execute_result"
    }
   ],
   "source": [
    "URL_REGEX = re.compile('http(s)?:\\/\\/t.co\\/\\w+')\n",
    "MENTION_REGEX = re.compile('@\\w+')\n",
    "\n",
    "def clean_tweet(tweet):\n",
    "    # remove mentions, the pound sign, and replace urls with URL token\n",
    "    tweet = re.sub(URL_REGEX, 'url', tweet)  # replace urls with url. Assumes that the mention of a url is significant\n",
    "    tweet = re.sub(MENTION_REGEX, '', tweet)  # remove mentions entirely\n",
    "    tweet = tweet.replace('#', '')  # remove pound signs\n",
    "    \n",
    "    return tweet.strip()\n",
    "\n",
    "clean_tweet(tweets['OriginalTweet'].iloc[0])\n"
   ]
  },
  {
   "cell_type": "code",
   "execution_count": null,
   "id": "2833b55a",
   "metadata": {},
   "outputs": [],
   "source": []
  },
  {
   "cell_type": "code",
   "execution_count": 7,
   "id": "8a4d5215",
   "metadata": {},
   "outputs": [
    {
     "data": {
      "text/plain": [
       "(6842, 7)"
      ]
     },
     "execution_count": 7,
     "metadata": {},
     "output_type": "execute_result"
    }
   ],
   "source": [
    "tweets.shape"
   ]
  },
  {
   "cell_type": "code",
   "execution_count": 8,
   "id": "d3d150aa",
   "metadata": {},
   "outputs": [],
   "source": [
    "tweets = tweets[~tweets['OriginalTweet'].isnull()]"
   ]
  },
  {
   "cell_type": "code",
   "execution_count": 9,
   "id": "1082aa1f",
   "metadata": {},
   "outputs": [
    {
     "data": {
      "text/html": [
       "<div>\n",
       "<style scoped>\n",
       "    .dataframe tbody tr th:only-of-type {\n",
       "        vertical-align: middle;\n",
       "    }\n",
       "\n",
       "    .dataframe tbody tr th {\n",
       "        vertical-align: top;\n",
       "    }\n",
       "\n",
       "    .dataframe thead th {\n",
       "        text-align: right;\n",
       "    }\n",
       "</style>\n",
       "<table border=\"1\" class=\"dataframe\">\n",
       "  <thead>\n",
       "    <tr style=\"text-align: right;\">\n",
       "      <th></th>\n",
       "      <th>UserName</th>\n",
       "      <th>ScreenName</th>\n",
       "      <th>Location</th>\n",
       "      <th>TweetAt</th>\n",
       "      <th>OriginalTweet</th>\n",
       "      <th>Sentiment</th>\n",
       "      <th>month</th>\n",
       "      <th>text</th>\n",
       "    </tr>\n",
       "    <tr>\n",
       "      <th>date</th>\n",
       "      <th></th>\n",
       "      <th></th>\n",
       "      <th></th>\n",
       "      <th></th>\n",
       "      <th></th>\n",
       "      <th></th>\n",
       "      <th></th>\n",
       "      <th></th>\n",
       "    </tr>\n",
       "  </thead>\n",
       "  <tbody>\n",
       "    <tr>\n",
       "      <th>2020-01-04</th>\n",
       "      <td>29309</td>\n",
       "      <td>74261</td>\n",
       "      <td>Tidal County, Knoxville, TN</td>\n",
       "      <td>01-04-2020</td>\n",
       "      <td>Overwhelmed with info Before you act stop Ask ...</td>\n",
       "      <td>Positive</td>\n",
       "      <td>1</td>\n",
       "      <td>Overwhelmed with info Before you act stop Ask ...</td>\n",
       "    </tr>\n",
       "    <tr>\n",
       "      <th>2020-01-04</th>\n",
       "      <td>29314</td>\n",
       "      <td>74266</td>\n",
       "      <td>Edmonton</td>\n",
       "      <td>01-04-2020</td>\n",
       "      <td>The provincial government is increasing its fo...</td>\n",
       "      <td>Negative</td>\n",
       "      <td>1</td>\n",
       "      <td>The provincial government is increasing its fo...</td>\n",
       "    </tr>\n",
       "    <tr>\n",
       "      <th>2020-01-04</th>\n",
       "      <td>29315</td>\n",
       "      <td>74267</td>\n",
       "      <td>News &amp; Bible verses USA</td>\n",
       "      <td>01-04-2020</td>\n",
       "      <td>Coronavirus: Oil prices could turn negative as...</td>\n",
       "      <td>Negative</td>\n",
       "      <td>1</td>\n",
       "      <td>Coronavirus: Oil prices could turn negative as...</td>\n",
       "    </tr>\n",
       "    <tr>\n",
       "      <th>2020-01-04</th>\n",
       "      <td>29316</td>\n",
       "      <td>74268</td>\n",
       "      <td>Fort George G. Meade, Md.</td>\n",
       "      <td>01-04-2020</td>\n",
       "      <td>Malwarebytes rounded up some useful tips for s...</td>\n",
       "      <td>Extremely Positive</td>\n",
       "      <td>1</td>\n",
       "      <td>Malwarebytes rounded up some useful tips for s...</td>\n",
       "    </tr>\n",
       "    <tr>\n",
       "      <th>2020-01-04</th>\n",
       "      <td>29317</td>\n",
       "      <td>74269</td>\n",
       "      <td>Australia</td>\n",
       "      <td>01-04-2020</td>\n",
       "      <td>A Queensland mum has posted a heartbreaking pi...</td>\n",
       "      <td>Extremely Negative</td>\n",
       "      <td>1</td>\n",
       "      <td>A Queensland mum has posted a heartbreaking pi...</td>\n",
       "    </tr>\n",
       "  </tbody>\n",
       "</table>\n",
       "</div>"
      ],
      "text/plain": [
       "            UserName  ScreenName                     Location     TweetAt  \\\n",
       "date                                                                        \n",
       "2020-01-04     29309       74261  Tidal County, Knoxville, TN  01-04-2020   \n",
       "2020-01-04     29314       74266                     Edmonton  01-04-2020   \n",
       "2020-01-04     29315       74267      News & Bible verses USA  01-04-2020   \n",
       "2020-01-04     29316       74268    Fort George G. Meade, Md.  01-04-2020   \n",
       "2020-01-04     29317       74269                    Australia  01-04-2020   \n",
       "\n",
       "                                                OriginalTweet  \\\n",
       "date                                                            \n",
       "2020-01-04  Overwhelmed with info Before you act stop Ask ...   \n",
       "2020-01-04  The provincial government is increasing its fo...   \n",
       "2020-01-04  Coronavirus: Oil prices could turn negative as...   \n",
       "2020-01-04  Malwarebytes rounded up some useful tips for s...   \n",
       "2020-01-04  A Queensland mum has posted a heartbreaking pi...   \n",
       "\n",
       "                     Sentiment  month  \\\n",
       "date                                    \n",
       "2020-01-04            Positive      1   \n",
       "2020-01-04            Negative      1   \n",
       "2020-01-04            Negative      1   \n",
       "2020-01-04  Extremely Positive      1   \n",
       "2020-01-04  Extremely Negative      1   \n",
       "\n",
       "                                                         text  \n",
       "date                                                           \n",
       "2020-01-04  Overwhelmed with info Before you act stop Ask ...  \n",
       "2020-01-04  The provincial government is increasing its fo...  \n",
       "2020-01-04  Coronavirus: Oil prices could turn negative as...  \n",
       "2020-01-04  Malwarebytes rounded up some useful tips for s...  \n",
       "2020-01-04  A Queensland mum has posted a heartbreaking pi...  "
      ]
     },
     "execution_count": 9,
     "metadata": {},
     "output_type": "execute_result"
    }
   ],
   "source": [
    "tweets['text'] = tweets['OriginalTweet'].apply(clean_tweet)\n",
    "\n",
    "tweets.head()"
   ]
  },
  {
   "cell_type": "code",
   "execution_count": 10,
   "id": "a745f506",
   "metadata": {},
   "outputs": [],
   "source": [
    "tweets['sentiment'] = tweets['Sentiment'].map({\n",
    "    'Extremely Negative': 0,\n",
    "    'Negative': 0,\n",
    "    'Neutral': 1,\n",
    "    'Positive': 2,\n",
    "    'Extremely Positive': 2\n",
    "})"
   ]
  },
  {
   "cell_type": "code",
   "execution_count": 11,
   "id": "76df15dd",
   "metadata": {},
   "outputs": [
    {
     "data": {
      "text/plain": [
       "<AxesSubplot:>"
      ]
     },
     "execution_count": 11,
     "metadata": {},
     "output_type": "execute_result"
    },
    {
     "data": {
      "image/png": "[encoded data removed]",
      "text/plain": [
       "<Figure size 432x288 with 1 Axes>"
      ]
     },
     "metadata": {
      "needs_background": "light"
     },
     "output_type": "display_data"
    }
   ],
   "source": [
    "tweets['sentiment'].hist()"
   ]
  },
  {
   "cell_type": "code",
   "execution_count": 12,
   "id": "fa589819",
   "metadata": {},
   "outputs": [
    {
     "data": {
      "text/plain": [
       "<AxesSubplot:>"
      ]
     },
     "execution_count": 12,
     "metadata": {},
     "output_type": "execute_result"
    },
    {
     "data": {
      "image/png": "[encoded data removed]",
      "text/plain": [
       "<Figure size 432x288 with 1 Axes>"
      ]
     },
     "metadata": {
      "needs_background": "light"
     },
     "output_type": "display_data"
    }
   ],
   "source": [
    "tweets['text'].apply(len).hist()"
   ]
  },
  {
   "cell_type": "code",
   "execution_count": 13,
   "id": "e5f2ccc5",
   "metadata": {},
   "outputs": [
    {
     "data": {
      "text/plain": [
       "<AxesSubplot:xlabel='date'>"
      ]
     },
     "execution_count": 13,
     "metadata": {},
     "output_type": "execute_result"
    },
    {
     "data": {
      "image/png": "[encoded data removed]",
      "text/plain": [
       "<Figure size 432x288 with 1 Axes>"
      ]
     },
     "metadata": {
      "needs_background": "light"
     },
     "output_type": "display_data"
    }
   ],
   "source": [
    "tweets.groupby('date')['sentiment'].value_counts(normalize=True).unstack().rolling(3).mean().plot()"
   ]
  },
  {
   "cell_type": "code",
   "execution_count": 14,
   "id": "c9e4f3a9",
   "metadata": {},
   "outputs": [],
   "source": [
    "# the trainer is expecting a 'label' (see the forward method in the docs)\n",
    "tweets['label'] = tweets['sentiment']"
   ]
  },
  {
   "cell_type": "code",
   "execution_count": 15,
   "id": "31c34887",
   "metadata": {},
   "outputs": [
    {
     "data": {
      "text/html": [
       "<div>\n",
       "<style scoped>\n",
       "    .dataframe tbody tr th:only-of-type {\n",
       "        vertical-align: middle;\n",
       "    }\n",
       "\n",
       "    .dataframe tbody tr th {\n",
       "        vertical-align: top;\n",
       "    }\n",
       "\n",
       "    .dataframe thead th {\n",
       "        text-align: right;\n",
       "    }\n",
       "</style>\n",
       "<table border=\"1\" class=\"dataframe\">\n",
       "  <thead>\n",
       "    <tr style=\"text-align: right;\">\n",
       "      <th></th>\n",
       "      <th>date</th>\n",
       "      <th>UserName</th>\n",
       "      <th>ScreenName</th>\n",
       "      <th>Location</th>\n",
       "      <th>TweetAt</th>\n",
       "      <th>OriginalTweet</th>\n",
       "      <th>Sentiment</th>\n",
       "      <th>month</th>\n",
       "      <th>text</th>\n",
       "      <th>sentiment</th>\n",
       "      <th>label</th>\n",
       "    </tr>\n",
       "  </thead>\n",
       "  <tbody>\n",
       "    <tr>\n",
       "      <th>2152</th>\n",
       "      <td>2020-03-31</td>\n",
       "      <td>29068</td>\n",
       "      <td>74020</td>\n",
       "      <td>New York, NY</td>\n",
       "      <td>31-03-2020</td>\n",
       "      <td>What this says to me is that so far, the fallo...</td>\n",
       "      <td>Negative</td>\n",
       "      <td>3</td>\n",
       "      <td>What this says to me is that so far, the fallo...</td>\n",
       "      <td>0</td>\n",
       "      <td>0</td>\n",
       "    </tr>\n",
       "    <tr>\n",
       "      <th>2153</th>\n",
       "      <td>2020-03-31</td>\n",
       "      <td>28990</td>\n",
       "      <td>73942</td>\n",
       "      <td>Australia</td>\n",
       "      <td>31-03-2020</td>\n",
       "      <td>#Wasteful panic-buyers are throwing away perfe...</td>\n",
       "      <td>Positive</td>\n",
       "      <td>3</td>\n",
       "      <td>Wasteful panic-buyers are throwing away perfec...</td>\n",
       "      <td>2</td>\n",
       "      <td>2</td>\n",
       "    </tr>\n",
       "    <tr>\n",
       "      <th>2154</th>\n",
       "      <td>2020-03-31</td>\n",
       "      <td>29252</td>\n",
       "      <td>74204</td>\n",
       "      <td>Washington</td>\n",
       "      <td>31-03-2020</td>\n",
       "      <td>A weird consequence of the #coronavirus pandem...</td>\n",
       "      <td>Negative</td>\n",
       "      <td>3</td>\n",
       "      <td>A weird consequence of the coronavirus pandemi...</td>\n",
       "      <td>0</td>\n",
       "      <td>0</td>\n",
       "    </tr>\n",
       "    <tr>\n",
       "      <th>2155</th>\n",
       "      <td>2020-03-31</td>\n",
       "      <td>29276</td>\n",
       "      <td>74228</td>\n",
       "      <td>Geneva, Switzerland</td>\n",
       "      <td>31-03-2020</td>\n",
       "      <td>EuropeÂs fresh food supply is being threatene...</td>\n",
       "      <td>Negative</td>\n",
       "      <td>3</td>\n",
       "      <td>EuropeÂs fresh food supply is being threatene...</td>\n",
       "      <td>0</td>\n",
       "      <td>0</td>\n",
       "    </tr>\n",
       "    <tr>\n",
       "      <th>2156</th>\n",
       "      <td>2020-03-31</td>\n",
       "      <td>29047</td>\n",
       "      <td>73999</td>\n",
       "      <td>Hogwarts</td>\n",
       "      <td>31-03-2020</td>\n",
       "      <td>Online-shopping without actually being able to...</td>\n",
       "      <td>Neutral</td>\n",
       "      <td>3</td>\n",
       "      <td>Online-shopping without actually being able to...</td>\n",
       "      <td>1</td>\n",
       "      <td>1</td>\n",
       "    </tr>\n",
       "  </tbody>\n",
       "</table>\n",
       "</div>"
      ],
      "text/plain": [
       "           date  UserName  ScreenName             Location     TweetAt  \\\n",
       "2152 2020-03-31     29068       74020         New York, NY  31-03-2020   \n",
       "2153 2020-03-31     28990       73942            Australia  31-03-2020   \n",
       "2154 2020-03-31     29252       74204           Washington  31-03-2020   \n",
       "2155 2020-03-31     29276       74228  Geneva, Switzerland  31-03-2020   \n",
       "2156 2020-03-31     29047       73999             Hogwarts  31-03-2020   \n",
       "\n",
       "                                          OriginalTweet Sentiment  month  \\\n",
       "2152  What this says to me is that so far, the fallo...  Negative      3   \n",
       "2153  #Wasteful panic-buyers are throwing away perfe...  Positive      3   \n",
       "2154  A weird consequence of the #coronavirus pandem...  Negative      3   \n",
       "2155  EuropeÂs fresh food supply is being threatene...  Negative      3   \n",
       "2156  Online-shopping without actually being able to...   Neutral      3   \n",
       "\n",
       "                                                   text  sentiment  label  \n",
       "2152  What this says to me is that so far, the fallo...          0      0  \n",
       "2153  Wasteful panic-buyers are throwing away perfec...          2      2  \n",
       "2154  A weird consequence of the coronavirus pandemi...          0      0  \n",
       "2155  EuropeÂs fresh food supply is being threatene...          0      0  \n",
       "2156  Online-shopping without actually being able to...          1      1  "
      ]
     },
     "execution_count": 15,
     "metadata": {},
     "output_type": "execute_result"
    }
   ],
   "source": [
    "training_tweets = tweets[:'2020-03']\n",
    "training_tweets.reset_index(inplace=True)\n",
    "training_tweets.tail()\n"
   ]
  },
  {
   "cell_type": "code",
   "execution_count": 16,
   "id": "c93bffd8",
   "metadata": {},
   "outputs": [
    {
     "data": {
      "application/vnd.jupyter.widget-view+json": {
       "model_id": "cac83c847ea941c9a2e6e1de3e4ceb37",
       "version_major": 2,
       "version_minor": 0
      },
      "text/plain": [
       "  0%|          | 0/2 [00:00<?, ?it/s]"
      ]
     },
     "metadata": {},
     "output_type": "display_data"
    },
    {
     "data": {
      "application/vnd.jupyter.widget-view+json": {
       "model_id": "230ee2e5fd8a4e27bd8934ae0f3eec22",
       "version_major": 2,
       "version_minor": 0
      },
      "text/plain": [
       "  0%|          | 0/1 [00:00<?, ?it/s]"
      ]
     },
     "metadata": {},
     "output_type": "display_data"
    }
   ],
   "source": [
    "\n",
    "tweet_dataset = Dataset.from_pandas(training_tweets[['text', 'label']])\n",
    "\n",
    "# Dataset has a built in train test split method\n",
    "tweet_dataset = tweet_dataset.train_test_split(test_size=0.2)\n",
    "\n",
    "train_set = tweet_dataset['train']\n",
    "test_set = tweet_dataset['test']"
   ]
  },
  {
   "cell_type": "code",
   "execution_count": 17,
   "id": "41e0e79e",
   "metadata": {},
   "outputs": [
    {
     "data": {
      "text/html": [
       "<div>\n",
       "<style scoped>\n",
       "    .dataframe tbody tr th:only-of-type {\n",
       "        vertical-align: middle;\n",
       "    }\n",
       "\n",
       "    .dataframe tbody tr th {\n",
       "        vertical-align: top;\n",
       "    }\n",
       "\n",
       "    .dataframe thead th {\n",
       "        text-align: right;\n",
       "    }\n",
       "</style>\n",
       "<table border=\"1\" class=\"dataframe\">\n",
       "  <thead>\n",
       "    <tr style=\"text-align: right;\">\n",
       "      <th></th>\n",
       "      <th>UserName</th>\n",
       "      <th>ScreenName</th>\n",
       "      <th>Location</th>\n",
       "      <th>TweetAt</th>\n",
       "      <th>OriginalTweet</th>\n",
       "      <th>Sentiment</th>\n",
       "      <th>month</th>\n",
       "      <th>text</th>\n",
       "      <th>sentiment</th>\n",
       "      <th>label</th>\n",
       "    </tr>\n",
       "    <tr>\n",
       "      <th>date</th>\n",
       "      <th></th>\n",
       "      <th></th>\n",
       "      <th></th>\n",
       "      <th></th>\n",
       "      <th></th>\n",
       "      <th></th>\n",
       "      <th></th>\n",
       "      <th></th>\n",
       "      <th></th>\n",
       "      <th></th>\n",
       "    </tr>\n",
       "  </thead>\n",
       "  <tbody>\n",
       "    <tr>\n",
       "      <th>2020-01-04</th>\n",
       "      <td>29309</td>\n",
       "      <td>74261</td>\n",
       "      <td>Tidal County, Knoxville, TN</td>\n",
       "      <td>01-04-2020</td>\n",
       "      <td>Overwhelmed with info Before you act stop Ask ...</td>\n",
       "      <td>Positive</td>\n",
       "      <td>1</td>\n",
       "      <td>Overwhelmed with info Before you act stop Ask ...</td>\n",
       "      <td>2</td>\n",
       "      <td>2</td>\n",
       "    </tr>\n",
       "    <tr>\n",
       "      <th>2020-01-04</th>\n",
       "      <td>29314</td>\n",
       "      <td>74266</td>\n",
       "      <td>Edmonton</td>\n",
       "      <td>01-04-2020</td>\n",
       "      <td>The provincial government is increasing its fo...</td>\n",
       "      <td>Negative</td>\n",
       "      <td>1</td>\n",
       "      <td>The provincial government is increasing its fo...</td>\n",
       "      <td>0</td>\n",
       "      <td>0</td>\n",
       "    </tr>\n",
       "    <tr>\n",
       "      <th>2020-01-04</th>\n",
       "      <td>29315</td>\n",
       "      <td>74267</td>\n",
       "      <td>News &amp; Bible verses USA</td>\n",
       "      <td>01-04-2020</td>\n",
       "      <td>Coronavirus: Oil prices could turn negative as...</td>\n",
       "      <td>Negative</td>\n",
       "      <td>1</td>\n",
       "      <td>Coronavirus: Oil prices could turn negative as...</td>\n",
       "      <td>0</td>\n",
       "      <td>0</td>\n",
       "    </tr>\n",
       "    <tr>\n",
       "      <th>2020-01-04</th>\n",
       "      <td>29316</td>\n",
       "      <td>74268</td>\n",
       "      <td>Fort George G. Meade, Md.</td>\n",
       "      <td>01-04-2020</td>\n",
       "      <td>Malwarebytes rounded up some useful tips for s...</td>\n",
       "      <td>Extremely Positive</td>\n",
       "      <td>1</td>\n",
       "      <td>Malwarebytes rounded up some useful tips for s...</td>\n",
       "      <td>2</td>\n",
       "      <td>2</td>\n",
       "    </tr>\n",
       "    <tr>\n",
       "      <th>2020-01-04</th>\n",
       "      <td>29317</td>\n",
       "      <td>74269</td>\n",
       "      <td>Australia</td>\n",
       "      <td>01-04-2020</td>\n",
       "      <td>A Queensland mum has posted a heartbreaking pi...</td>\n",
       "      <td>Extremely Negative</td>\n",
       "      <td>1</td>\n",
       "      <td>A Queensland mum has posted a heartbreaking pi...</td>\n",
       "      <td>0</td>\n",
       "      <td>0</td>\n",
       "    </tr>\n",
       "  </tbody>\n",
       "</table>\n",
       "</div>"
      ],
      "text/plain": [
       "            UserName  ScreenName                     Location     TweetAt  \\\n",
       "date                                                                        \n",
       "2020-01-04     29309       74261  Tidal County, Knoxville, TN  01-04-2020   \n",
       "2020-01-04     29314       74266                     Edmonton  01-04-2020   \n",
       "2020-01-04     29315       74267      News & Bible verses USA  01-04-2020   \n",
       "2020-01-04     29316       74268    Fort George G. Meade, Md.  01-04-2020   \n",
       "2020-01-04     29317       74269                    Australia  01-04-2020   \n",
       "\n",
       "                                                OriginalTweet  \\\n",
       "date                                                            \n",
       "2020-01-04  Overwhelmed with info Before you act stop Ask ...   \n",
       "2020-01-04  The provincial government is increasing its fo...   \n",
       "2020-01-04  Coronavirus: Oil prices could turn negative as...   \n",
       "2020-01-04  Malwarebytes rounded up some useful tips for s...   \n",
       "2020-01-04  A Queensland mum has posted a heartbreaking pi...   \n",
       "\n",
       "                     Sentiment  month  \\\n",
       "date                                    \n",
       "2020-01-04            Positive      1   \n",
       "2020-01-04            Negative      1   \n",
       "2020-01-04            Negative      1   \n",
       "2020-01-04  Extremely Positive      1   \n",
       "2020-01-04  Extremely Negative      1   \n",
       "\n",
       "                                                         text  sentiment  \\\n",
       "date                                                                       \n",
       "2020-01-04  Overwhelmed with info Before you act stop Ask ...          2   \n",
       "2020-01-04  The provincial government is increasing its fo...          0   \n",
       "2020-01-04  Coronavirus: Oil prices could turn negative as...          0   \n",
       "2020-01-04  Malwarebytes rounded up some useful tips for s...          2   \n",
       "2020-01-04  A Queensland mum has posted a heartbreaking pi...          0   \n",
       "\n",
       "            label  \n",
       "date               \n",
       "2020-01-04      2  \n",
       "2020-01-04      0  \n",
       "2020-01-04      0  \n",
       "2020-01-04      2  \n",
       "2020-01-04      0  "
      ]
     },
     "execution_count": 17,
     "metadata": {},
     "output_type": "execute_result"
    }
   ],
   "source": [
    "tweets.head()"
   ]
  },
  {
   "cell_type": "code",
   "execution_count": 18,
   "id": "4a87677f",
   "metadata": {
    "scrolled": true
   },
   "outputs": [],
   "source": [
    "BERT_MODEL = 'distilbert-base-uncased'\n",
    "\n",
    "if 'distilbert' in BERT_MODEL:\n",
    "    bert_tokenizer = DistilBertTokenizerFast.from_pretrained(BERT_MODEL)\n",
    "else:\n",
    "    bert_tokenizer = BertTokenizer.from_pretrained(BERT_MODEL)"
   ]
  },
  {
   "cell_type": "code",
   "execution_count": 19,
   "id": "e62eeeaa",
   "metadata": {},
   "outputs": [
    {
     "data": {
      "application/vnd.jupyter.widget-view+json": {
       "model_id": "111a8858ebc0413f8b34094da9204006",
       "version_major": 2,
       "version_minor": 0
      },
      "text/plain": [
       "  0%|          | 0/1 [00:00<?, ?it/s]"
      ]
     },
     "metadata": {},
     "output_type": "display_data"
    },
    {
     "data": {
      "application/vnd.jupyter.widget-view+json": {
       "model_id": "0225793a28c247c0ba45dc1f9c9c4f06",
       "version_major": 2,
       "version_minor": 0
      },
      "text/plain": [
       "  0%|          | 0/1 [00:00<?, ?it/s]"
      ]
     },
     "metadata": {},
     "output_type": "display_data"
    }
   ],
   "source": [
    "# We will pad our dataset so that our input matrices are the same length and truncate anything longer than 512 tokens\n",
    "def preprocess(data):\n",
    "    return bert_tokenizer(data['text'], padding=True, truncation=True, max_length=128)\n",
    "\n",
    "train_set = train_set.map(preprocess, batched=True, batch_size=len(train_set))\n",
    "test_set = test_set.map(preprocess, batched=True, batch_size=len(test_set))\n",
    "\n",
    "train_set.set_format('torch', columns=['input_ids', 'attention_mask', 'label'])\n",
    "test_set.set_format('torch', columns=['input_ids', 'attention_mask', 'label'])"
   ]
  },
  {
   "cell_type": "code",
   "execution_count": 20,
   "id": "e99c98c4",
   "metadata": {
    "scrolled": true
   },
   "outputs": [
    {
     "name": "stderr",
     "output_type": "stream",
     "text": [
      "Some weights of the model checkpoint at distilbert-base-uncased were not used when initializing DistilBertForSequenceClassification: ['vocab_projector.weight', 'vocab_transform.weight', 'vocab_transform.bias', 'vocab_layer_norm.bias', 'vocab_projector.bias', 'vocab_layer_norm.weight']\n",
      "- This IS expected if you are initializing DistilBertForSequenceClassification from the checkpoint of a model trained on another task or with another architecture (e.g. initializing a BertForSequenceClassification model from a BertForPreTraining model).\n",
      "- This IS NOT expected if you are initializing DistilBertForSequenceClassification from the checkpoint of a model that you expect to be exactly identical (initializing a BertForSequenceClassification model from a BertForSequenceClassification model).\n",
      "Some weights of DistilBertForSequenceClassification were not initialized from the model checkpoint at distilbert-base-uncased and are newly initialized: ['classifier.weight', 'classifier.bias', 'pre_classifier.bias', 'pre_classifier.weight']\n",
      "You should probably TRAIN this model on a down-stream task to be able to use it for predictions and inference.\n"
     ]
    }
   ],
   "source": [
    "sequence_classification_model = DistilBertForSequenceClassification.from_pretrained(\n",
    "    BERT_MODEL, num_labels=3,\n",
    "    output_attentions = False, # Whether the model returns attentions weights.\n",
    "    output_hidden_states = False # Whether the model returns all hidden-states.\n",
    ")"
   ]
  },
  {
   "cell_type": "code",
   "execution_count": 21,
   "id": "31537615",
   "metadata": {},
   "outputs": [],
   "source": [
    "metric = load_metric(\"accuracy\")\n",
    "\n",
    "def compute_metrics(eval_pred):\n",
    "    logits, labels = eval_pred\n",
    "    predictions = np.argmax(logits, axis=-1)\n",
    "    return metric.compute(predictions=predictions, references=labels)"
   ]
  },
  {
   "cell_type": "code",
   "execution_count": 22,
   "id": "36d2a137",
   "metadata": {},
   "outputs": [
    {
     "data": {
      "text/plain": [
       "1725"
      ]
     },
     "execution_count": 22,
     "metadata": {},
     "output_type": "execute_result"
    }
   ],
   "source": [
    "len(train_set)"
   ]
  },
  {
   "cell_type": "code",
   "execution_count": 23,
   "id": "d8842fcf",
   "metadata": {},
   "outputs": [],
   "source": [
    "batch_size = 64\n",
    "epochs = 4\n",
    "\n",
    "warmup_steps = len(train_set) // 5\n",
    "weight_decay = 0.05\n",
    "\n",
    "training_args = TrainingArguments(\n",
    "    output_dir='./clf/results',\n",
    "    num_train_epochs=epochs,\n",
    "    per_device_train_batch_size=batch_size,\n",
    "    per_device_eval_batch_size=batch_size,\n",
    "    warmup_steps=warmup_steps,\n",
    "    weight_decay=weight_decay,\n",
    "    logging_dir='./clf/logs',\n",
    "    logging_strategy='epoch',\n",
    "    logging_first_step=True,\n",
    ")\n",
    "\n",
    "# Define the trainer: \n",
    "\n",
    "trainer = Trainer(\n",
    "    model=sequence_classification_model,\n",
    "    args=training_args,\n",
    "    train_dataset=train_set,\n",
    "    eval_dataset=test_set,\n",
    "    compute_metrics=compute_metrics\n",
    ")"
   ]
  },
  {
   "cell_type": "code",
   "execution_count": 24,
   "id": "c0d91543",
   "metadata": {},
   "outputs": [
    {
     "data": {
      "text/plain": [
       "tensor([[0.3472, 0.3176, 0.3351]], grad_fn=<SoftmaxBackward0>)"
      ]
     },
     "execution_count": 24,
     "metadata": {},
     "output_type": "execute_result"
    }
   ],
   "source": [
    "Softmax(dim=1)(sequence_classification_model(\n",
    "    bert_tokenizer.encode(clean_tweet('Corona Virus sucks so bad'), return_tensors='pt')).logits)"
   ]
  },
  {
   "cell_type": "code",
   "execution_count": 67,
   "id": "1b992b37",
   "metadata": {},
   "outputs": [
    {
     "name": "stderr",
     "output_type": "stream",
     "text": [
      "***** Running Evaluation *****\n",
      "  Num examples = 432\n",
      "  Batch size = 64\n"
     ]
    },
    {
     "data": {
      "text/html": [
       "\n",
       "    <div>\n",
       "      \n",
       "      <progress value='21' max='7' style='width:300px; height:20px; vertical-align: middle;'></progress>\n",
       "      [7/7 06:14]\n",
       "    </div>\n",
       "    "
      ],
      "text/plain": [
       "<IPython.core.display.HTML object>"
      ]
     },
     "metadata": {},
     "output_type": "display_data"
    },
    {
     "data": {
      "text/plain": [
       "{'eval_loss': 1.1131409406661987,\n",
       " 'eval_accuracy': 0.3148148148148148,\n",
       " 'eval_runtime': 3.0531,\n",
       " 'eval_samples_per_second': 141.496,\n",
       " 'eval_steps_per_second': 2.293}"
      ]
     },
     "execution_count": 67,
     "metadata": {},
     "output_type": "execute_result"
    }
   ],
   "source": [
    "trainer.evaluate()"
   ]
  },
  {
   "cell_type": "code",
   "execution_count": 76,
   "id": "aa832b43",
   "metadata": {
    "scrolled": true
   },
   "outputs": [
    {
     "name": "stderr",
     "output_type": "stream",
     "text": [
      "***** Running training *****\n",
      "  Num examples = 1725\n",
      "  Num Epochs = 2\n",
      "  Instantaneous batch size per device = 64\n",
      "  Total train batch size (w. parallel, distributed & accumulation) = 64\n",
      "  Gradient Accumulation steps = 1\n",
      "  Total optimization steps = 54\n"
     ]
    },
    {
     "data": {
      "text/html": [
       "\n",
       "    <div>\n",
       "      \n",
       "      <progress value='54' max='54' style='width:300px; height:20px; vertical-align: middle;'></progress>\n",
       "      [54/54 02:38, Epoch 2/2]\n",
       "    </div>\n",
       "    <table border=\"1\" class=\"dataframe\">\n",
       "  <thead>\n",
       "    <tr style=\"text-align: left;\">\n",
       "      <th>Step</th>\n",
       "      <th>Training Loss</th>\n",
       "    </tr>\n",
       "  </thead>\n",
       "  <tbody>\n",
       "    <tr>\n",
       "      <td>1</td>\n",
       "      <td>1.054400</td>\n",
       "    </tr>\n",
       "    <tr>\n",
       "      <td>27</td>\n",
       "      <td>1.053000</td>\n",
       "    </tr>\n",
       "    <tr>\n",
       "      <td>54</td>\n",
       "      <td>0.918600</td>\n",
       "    </tr>\n",
       "  </tbody>\n",
       "</table><p>"
      ],
      "text/plain": [
       "<IPython.core.display.HTML object>"
      ]
     },
     "metadata": {},
     "output_type": "display_data"
    },
    {
     "name": "stderr",
     "output_type": "stream",
     "text": [
      "\n",
      "\n",
      "Training completed. Do not forget to share your model on huggingface.co/models =)\n",
      "\n",
      "\n"
     ]
    },
    {
     "data": {
      "text/plain": [
       "TrainOutput(global_step=54, training_loss=0.9858510582535355, metrics={'train_runtime': 162.9347, 'train_samples_per_second': 21.174, 'train_steps_per_second': 0.331, 'total_flos': 86583995169300.0, 'train_loss': 0.9858510582535355, 'epoch': 2.0})"
      ]
     },
     "execution_count": 76,
     "metadata": {},
     "output_type": "execute_result"
    }
   ],
   "source": [
    "trainer.train()"
   ]
  },
  {
   "cell_type": "code",
   "execution_count": 77,
   "id": "b64123a5",
   "metadata": {},
   "outputs": [
    {
     "name": "stderr",
     "output_type": "stream",
     "text": [
      "***** Running Evaluation *****\n",
      "  Num examples = 432\n",
      "  Batch size = 64\n"
     ]
    },
    {
     "data": {
      "text/plain": [
       "{'eval_loss': 0.8735637068748474,\n",
       " 'eval_accuracy': 0.6203703703703703,\n",
       " 'eval_runtime': 3.156,\n",
       " 'eval_samples_per_second': 136.881,\n",
       " 'eval_steps_per_second': 2.218,\n",
       " 'epoch': 2.0}"
      ]
     },
     "execution_count": 77,
     "metadata": {},
     "output_type": "execute_result"
    }
   ],
   "source": [
    "trainer.evaluate()"
   ]
  },
  {
   "cell_type": "code",
   "execution_count": 78,
   "id": "fd2b3bee",
   "metadata": {},
   "outputs": [
    {
     "data": {
      "text/plain": [
       "tensor([[0.3692, 0.2859, 0.3449]], grad_fn=<SoftmaxBackward0>)"
      ]
     },
     "execution_count": 78,
     "metadata": {},
     "output_type": "execute_result"
    }
   ],
   "source": [
    "Softmax(dim=1)(sequence_classification_model(\n",
    "    bert_tokenizer.encode(clean_tweet('Corona Virus sucks so bad'), return_tensors='pt')).logits)"
   ]
  },
  {
   "cell_type": "code",
   "execution_count": null,
   "id": "394b1bc6",
   "metadata": {},
   "outputs": [],
   "source": []
  },
  {
   "cell_type": "code",
   "execution_count": 79,
   "id": "de6ece8c",
   "metadata": {},
   "outputs": [
    {
     "name": "stderr",
     "output_type": "stream",
     "text": [
      "Saving model checkpoint to ./clf/results\n",
      "Configuration saved in ./clf/results/config.json\n",
      "Model weights saved in ./clf/results/pytorch_model.bin\n"
     ]
    }
   ],
   "source": [
    "trainer.save_model()"
   ]
  },
  {
   "cell_type": "code",
   "execution_count": null,
   "id": "9873fe83",
   "metadata": {},
   "outputs": [],
   "source": []
  },
  {
   "cell_type": "code",
   "execution_count": null,
   "id": "4f9dbc7f",
   "metadata": {},
   "outputs": [],
   "source": []
  },
  {
   "cell_type": "code",
   "execution_count": 80,
   "id": "71660eee",
   "metadata": {},
   "outputs": [],
   "source": []
  },
  {
   "cell_type": "code",
   "execution_count": null,
   "id": "bb96c699",
   "metadata": {},
   "outputs": [],
   "source": []
  },
  {
   "cell_type": "code",
   "execution_count": null,
   "id": "b10d09ec",
   "metadata": {},
   "outputs": [],
   "source": []
  },
  {
   "cell_type": "code",
   "execution_count": null,
   "id": "4d8d3811",
   "metadata": {},
   "outputs": [],
   "source": []
  },
  {
   "cell_type": "code",
   "execution_count": 25,
   "id": "81733e5e",
   "metadata": {
    "scrolled": true
   },
   "outputs": [
    {
     "name": "stderr",
     "output_type": "stream",
     "text": [
      "loading configuration file ./clf/results/config.json\n",
      "Model config DistilBertConfig {\n",
      "  \"_name_or_path\": \"distilbert-base-uncased\",\n",
      "  \"activation\": \"gelu\",\n",
      "  \"architectures\": [\n",
      "    \"DistilBertForSequenceClassification\"\n",
      "  ],\n",
      "  \"attention_dropout\": 0.1,\n",
      "  \"dim\": 768,\n",
      "  \"dropout\": 0.1,\n",
      "  \"hidden_dim\": 3072,\n",
      "  \"id2label\": {\n",
      "    \"0\": \"LABEL_0\",\n",
      "    \"1\": \"LABEL_1\",\n",
      "    \"2\": \"LABEL_2\"\n",
      "  },\n",
      "  \"initializer_range\": 0.02,\n",
      "  \"label2id\": {\n",
      "    \"LABEL_0\": 0,\n",
      "    \"LABEL_1\": 1,\n",
      "    \"LABEL_2\": 2\n",
      "  },\n",
      "  \"max_position_embeddings\": 512,\n",
      "  \"model_type\": \"distilbert\",\n",
      "  \"n_heads\": 12,\n",
      "  \"n_layers\": 6,\n",
      "  \"pad_token_id\": 0,\n",
      "  \"problem_type\": \"single_label_classification\",\n",
      "  \"qa_dropout\": 0.1,\n",
      "  \"seq_classif_dropout\": 0.2,\n",
      "  \"sinusoidal_pos_embds\": false,\n",
      "  \"tie_weights_\": true,\n",
      "  \"torch_dtype\": \"float32\",\n",
      "  \"transformers_version\": \"4.13.0\",\n",
      "  \"vocab_size\": 30522\n",
      "}\n",
      "\n",
      "loading weights file ./clf/results/pytorch_model.bin\n",
      "All model checkpoint weights were used when initializing DistilBertForSequenceClassification.\n",
      "\n",
      "All the weights of DistilBertForSequenceClassification were initialized from the model checkpoint at ./clf/results.\n",
      "If your task is similar to the task the model of the checkpoint was trained on, you can already use DistilBertForSequenceClassification for predictions without further training.\n"
     ]
    },
    {
     "name": "stdout",
     "output_type": "stream",
     "text": [
      "ready for eval\n"
     ]
    }
   ],
   "source": [
    "sequence_classification_model = DistilBertForSequenceClassification.from_pretrained(\n",
    "    './clf/results', num_labels=3\n",
    ")\n",
    "sequence_classification_model.eval()\n",
    "\n",
    "print('ready for eval')"
   ]
  },
  {
   "cell_type": "code",
   "execution_count": 26,
   "id": "4dcae382",
   "metadata": {},
   "outputs": [],
   "source": [
    "import gc\n",
    "\n",
    "# My mac is a new one running Monterey and memory leaks are unfortunately a problem\n",
    "def garbage(debug=False):\n",
    "    if debug:\n",
    "        print(gc.get_count())\n",
    "    gc.collect()\n",
    "    if debug:\n",
    "        print(gc.get_count())"
   ]
  },
  {
   "cell_type": "code",
   "execution_count": 28,
   "id": "5b8e2d2e",
   "metadata": {},
   "outputs": [
    {
     "name": "stdout",
     "output_type": "stream",
     "text": [
      "(91, 0, 0)\n",
      "(35, 0, 0)\n"
     ]
    }
   ],
   "source": [
    "garbage(debug=True)"
   ]
  },
  {
   "cell_type": "code",
   "execution_count": null,
   "id": "4343ff29",
   "metadata": {},
   "outputs": [],
   "source": []
  },
  {
   "cell_type": "code",
   "execution_count": 27,
   "id": "d0eb51f6",
   "metadata": {
    "scrolled": true
   },
   "outputs": [
    {
     "name": "stderr",
     "output_type": "stream",
     "text": [
      "100%|████████████████████████████████████████████████████████████████████████████████████████████████████████████████████████████| 9/9 [00:58<00:00,  6.48s/it]\n"
     ]
    }
   ],
   "source": [
    "from tqdm import tqdm\n",
    "\n",
    "tweets['predicted_label'] = None\n",
    "\n",
    "for month in tqdm(range(4, 13)):\n",
    "    tweets.loc[f'2020-{month}', 'predicted_label'] = sequence_classification_model(\n",
    "        **bert_tokenizer.batch_encode_plus(tweets.loc[f'2020-{month}']['text'].tolist(), return_tensors='pt', padding=True)\n",
    "    ).logits.argmax(1)\n",
    "    garbage()"
   ]
  },
  {
   "cell_type": "code",
   "execution_count": 28,
   "id": "5b7c445e",
   "metadata": {},
   "outputs": [
    {
     "data": {
      "text/html": [
       "<div>\n",
       "<style scoped>\n",
       "    .dataframe tbody tr th:only-of-type {\n",
       "        vertical-align: middle;\n",
       "    }\n",
       "\n",
       "    .dataframe tbody tr th {\n",
       "        vertical-align: top;\n",
       "    }\n",
       "\n",
       "    .dataframe thead th {\n",
       "        text-align: right;\n",
       "    }\n",
       "</style>\n",
       "<table border=\"1\" class=\"dataframe\">\n",
       "  <thead>\n",
       "    <tr style=\"text-align: right;\">\n",
       "      <th></th>\n",
       "      <th>UserName</th>\n",
       "      <th>ScreenName</th>\n",
       "      <th>Location</th>\n",
       "      <th>TweetAt</th>\n",
       "      <th>OriginalTweet</th>\n",
       "      <th>Sentiment</th>\n",
       "      <th>month</th>\n",
       "      <th>text</th>\n",
       "      <th>sentiment</th>\n",
       "      <th>label</th>\n",
       "      <th>predicted_label</th>\n",
       "    </tr>\n",
       "    <tr>\n",
       "      <th>date</th>\n",
       "      <th></th>\n",
       "      <th></th>\n",
       "      <th></th>\n",
       "      <th></th>\n",
       "      <th></th>\n",
       "      <th></th>\n",
       "      <th></th>\n",
       "      <th></th>\n",
       "      <th></th>\n",
       "      <th></th>\n",
       "      <th></th>\n",
       "    </tr>\n",
       "  </thead>\n",
       "  <tbody>\n",
       "    <tr>\n",
       "      <th>2020-12-04</th>\n",
       "      <td>42697</td>\n",
       "      <td>87649</td>\n",
       "      <td>Houston, TX</td>\n",
       "      <td>12-04-2020</td>\n",
       "      <td>Why does feel so bad right now via</td>\n",
       "      <td>Extremely Negative</td>\n",
       "      <td>12</td>\n",
       "      <td>Why does feel so bad right now via</td>\n",
       "      <td>0</td>\n",
       "      <td>0</td>\n",
       "      <td>0</td>\n",
       "    </tr>\n",
       "    <tr>\n",
       "      <th>2020-12-04</th>\n",
       "      <td>42696</td>\n",
       "      <td>87648</td>\n",
       "      <td>Columbia,SC</td>\n",
       "      <td>12-04-2020</td>\n",
       "      <td>Lessons Learned 21 Days Of COVID 19 Crisis Com...</td>\n",
       "      <td>Extremely Negative</td>\n",
       "      <td>12</td>\n",
       "      <td>Lessons Learned 21 Days Of COVID 19 Crisis Com...</td>\n",
       "      <td>0</td>\n",
       "      <td>0</td>\n",
       "      <td>0</td>\n",
       "    </tr>\n",
       "    <tr>\n",
       "      <th>2020-12-04</th>\n",
       "      <td>42648</td>\n",
       "      <td>87600</td>\n",
       "      <td>Doha-Washington, DC</td>\n",
       "      <td>12-04-2020</td>\n",
       "      <td>WEBINAR. The GCCÂs double dilemma: Tackling C...</td>\n",
       "      <td>Negative</td>\n",
       "      <td>12</td>\n",
       "      <td>WEBINAR. The GCCÂs double dilemma: Tackling C...</td>\n",
       "      <td>0</td>\n",
       "      <td>0</td>\n",
       "      <td>0</td>\n",
       "    </tr>\n",
       "    <tr>\n",
       "      <th>2020-12-04</th>\n",
       "      <td>42706</td>\n",
       "      <td>87658</td>\n",
       "      <td>United States</td>\n",
       "      <td>12-04-2020</td>\n",
       "      <td>#SocialDistancing save lives. Thanks to all fr...</td>\n",
       "      <td>Extremely Positive</td>\n",
       "      <td>12</td>\n",
       "      <td>SocialDistancing save lives. Thanks to all fro...</td>\n",
       "      <td>2</td>\n",
       "      <td>2</td>\n",
       "      <td>2</td>\n",
       "    </tr>\n",
       "    <tr>\n",
       "      <th>2020-12-04</th>\n",
       "      <td>43110</td>\n",
       "      <td>88062</td>\n",
       "      <td>Hyderabad, Andhra Pradesh</td>\n",
       "      <td>12-04-2020</td>\n",
       "      <td>@hydcitypolice outside Manasarovar heights pha...</td>\n",
       "      <td>Negative</td>\n",
       "      <td>12</td>\n",
       "      <td>outside Manasarovar heights phase 3 opposite U...</td>\n",
       "      <td>0</td>\n",
       "      <td>0</td>\n",
       "      <td>1</td>\n",
       "    </tr>\n",
       "  </tbody>\n",
       "</table>\n",
       "</div>"
      ],
      "text/plain": [
       "            UserName  ScreenName                   Location     TweetAt  \\\n",
       "date                                                                      \n",
       "2020-12-04     42697       87649                Houston, TX  12-04-2020   \n",
       "2020-12-04     42696       87648               Columbia,SC   12-04-2020   \n",
       "2020-12-04     42648       87600        Doha-Washington, DC  12-04-2020   \n",
       "2020-12-04     42706       87658              United States  12-04-2020   \n",
       "2020-12-04     43110       88062  Hyderabad, Andhra Pradesh  12-04-2020   \n",
       "\n",
       "                                                OriginalTweet  \\\n",
       "date                                                            \n",
       "2020-12-04                 Why does feel so bad right now via   \n",
       "2020-12-04  Lessons Learned 21 Days Of COVID 19 Crisis Com...   \n",
       "2020-12-04  WEBINAR. The GCCÂs double dilemma: Tackling C...   \n",
       "2020-12-04  #SocialDistancing save lives. Thanks to all fr...   \n",
       "2020-12-04  @hydcitypolice outside Manasarovar heights pha...   \n",
       "\n",
       "                     Sentiment  month  \\\n",
       "date                                    \n",
       "2020-12-04  Extremely Negative     12   \n",
       "2020-12-04  Extremely Negative     12   \n",
       "2020-12-04            Negative     12   \n",
       "2020-12-04  Extremely Positive     12   \n",
       "2020-12-04            Negative     12   \n",
       "\n",
       "                                                         text  sentiment  \\\n",
       "date                                                                       \n",
       "2020-12-04                 Why does feel so bad right now via          0   \n",
       "2020-12-04  Lessons Learned 21 Days Of COVID 19 Crisis Com...          0   \n",
       "2020-12-04  WEBINAR. The GCCÂs double dilemma: Tackling C...          0   \n",
       "2020-12-04  SocialDistancing save lives. Thanks to all fro...          2   \n",
       "2020-12-04  outside Manasarovar heights phase 3 opposite U...          0   \n",
       "\n",
       "            label predicted_label  \n",
       "date                               \n",
       "2020-12-04      0               0  \n",
       "2020-12-04      0               0  \n",
       "2020-12-04      0               0  \n",
       "2020-12-04      2               2  \n",
       "2020-12-04      0               1  "
      ]
     },
     "execution_count": 28,
     "metadata": {},
     "output_type": "execute_result"
    }
   ],
   "source": [
    "tweets.tail()"
   ]
  },
  {
   "cell_type": "code",
   "execution_count": 29,
   "id": "40dc9560",
   "metadata": {},
   "outputs": [
    {
     "data": {
      "text/plain": [
       "month\n",
       "1     0.000000\n",
       "2     0.000000\n",
       "3     0.000000\n",
       "4     0.637088\n",
       "5     0.628866\n",
       "6     0.591433\n",
       "7     0.580189\n",
       "8     0.662687\n",
       "9     0.630859\n",
       "10    0.627660\n",
       "11    0.642643\n",
       "12    0.651408\n",
       "Name: correct_label, dtype: float64"
      ]
     },
     "execution_count": 29,
     "metadata": {},
     "output_type": "execute_result"
    }
   ],
   "source": [
    "tweets['correct_label'] = tweets['predicted_label'] == tweets['label']\n",
    "\n",
    "tweets.groupby('month')['correct_label'].mean()"
   ]
  },
  {
   "cell_type": "code",
   "execution_count": 30,
   "id": "2437c1fd",
   "metadata": {},
   "outputs": [
    {
     "data": {
      "text/plain": [
       "<AxesSubplot:xlabel='month'>"
      ]
     },
     "execution_count": 30,
     "metadata": {},
     "output_type": "execute_result"
    },
    {
     "data": {
      "image/png": "[encoded data removed]",
      "text/plain": [
       "<Figure size 432x288 with 1 Axes>"
      ]
     },
     "metadata": {
      "needs_background": "light"
     },
     "output_type": "display_data"
    }
   ],
   "source": [
    "tweets.groupby('month')['correct_label'].mean().plot()"
   ]
  },
  {
   "cell_type": "code",
   "execution_count": null,
   "id": "df73a29c",
   "metadata": {},
   "outputs": [],
   "source": []
  },
  {
   "cell_type": "code",
   "execution_count": 35,
   "id": "a2190353",
   "metadata": {},
   "outputs": [
    {
     "name": "stderr",
     "output_type": "stream",
     "text": [
      "/var/folders/y9/9xqbqkg90tnc0cmm0dxt985m0000gn/T/ipykernel_12286/2280951424.py:1: FutureWarning: Indexing a DataFrame with a datetimelike index using a single string to slice the rows, like `frame[string]`, is deprecated and will be removed in a future version. Use `frame.loc[string]` instead.\n",
      "  training_tweets = tweets['2020-04']\n"
     ]
    },
    {
     "data": {
      "application/vnd.jupyter.widget-view+json": {
       "model_id": "2b1af98e3ac7420e9af05772c5fb08d3",
       "version_major": 2,
       "version_minor": 0
      },
      "text/plain": [
       "  0%|          | 0/1 [00:00<?, ?it/s]"
      ]
     },
     "metadata": {},
     "output_type": "display_data"
    },
    {
     "data": {
      "application/vnd.jupyter.widget-view+json": {
       "model_id": "7c8971478cfa406b8c1ca43f85717e21",
       "version_major": 2,
       "version_minor": 0
      },
      "text/plain": [
       "  0%|          | 0/1 [00:00<?, ?it/s]"
      ]
     },
     "metadata": {},
     "output_type": "display_data"
    },
    {
     "data": {
      "application/vnd.jupyter.widget-view+json": {
       "model_id": "ea249e29ebd443d29d5e302edb8fccf9",
       "version_major": 2,
       "version_minor": 0
      },
      "text/plain": [
       "  0%|          | 0/1 [00:00<?, ?it/s]"
      ]
     },
     "metadata": {},
     "output_type": "display_data"
    },
    {
     "data": {
      "application/vnd.jupyter.widget-view+json": {
       "model_id": "251b4a7876f94aa5857fe1fd6000e0c9",
       "version_major": 2,
       "version_minor": 0
      },
      "text/plain": [
       "  0%|          | 0/1 [00:00<?, ?it/s]"
      ]
     },
     "metadata": {},
     "output_type": "display_data"
    }
   ],
   "source": [
    "training_tweets = tweets['2020-04']\n",
    "\n",
    "tweet_dataset = Dataset.from_pandas(training_tweets.reset_index()[['text', 'label']])\n",
    "tweet_dataset = tweet_dataset.train_test_split(test_size=0.2)\n",
    "train_set = tweet_dataset['train']\n",
    "test_set = tweet_dataset['test']\n",
    "\n",
    "train_set = train_set.map(preprocess, batched=True, batch_size=len(train_set))\n",
    "test_set = test_set.map(preprocess, batched=True, batch_size=len(test_set))\n",
    "\n",
    "train_set.set_format('torch', columns=['input_ids', 'attention_mask', 'label'])\n",
    "test_set.set_format('torch', columns=['input_ids', 'attention_mask', 'label'])\n",
    "\n",
    "\n",
    "training_args.warmup_steps = 0\n",
    "\n",
    "# Define the trainer: \n",
    "\n",
    "trainer.train_dataset=train_set\n",
    "trainer.eval_dataset=test_set"
   ]
  },
  {
   "cell_type": "code",
   "execution_count": 36,
   "id": "7f95aaf4",
   "metadata": {},
   "outputs": [
    {
     "name": "stderr",
     "output_type": "stream",
     "text": [
      "***** Running Evaluation *****\n",
      "  Num examples = 176\n",
      "  Batch size = 64\n"
     ]
    },
    {
     "data": {
      "text/html": [
       "\n",
       "    <div>\n",
       "      \n",
       "      <progress value='10' max='3' style='width:300px; height:20px; vertical-align: middle;'></progress>\n",
       "      [3/3 04:30]\n",
       "    </div>\n",
       "    "
      ],
      "text/plain": [
       "<IPython.core.display.HTML object>"
      ]
     },
     "metadata": {},
     "output_type": "display_data"
    },
    {
     "data": {
      "text/plain": [
       "{'eval_loss': 0.8849554657936096,\n",
       " 'eval_accuracy': 0.6136363636363636,\n",
       " 'eval_runtime': 1.281,\n",
       " 'eval_samples_per_second': 137.388,\n",
       " 'eval_steps_per_second': 2.342}"
      ]
     },
     "execution_count": 36,
     "metadata": {},
     "output_type": "execute_result"
    }
   ],
   "source": [
    "trainer.evaluate()"
   ]
  },
  {
   "cell_type": "code",
   "execution_count": null,
   "id": "9da022df",
   "metadata": {},
   "outputs": [],
   "source": []
  },
  {
   "cell_type": "code",
   "execution_count": 37,
   "id": "0cd73d28",
   "metadata": {
    "scrolled": true
   },
   "outputs": [
    {
     "name": "stderr",
     "output_type": "stream",
     "text": [
      "***** Running training *****\n",
      "  Num examples = 703\n",
      "  Num Epochs = 4\n",
      "  Instantaneous batch size per device = 64\n",
      "  Total train batch size (w. parallel, distributed & accumulation) = 64\n",
      "  Gradient Accumulation steps = 1\n",
      "  Total optimization steps = 44\n"
     ]
    },
    {
     "data": {
      "text/html": [
       "\n",
       "    <div>\n",
       "      \n",
       "      <progress value='44' max='44' style='width:300px; height:20px; vertical-align: middle;'></progress>\n",
       "      [44/44 01:08, Epoch 4/4]\n",
       "    </div>\n",
       "    <table border=\"1\" class=\"dataframe\">\n",
       "  <thead>\n",
       "    <tr style=\"text-align: left;\">\n",
       "      <th>Step</th>\n",
       "      <th>Training Loss</th>\n",
       "    </tr>\n",
       "  </thead>\n",
       "  <tbody>\n",
       "    <tr>\n",
       "      <td>1</td>\n",
       "      <td>0.790500</td>\n",
       "    </tr>\n",
       "    <tr>\n",
       "      <td>11</td>\n",
       "      <td>0.848100</td>\n",
       "    </tr>\n",
       "    <tr>\n",
       "      <td>22</td>\n",
       "      <td>0.566800</td>\n",
       "    </tr>\n",
       "    <tr>\n",
       "      <td>33</td>\n",
       "      <td>0.401900</td>\n",
       "    </tr>\n",
       "    <tr>\n",
       "      <td>44</td>\n",
       "      <td>0.308200</td>\n",
       "    </tr>\n",
       "  </tbody>\n",
       "</table><p>"
      ],
      "text/plain": [
       "<IPython.core.display.HTML object>"
      ]
     },
     "metadata": {},
     "output_type": "display_data"
    },
    {
     "name": "stderr",
     "output_type": "stream",
     "text": [
      "\n",
      "\n",
      "Training completed. Do not forget to share your model on huggingface.co/models =)\n",
      "\n",
      "\n"
     ]
    },
    {
     "data": {
      "text/plain": [
       "TrainOutput(global_step=44, training_loss=0.5299697111953389, metrics={'train_runtime': 69.9519, 'train_samples_per_second': 40.199, 'train_steps_per_second': 0.629, 'total_flos': 40742730874944.0, 'train_loss': 0.5299697111953389, 'epoch': 4.0})"
      ]
     },
     "execution_count": 37,
     "metadata": {},
     "output_type": "execute_result"
    }
   ],
   "source": [
    "trainer.train()"
   ]
  },
  {
   "cell_type": "code",
   "execution_count": 38,
   "id": "fb80042c",
   "metadata": {},
   "outputs": [
    {
     "name": "stderr",
     "output_type": "stream",
     "text": [
      "***** Running Evaluation *****\n",
      "  Num examples = 176\n",
      "  Batch size = 64\n"
     ]
    },
    {
     "data": {
      "text/plain": [
       "{'eval_loss': 0.716437816619873,\n",
       " 'eval_accuracy': 0.7386363636363636,\n",
       " 'eval_runtime': 1.2397,\n",
       " 'eval_samples_per_second': 141.971,\n",
       " 'eval_steps_per_second': 2.42,\n",
       " 'epoch': 4.0}"
      ]
     },
     "execution_count": 38,
     "metadata": {},
     "output_type": "execute_result"
    }
   ],
   "source": [
    "trainer.evaluate()"
   ]
  },
  {
   "cell_type": "code",
   "execution_count": 39,
   "id": "1080545e",
   "metadata": {},
   "outputs": [
    {
     "name": "stderr",
     "output_type": "stream",
     "text": [
      "100%|████████████████████████████████████████████████████████████████████████████████████████████████████████████████████████████| 8/8 [00:52<00:00,  6.51s/it]\n"
     ]
    }
   ],
   "source": [
    "from tqdm import tqdm\n",
    "\n",
    "tweets['predicted_label_trained_at_4'] = None\n",
    "\n",
    "for month in tqdm(range(5, 13)):\n",
    "    tweets.loc[f'2020-{month}', 'predicted_label_trained_at_4'] = sequence_classification_model(\n",
    "        **bert_tokenizer.batch_encode_plus(tweets.loc[f'2020-{month}']['text'].tolist(), return_tensors='pt', padding=True)\n",
    "    ).logits.argmax(1)\n",
    "    garbage()"
   ]
  },
  {
   "cell_type": "code",
   "execution_count": 44,
   "id": "f1680733",
   "metadata": {},
   "outputs": [
    {
     "data": {
      "text/plain": [
       "<AxesSubplot:xlabel='month'>"
      ]
     },
     "execution_count": 44,
     "metadata": {},
     "output_type": "execute_result"
    },
    {
     "data": {
      "image/png": "[encoded data removed]",
      "text/plain": [
       "<Figure size 432x288 with 1 Axes>"
      ]
     },
     "metadata": {
      "needs_background": "light"
     },
     "output_type": "display_data"
    }
   ],
   "source": [
    "tweets['correct_label_trained_at_4'] = tweets['predicted_label_trained_at_4'] == tweets['label']\n",
    "\n",
    "tweets.groupby('month')[['correct_label', 'correct_label_trained_at_4']].mean().plot()"
   ]
  },
  {
   "cell_type": "code",
   "execution_count": null,
   "id": "8fb09632",
   "metadata": {},
   "outputs": [],
   "source": []
  },
  {
   "cell_type": "code",
   "execution_count": 45,
   "id": "a163a1e2",
   "metadata": {},
   "outputs": [
    {
     "name": "stderr",
     "output_type": "stream",
     "text": [
      "/var/folders/y9/9xqbqkg90tnc0cmm0dxt985m0000gn/T/ipykernel_12286/4065301163.py:1: FutureWarning: Indexing a DataFrame with a datetimelike index using a single string to slice the rows, like `frame[string]`, is deprecated and will be removed in a future version. Use `frame.loc[string]` instead.\n",
      "  training_tweets = tweets['2020-05']\n"
     ]
    },
    {
     "data": {
      "application/vnd.jupyter.widget-view+json": {
       "model_id": "5790ae8aa27c43df90118c57f77ab811",
       "version_major": 2,
       "version_minor": 0
      },
      "text/plain": [
       "  0%|          | 0/1 [00:00<?, ?it/s]"
      ]
     },
     "metadata": {},
     "output_type": "display_data"
    },
    {
     "data": {
      "application/vnd.jupyter.widget-view+json": {
       "model_id": "a6bde95ba6c5455597240b1d79da786a",
       "version_major": 2,
       "version_minor": 0
      },
      "text/plain": [
       "  0%|          | 0/1 [00:00<?, ?it/s]"
      ]
     },
     "metadata": {},
     "output_type": "display_data"
    },
    {
     "data": {
      "application/vnd.jupyter.widget-view+json": {
       "model_id": "0c4bf0f39dd3494f9e32ab9549c639d8",
       "version_major": 2,
       "version_minor": 0
      },
      "text/plain": [
       "  0%|          | 0/1 [00:00<?, ?it/s]"
      ]
     },
     "metadata": {},
     "output_type": "display_data"
    },
    {
     "data": {
      "application/vnd.jupyter.widget-view+json": {
       "model_id": "a61963541a8841e7b6b7f9ca80b0e1f0",
       "version_major": 2,
       "version_minor": 0
      },
      "text/plain": [
       "  0%|          | 0/1 [00:00<?, ?it/s]"
      ]
     },
     "metadata": {},
     "output_type": "display_data"
    }
   ],
   "source": [
    "training_tweets = tweets['2020-05']\n",
    "\n",
    "tweet_dataset = Dataset.from_pandas(training_tweets.reset_index()[['text', 'label']])\n",
    "tweet_dataset = tweet_dataset.train_test_split(test_size=0.2)\n",
    "train_set = tweet_dataset['train']\n",
    "test_set = tweet_dataset['test']\n",
    "\n",
    "train_set = train_set.map(preprocess, batched=True, batch_size=len(train_set))\n",
    "test_set = test_set.map(preprocess, batched=True, batch_size=len(test_set))\n",
    "\n",
    "train_set.set_format('torch', columns=['input_ids', 'attention_mask', 'label'])\n",
    "test_set.set_format('torch', columns=['input_ids', 'attention_mask', 'label'])\n",
    "\n",
    "\n",
    "training_args.warmup_steps = 0\n",
    "\n",
    "# Define the trainer: \n",
    "\n",
    "trainer.train_dataset=train_set\n",
    "trainer.eval_dataset=test_set"
   ]
  },
  {
   "cell_type": "code",
   "execution_count": 46,
   "id": "90d699f8",
   "metadata": {},
   "outputs": [
    {
     "name": "stderr",
     "output_type": "stream",
     "text": [
      "***** Running Evaluation *****\n",
      "  Num examples = 78\n",
      "  Batch size = 64\n"
     ]
    },
    {
     "data": {
      "text/plain": [
       "{'eval_loss': 0.8793441653251648,\n",
       " 'eval_accuracy': 0.717948717948718,\n",
       " 'eval_runtime': 0.5318,\n",
       " 'eval_samples_per_second': 146.674,\n",
       " 'eval_steps_per_second': 3.761,\n",
       " 'epoch': 4.0}"
      ]
     },
     "execution_count": 46,
     "metadata": {},
     "output_type": "execute_result"
    }
   ],
   "source": [
    "trainer.evaluate()"
   ]
  },
  {
   "cell_type": "code",
   "execution_count": 47,
   "id": "ea04057c",
   "metadata": {},
   "outputs": [
    {
     "name": "stderr",
     "output_type": "stream",
     "text": [
      "***** Running training *****\n",
      "  Num examples = 310\n",
      "  Num Epochs = 4\n",
      "  Instantaneous batch size per device = 64\n",
      "  Total train batch size (w. parallel, distributed & accumulation) = 64\n",
      "  Gradient Accumulation steps = 1\n",
      "  Total optimization steps = 20\n"
     ]
    },
    {
     "data": {
      "text/html": [
       "\n",
       "    <div>\n",
       "      \n",
       "      <progress value='20' max='20' style='width:300px; height:20px; vertical-align: middle;'></progress>\n",
       "      [20/20 00:35, Epoch 4/4]\n",
       "    </div>\n",
       "    <table border=\"1\" class=\"dataframe\">\n",
       "  <thead>\n",
       "    <tr style=\"text-align: left;\">\n",
       "      <th>Step</th>\n",
       "      <th>Training Loss</th>\n",
       "    </tr>\n",
       "  </thead>\n",
       "  <tbody>\n",
       "    <tr>\n",
       "      <td>1</td>\n",
       "      <td>0.454300</td>\n",
       "    </tr>\n",
       "    <tr>\n",
       "      <td>5</td>\n",
       "      <td>0.830600</td>\n",
       "    </tr>\n",
       "    <tr>\n",
       "      <td>10</td>\n",
       "      <td>0.773000</td>\n",
       "    </tr>\n",
       "    <tr>\n",
       "      <td>15</td>\n",
       "      <td>0.727900</td>\n",
       "    </tr>\n",
       "    <tr>\n",
       "      <td>20</td>\n",
       "      <td>0.722700</td>\n",
       "    </tr>\n",
       "  </tbody>\n",
       "</table><p>"
      ],
      "text/plain": [
       "<IPython.core.display.HTML object>"
      ]
     },
     "metadata": {},
     "output_type": "display_data"
    },
    {
     "name": "stderr",
     "output_type": "stream",
     "text": [
      "\n",
      "\n",
      "Training completed. Do not forget to share your model on huggingface.co/models =)\n",
      "\n",
      "\n"
     ]
    },
    {
     "data": {
      "text/plain": [
       "TrainOutput(global_step=20, training_loss=0.7447417467832566, metrics={'train_runtime': 37.9783, 'train_samples_per_second': 32.65, 'train_steps_per_second': 0.527, 'total_flos': 22457764173600.0, 'train_loss': 0.7447417467832566, 'epoch': 4.0})"
      ]
     },
     "execution_count": 47,
     "metadata": {},
     "output_type": "execute_result"
    }
   ],
   "source": [
    "trainer.train()"
   ]
  },
  {
   "cell_type": "code",
   "execution_count": 48,
   "id": "16ef194d",
   "metadata": {},
   "outputs": [
    {
     "name": "stderr",
     "output_type": "stream",
     "text": [
      "***** Running Evaluation *****\n",
      "  Num examples = 78\n",
      "  Batch size = 64\n"
     ]
    },
    {
     "data": {
      "text/plain": [
       "{'eval_loss': 0.8793441653251648,\n",
       " 'eval_accuracy': 0.717948717948718,\n",
       " 'eval_runtime': 0.4971,\n",
       " 'eval_samples_per_second': 156.9,\n",
       " 'eval_steps_per_second': 4.023,\n",
       " 'epoch': 4.0}"
      ]
     },
     "execution_count": 48,
     "metadata": {},
     "output_type": "execute_result"
    }
   ],
   "source": [
    "trainer.evaluate()"
   ]
  },
  {
   "cell_type": "code",
   "execution_count": 49,
   "id": "2a8e6036",
   "metadata": {},
   "outputs": [
    {
     "name": "stderr",
     "output_type": "stream",
     "text": [
      "100%|████████████████████████████████████████████████████████████████████████████████████████████████████████████████████████████| 7/7 [00:45<00:00,  6.50s/it]\n"
     ]
    }
   ],
   "source": [
    "from tqdm import tqdm\n",
    "\n",
    "tweets['predicted_label_trained_at_5'] = None\n",
    "\n",
    "for month in tqdm(range(6, 13)):\n",
    "    tweets.loc[f'2020-{month}', 'predicted_label_trained_at_5'] = sequence_classification_model(\n",
    "        **bert_tokenizer.batch_encode_plus(tweets.loc[f'2020-{month}']['text'].tolist(), return_tensors='pt', padding=True)\n",
    "    ).logits.argmax(1)\n",
    "    garbage()"
   ]
  },
  {
   "cell_type": "code",
   "execution_count": 50,
   "id": "a0fc8ec7",
   "metadata": {},
   "outputs": [
    {
     "data": {
      "text/plain": [
       "<AxesSubplot:xlabel='month'>"
      ]
     },
     "execution_count": 50,
     "metadata": {},
     "output_type": "execute_result"
    },
    {
     "data": {
      "image/png": "[encoded data removed]",
      "text/plain": [
       "<Figure size 432x288 with 1 Axes>"
      ]
     },
     "metadata": {
      "needs_background": "light"
     },
     "output_type": "display_data"
    }
   ],
   "source": [
    "# Online training is not a panacea, sorry\n",
    "tweets['correct_label_trained_at_5'] = tweets['predicted_label_trained_at_5'] == tweets['label']\n",
    "\n",
    "tweets.groupby('month')[['correct_label', 'correct_label_trained_at_4', 'correct_label_trained_at_5']].mean().plot()"
   ]
  },
  {
   "cell_type": "code",
   "execution_count": 29,
   "id": "edec23f6",
   "metadata": {},
   "outputs": [],
   "source": [
    "from scipy.special import kl_div\n"
   ]
  },
  {
   "cell_type": "code",
   "execution_count": 30,
   "id": "0f8e5085",
   "metadata": {},
   "outputs": [],
   "source": [
    "# remove the classifier\n",
    "bert_section = sequence_classification_model.distilbert"
   ]
  },
  {
   "cell_type": "code",
   "execution_count": 31,
   "id": "d2c4580a",
   "metadata": {},
   "outputs": [],
   "source": [
    "four_embeddings = bert_section(\n",
    "    **bert_tokenizer.batch_encode_plus(tweets[tweets.index.month == 4]['text'].tolist(), return_tensors='pt', padding=True)\n",
    ").last_hidden_state\n"
   ]
  },
  {
   "cell_type": "code",
   "execution_count": 49,
   "id": "68e68d5a",
   "metadata": {},
   "outputs": [
    {
     "data": {
      "text/plain": [
       "torch.Size([879, 56, 768])"
      ]
     },
     "execution_count": 49,
     "metadata": {},
     "output_type": "execute_result"
    }
   ],
   "source": [
    "four_embeddings.shape"
   ]
  },
  {
   "cell_type": "code",
   "execution_count": 50,
   "id": "adb1048f",
   "metadata": {},
   "outputs": [
    {
     "data": {
      "text/plain": [
       "<AxesSubplot:>"
      ]
     },
     "execution_count": 50,
     "metadata": {},
     "output_type": "execute_result"
    },
    {
     "data": {
      "image/png": "[encoded data removed]",
      "text/plain": [
       "<Figure size 432x288 with 1 Axes>"
      ]
     },
     "metadata": {
      "needs_background": "light"
     },
     "output_type": "display_data"
    }
   ],
   "source": [
    "pd.Series(four_embeddings[:,0,:].mean(dim=1).tolist()).hist()"
   ]
  },
  {
   "cell_type": "code",
   "execution_count": 33,
   "id": "80d0caeb",
   "metadata": {},
   "outputs": [],
   "source": [
    "five_embeddings = bert_section(\n",
    "    **bert_tokenizer.batch_encode_plus(tweets[tweets.index.month == 5]['text'].tolist(), return_tensors='pt', padding=True)\n",
    ").last_hidden_state\n"
   ]
  },
  {
   "cell_type": "code",
   "execution_count": 51,
   "id": "68aaa658",
   "metadata": {},
   "outputs": [
    {
     "data": {
      "text/plain": [
       "torch.Size([388, 70, 768])"
      ]
     },
     "execution_count": 51,
     "metadata": {},
     "output_type": "execute_result"
    }
   ],
   "source": [
    "five_embeddings.shape"
   ]
  },
  {
   "cell_type": "code",
   "execution_count": null,
   "id": "b45864af",
   "metadata": {},
   "outputs": [],
   "source": []
  },
  {
   "cell_type": "code",
   "execution_count": 52,
   "id": "3d3077d4",
   "metadata": {},
   "outputs": [
    {
     "data": {
      "text/plain": [
       "<AxesSubplot:>"
      ]
     },
     "execution_count": 52,
     "metadata": {},
     "output_type": "execute_result"
    },
    {
     "data": {
      "image/png": "[encoded data removed]",
      "text/plain": [
       "<Figure size 432x288 with 1 Axes>"
      ]
     },
     "metadata": {
      "needs_background": "light"
     },
     "output_type": "display_data"
    }
   ],
   "source": [
    "pd.Series(five_embeddings[:,0,:].mean(dim=1).tolist()).hist()"
   ]
  },
  {
   "cell_type": "code",
   "execution_count": null,
   "id": "99837a26",
   "metadata": {},
   "outputs": [],
   "source": []
  },
  {
   "cell_type": "code",
   "execution_count": null,
   "id": "28a80542",
   "metadata": {},
   "outputs": [],
   "source": []
  },
  {
   "cell_type": "code",
   "execution_count": null,
   "id": "cfa9d62a",
   "metadata": {},
   "outputs": [],
   "source": []
  },
  {
   "cell_type": "code",
   "execution_count": 58,
   "id": "22830968",
   "metadata": {},
   "outputs": [
    {
     "data": {
      "text/plain": [
       "date\n",
       "1     0\n",
       "2     0\n",
       "3     0\n",
       "4     0\n",
       "5     0\n",
       "6     0\n",
       "7     0\n",
       "8     0\n",
       "9     0\n",
       "10    0\n",
       "11    0\n",
       "12    0\n",
       "Name: text, dtype: int64"
      ]
     },
     "execution_count": 58,
     "metadata": {},
     "output_type": "execute_result"
    }
   ],
   "source": [
    "tweets['text'].str.lower().str.contains('variant').groupby(tweets.index.month).sum()"
   ]
  },
  {
   "cell_type": "code",
   "execution_count": null,
   "id": "bf10f442",
   "metadata": {},
   "outputs": [],
   "source": [
    "# word count changes by month"
   ]
  },
  {
   "cell_type": "code",
   "execution_count": null,
   "id": "12dea75d",
   "metadata": {},
   "outputs": [],
   "source": [
    "# online train every month, measure accuracy\n",
    "# highlight changes in text where there are dropoffs\n",
    "# KL tests for disitribution to maybe be lagging indicator?"
   ]
  },
  {
   "cell_type": "code",
   "execution_count": null,
   "id": "aae38e5c",
   "metadata": {},
   "outputs": [],
   "source": []
  }
 ],
 "metadata": {
  "kernelspec": {
   "display_name": "Python 3 (ipykernel)",
   "language": "python",
   "name": "python3"
  },
  "language_info": {
   "codemirror_mode": {
    "name": "ipython",
    "version": 3
   },
   "file_extension": ".py",
   "mimetype": "text/x-python",
   "name": "python",
   "nbconvert_exporter": "python",
   "pygments_lexer": "ipython3",
   "version": "3.9.9"
  }
 },
 "nbformat": 4,
 "nbformat_minor": 5
}
