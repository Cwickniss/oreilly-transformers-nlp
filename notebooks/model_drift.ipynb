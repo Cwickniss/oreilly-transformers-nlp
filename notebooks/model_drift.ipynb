{
 "cells": [
  {
   "cell_type": "code",
   "execution_count": 1,
   "id": "a54932c6",
   "metadata": {},
   "outputs": [],
   "source": [
    "from nlp import load_dataset, Dataset\n",
    "import pandas as pd\n",
    "import re\n",
    "from transformers import Trainer, TrainingArguments, DistilBertForSequenceClassification, DistilBertTokenizerFast\n",
    "from datasets import load_metric\n",
    "import numpy as np\n",
    "from torch.nn import Softmax\n",
    "from torch.utils.data import DataLoader\n",
    "from torch import argmax\n"
   ]
  },
  {
   "cell_type": "code",
   "execution_count": 2,
   "id": "02f8521e",
   "metadata": {},
   "outputs": [
    {
     "data": {
      "text/html": [
       "<div>\n",
       "<style scoped>\n",
       "    .dataframe tbody tr th:only-of-type {\n",
       "        vertical-align: middle;\n",
       "    }\n",
       "\n",
       "    .dataframe tbody tr th {\n",
       "        vertical-align: top;\n",
       "    }\n",
       "\n",
       "    .dataframe thead th {\n",
       "        text-align: right;\n",
       "    }\n",
       "</style>\n",
       "<table border=\"1\" class=\"dataframe\">\n",
       "  <thead>\n",
       "    <tr style=\"text-align: right;\">\n",
       "      <th></th>\n",
       "      <th>UserName</th>\n",
       "      <th>ScreenName</th>\n",
       "      <th>Location</th>\n",
       "      <th>TweetAt</th>\n",
       "      <th>OriginalTweet</th>\n",
       "      <th>Sentiment</th>\n",
       "      <th>month</th>\n",
       "      <th>text</th>\n",
       "      <th>label</th>\n",
       "    </tr>\n",
       "    <tr>\n",
       "      <th>date</th>\n",
       "      <th></th>\n",
       "      <th></th>\n",
       "      <th></th>\n",
       "      <th></th>\n",
       "      <th></th>\n",
       "      <th></th>\n",
       "      <th></th>\n",
       "      <th></th>\n",
       "      <th></th>\n",
       "    </tr>\n",
       "  </thead>\n",
       "  <tbody>\n",
       "    <tr>\n",
       "      <th>2020-01-04</th>\n",
       "      <td>29309</td>\n",
       "      <td>74261</td>\n",
       "      <td>Tidal County, Knoxville, TN</td>\n",
       "      <td>01-04-2020</td>\n",
       "      <td>Overwhelmed with info Before you act stop Ask ...</td>\n",
       "      <td>Positive</td>\n",
       "      <td>1</td>\n",
       "      <td>Overwhelmed with info Before you act stop Ask ...</td>\n",
       "      <td>2</td>\n",
       "    </tr>\n",
       "    <tr>\n",
       "      <th>2020-01-04</th>\n",
       "      <td>29316</td>\n",
       "      <td>74268</td>\n",
       "      <td>Fort George G. Meade, Md.</td>\n",
       "      <td>01-04-2020</td>\n",
       "      <td>Malwarebytes rounded up some useful tips for s...</td>\n",
       "      <td>Extremely Positive</td>\n",
       "      <td>1</td>\n",
       "      <td>Malwarebytes rounded up some useful tips for s...</td>\n",
       "      <td>2</td>\n",
       "    </tr>\n",
       "    <tr>\n",
       "      <th>2020-01-04</th>\n",
       "      <td>29317</td>\n",
       "      <td>74269</td>\n",
       "      <td>Australia</td>\n",
       "      <td>01-04-2020</td>\n",
       "      <td>A Queensland mum has posted a heartbreaking pi...</td>\n",
       "      <td>Extremely Negative</td>\n",
       "      <td>1</td>\n",
       "      <td>A Queensland mum has posted a heartbreaking pi...</td>\n",
       "      <td>0</td>\n",
       "    </tr>\n",
       "    <tr>\n",
       "      <th>2020-01-04</th>\n",
       "      <td>29318</td>\n",
       "      <td>74270</td>\n",
       "      <td>Debt Jubilee</td>\n",
       "      <td>01-04-2020</td>\n",
       "      <td>New President Trump says U S gasoline prices w...</td>\n",
       "      <td>Neutral</td>\n",
       "      <td>1</td>\n",
       "      <td>New President Trump says U S gasoline prices w...</td>\n",
       "      <td>1</td>\n",
       "    </tr>\n",
       "    <tr>\n",
       "      <th>2020-01-04</th>\n",
       "      <td>29319</td>\n",
       "      <td>74271</td>\n",
       "      <td>??to Miami</td>\n",
       "      <td>01-04-2020</td>\n",
       "      <td>SUPERMARKET SAFETY is the latest grocery chain...</td>\n",
       "      <td>Extremely Positive</td>\n",
       "      <td>1</td>\n",
       "      <td>SUPERMARKET SAFETY is the latest grocery chain...</td>\n",
       "      <td>2</td>\n",
       "    </tr>\n",
       "  </tbody>\n",
       "</table>\n",
       "</div>"
      ],
      "text/plain": [
       "            UserName  ScreenName                     Location     TweetAt  \\\n",
       "date                                                                        \n",
       "2020-01-04     29309       74261  Tidal County, Knoxville, TN  01-04-2020   \n",
       "2020-01-04     29316       74268    Fort George G. Meade, Md.  01-04-2020   \n",
       "2020-01-04     29317       74269                    Australia  01-04-2020   \n",
       "2020-01-04     29318       74270                 Debt Jubilee  01-04-2020   \n",
       "2020-01-04     29319       74271                  ??to Miami   01-04-2020   \n",
       "\n",
       "                                                OriginalTweet  \\\n",
       "date                                                            \n",
       "2020-01-04  Overwhelmed with info Before you act stop Ask ...   \n",
       "2020-01-04  Malwarebytes rounded up some useful tips for s...   \n",
       "2020-01-04  A Queensland mum has posted a heartbreaking pi...   \n",
       "2020-01-04  New President Trump says U S gasoline prices w...   \n",
       "2020-01-04  SUPERMARKET SAFETY is the latest grocery chain...   \n",
       "\n",
       "                     Sentiment  month  \\\n",
       "date                                    \n",
       "2020-01-04            Positive      1   \n",
       "2020-01-04  Extremely Positive      1   \n",
       "2020-01-04  Extremely Negative      1   \n",
       "2020-01-04             Neutral      1   \n",
       "2020-01-04  Extremely Positive      1   \n",
       "\n",
       "                                                         text  label  \n",
       "date                                                                  \n",
       "2020-01-04  Overwhelmed with info Before you act stop Ask ...      2  \n",
       "2020-01-04  Malwarebytes rounded up some useful tips for s...      2  \n",
       "2020-01-04  A Queensland mum has posted a heartbreaking pi...      0  \n",
       "2020-01-04  New President Trump says U S gasoline prices w...      1  \n",
       "2020-01-04  SUPERMARKET SAFETY is the latest grocery chain...      2  "
      ]
     },
     "execution_count": 2,
     "metadata": {},
     "output_type": "execute_result"
    }
   ],
   "source": [
    "# read in our cleaned tweet from the model_serving notebook\n",
    "tweets = pd.read_csv('../data/cleaned_tweets.csv', encoding='ISO-8859-1')\n",
    "\n",
    "# convert the date to a datetime format\n",
    "tweets['date'] = pd.to_datetime(tweets['TweetAt']).astype('datetime64[ms]')\n",
    "\n",
    "# set our index as our datetime column and delete the date columns\n",
    "tweets.index = tweets['date']\n",
    "del tweets['date']\n",
    "\n",
    "# Sort our tweets\n",
    "tweets.sort_index(inplace=True)\n",
    "\n",
    "tweets.head()"
   ]
  },
  {
   "cell_type": "code",
   "execution_count": 3,
   "id": "4039745b",
   "metadata": {},
   "outputs": [
    {
     "data": {
      "text/plain": [
       "<AxesSubplot:>"
      ]
     },
     "execution_count": 3,
     "metadata": {},
     "output_type": "execute_result"
    },
    {
     "data": {
      "image/png": "[encoded data removed]",
      "text/plain": [
       "<Figure size 432x288 with 1 Axes>"
      ]
     },
     "metadata": {
      "needs_background": "light"
     },
     "output_type": "display_data"
    }
   ],
   "source": [
    "tweets['Sentiment'].hist()"
   ]
  },
  {
   "cell_type": "code",
   "execution_count": 4,
   "id": "76df15dd",
   "metadata": {},
   "outputs": [
    {
     "data": {
      "text/plain": [
       "<AxesSubplot:>"
      ]
     },
     "execution_count": 4,
     "metadata": {},
     "output_type": "execute_result"
    },
    {
     "data": {
      "image/png": "[encoded data removed]",
      "text/plain": [
       "<Figure size 432x288 with 1 Axes>"
      ]
     },
     "metadata": {
      "needs_background": "light"
     },
     "output_type": "display_data"
    }
   ],
   "source": [
    "tweets['label'].hist()"
   ]
  },
  {
   "cell_type": "code",
   "execution_count": 5,
   "id": "fa589819",
   "metadata": {},
   "outputs": [
    {
     "data": {
      "text/plain": [
       "<AxesSubplot:>"
      ]
     },
     "execution_count": 5,
     "metadata": {},
     "output_type": "execute_result"
    },
    {
     "data": {
      "image/png": "[encoded data removed]",
      "text/plain": [
       "<Figure size 432x288 with 1 Axes>"
      ]
     },
     "metadata": {
      "needs_background": "light"
     },
     "output_type": "display_data"
    }
   ],
   "source": [
    "tweets['text'].apply(len).hist()"
   ]
  },
  {
   "cell_type": "code",
   "execution_count": 6,
   "id": "e5f2ccc5",
   "metadata": {},
   "outputs": [
    {
     "data": {
      "text/plain": [
       "<AxesSubplot:xlabel='date'>"
      ]
     },
     "execution_count": 6,
     "metadata": {},
     "output_type": "execute_result"
    },
    {
     "data": {
      "image/png": "[encoded data removed]",
      "text/plain": [
       "<Figure size 432x288 with 1 Axes>"
      ]
     },
     "metadata": {
      "needs_background": "light"
     },
     "output_type": "display_data"
    }
   ],
   "source": [
    "tweets.groupby('date')['label'].value_counts(normalize=True).unstack().rolling(3).mean().plot()"
   ]
  },
  {
   "cell_type": "markdown",
   "id": "e470dae5",
   "metadata": {},
   "source": [
    "## Grab tweets up until the end of March"
   ]
  },
  {
   "cell_type": "code",
   "execution_count": 7,
   "id": "31c34887",
   "metadata": {},
   "outputs": [
    {
     "data": {
      "text/html": [
       "<div>\n",
       "<style scoped>\n",
       "    .dataframe tbody tr th:only-of-type {\n",
       "        vertical-align: middle;\n",
       "    }\n",
       "\n",
       "    .dataframe tbody tr th {\n",
       "        vertical-align: top;\n",
       "    }\n",
       "\n",
       "    .dataframe thead th {\n",
       "        text-align: right;\n",
       "    }\n",
       "</style>\n",
       "<table border=\"1\" class=\"dataframe\">\n",
       "  <thead>\n",
       "    <tr style=\"text-align: right;\">\n",
       "      <th></th>\n",
       "      <th>date</th>\n",
       "      <th>UserName</th>\n",
       "      <th>ScreenName</th>\n",
       "      <th>Location</th>\n",
       "      <th>TweetAt</th>\n",
       "      <th>OriginalTweet</th>\n",
       "      <th>Sentiment</th>\n",
       "      <th>month</th>\n",
       "      <th>text</th>\n",
       "      <th>label</th>\n",
       "    </tr>\n",
       "  </thead>\n",
       "  <tbody>\n",
       "    <tr>\n",
       "      <th>2152</th>\n",
       "      <td>2020-03-31</td>\n",
       "      <td>29063</td>\n",
       "      <td>74015</td>\n",
       "      <td>Toronto, Canada</td>\n",
       "      <td>31-03-2020</td>\n",
       "      <td>Saputo says demand for its products is shiftin...</td>\n",
       "      <td>Negative</td>\n",
       "      <td>3</td>\n",
       "      <td>Saputo says demand for its products is shiftin...</td>\n",
       "      <td>0</td>\n",
       "    </tr>\n",
       "    <tr>\n",
       "      <th>2153</th>\n",
       "      <td>2020-03-31</td>\n",
       "      <td>28994</td>\n",
       "      <td>73946</td>\n",
       "      <td>has passport, will travel</td>\n",
       "      <td>31-03-2020</td>\n",
       "      <td>Covid 19 - milk supply under threat amid deman...</td>\n",
       "      <td>Negative</td>\n",
       "      <td>3</td>\n",
       "      <td>Covid 19 - milk supply under threat amid deman...</td>\n",
       "      <td>0</td>\n",
       "    </tr>\n",
       "    <tr>\n",
       "      <th>2154</th>\n",
       "      <td>2020-03-31</td>\n",
       "      <td>29204</td>\n",
       "      <td>74156</td>\n",
       "      <td>Walhalla, South Carolina</td>\n",
       "      <td>31-03-2020</td>\n",
       "      <td>Our latest details how fraudsters are trying t...</td>\n",
       "      <td>Negative</td>\n",
       "      <td>3</td>\n",
       "      <td>Our latest details how fraudsters are trying t...</td>\n",
       "      <td>0</td>\n",
       "    </tr>\n",
       "    <tr>\n",
       "      <th>2155</th>\n",
       "      <td>2020-03-31</td>\n",
       "      <td>29187</td>\n",
       "      <td>74139</td>\n",
       "      <td>Arlington, VA</td>\n",
       "      <td>31-03-2020</td>\n",
       "      <td>Some consumer companies tap nearly 99B amid bo...</td>\n",
       "      <td>Neutral</td>\n",
       "      <td>3</td>\n",
       "      <td>Some consumer companies tap nearly 99B amid bo...</td>\n",
       "      <td>1</td>\n",
       "    </tr>\n",
       "    <tr>\n",
       "      <th>2156</th>\n",
       "      <td>2020-03-31</td>\n",
       "      <td>29276</td>\n",
       "      <td>74228</td>\n",
       "      <td>Geneva, Switzerland</td>\n",
       "      <td>31-03-2020</td>\n",
       "      <td>EuropeÃÂs fresh food supply is being threate...</td>\n",
       "      <td>Negative</td>\n",
       "      <td>3</td>\n",
       "      <td>EuropeÃÂs fresh food supply is being threate...</td>\n",
       "      <td>0</td>\n",
       "    </tr>\n",
       "  </tbody>\n",
       "</table>\n",
       "</div>"
      ],
      "text/plain": [
       "           date  UserName  ScreenName                   Location     TweetAt  \\\n",
       "2152 2020-03-31     29063       74015            Toronto, Canada  31-03-2020   \n",
       "2153 2020-03-31     28994       73946  has passport, will travel  31-03-2020   \n",
       "2154 2020-03-31     29204       74156   Walhalla, South Carolina  31-03-2020   \n",
       "2155 2020-03-31     29187       74139              Arlington, VA  31-03-2020   \n",
       "2156 2020-03-31     29276       74228        Geneva, Switzerland  31-03-2020   \n",
       "\n",
       "                                          OriginalTweet Sentiment  month  \\\n",
       "2152  Saputo says demand for its products is shiftin...  Negative      3   \n",
       "2153  Covid 19 - milk supply under threat amid deman...  Negative      3   \n",
       "2154  Our latest details how fraudsters are trying t...  Negative      3   \n",
       "2155  Some consumer companies tap nearly 99B amid bo...   Neutral      3   \n",
       "2156  EuropeÃÂs fresh food supply is being threate...  Negative      3   \n",
       "\n",
       "                                                   text  label  \n",
       "2152  Saputo says demand for its products is shiftin...      0  \n",
       "2153  Covid 19 - milk supply under threat amid deman...      0  \n",
       "2154  Our latest details how fraudsters are trying t...      0  \n",
       "2155  Some consumer companies tap nearly 99B amid bo...      1  \n",
       "2156  EuropeÃÂs fresh food supply is being threate...      0  "
      ]
     },
     "execution_count": 7,
     "metadata": {},
     "output_type": "execute_result"
    }
   ],
   "source": [
    "training_tweets = tweets[:'2020-03'].reset_index()\n",
    "training_tweets.tail()\n"
   ]
  },
  {
   "cell_type": "code",
   "execution_count": 8,
   "id": "c93bffd8",
   "metadata": {},
   "outputs": [
    {
     "data": {
      "application/vnd.jupyter.widget-view+json": {
       "model_id": "845d5fc8ac224162978e6df07fd16afd",
       "version_major": 2,
       "version_minor": 0
      },
      "text/plain": [
       "  0%|          | 0/2 [00:00<?, ?it/s]"
      ]
     },
     "metadata": {},
     "output_type": "display_data"
    },
    {
     "data": {
      "application/vnd.jupyter.widget-view+json": {
       "model_id": "f727d75b82bf4baeab9be1707ffac1f1",
       "version_major": 2,
       "version_minor": 0
      },
      "text/plain": [
       "  0%|          | 0/1 [00:00<?, ?it/s]"
      ]
     },
     "metadata": {},
     "output_type": "display_data"
    }
   ],
   "source": [
    "tweet_dataset = Dataset.from_pandas(training_tweets[['text', 'label']])\n",
    "\n",
    "# Dataset has a built in train test split method\n",
    "tweet_dataset = tweet_dataset.train_test_split(test_size=0.2)\n",
    "\n",
    "train_set = tweet_dataset['train']\n",
    "test_set = tweet_dataset['test']"
   ]
  },
  {
   "cell_type": "code",
   "execution_count": null,
   "id": "528b2489",
   "metadata": {},
   "outputs": [],
   "source": []
  },
  {
   "cell_type": "code",
   "execution_count": 9,
   "id": "c0b42057",
   "metadata": {},
   "outputs": [],
   "source": [
    "BERT_MODEL = 'distilbert-base-uncased'\n",
    "bert_tokenizer = DistilBertTokenizerFast.from_pretrained(BERT_MODEL)"
   ]
  },
  {
   "cell_type": "code",
   "execution_count": null,
   "id": "bf57ab29",
   "metadata": {},
   "outputs": [],
   "source": []
  },
  {
   "cell_type": "code",
   "execution_count": 10,
   "id": "ba2f2656",
   "metadata": {},
   "outputs": [
    {
     "name": "stdout",
     "output_type": "stream",
     "text": [
      "Ignored unknown kwarg option direction\n"
     ]
    },
    {
     "data": {
      "application/vnd.jupyter.widget-view+json": {
       "model_id": "1f54d14724e2490ca754bd2c9127afa4",
       "version_major": 2,
       "version_minor": 0
      },
      "text/plain": [
       "  0%|          | 0/1 [00:00<?, ?it/s]"
      ]
     },
     "metadata": {},
     "output_type": "display_data"
    },
    {
     "name": "stdout",
     "output_type": "stream",
     "text": [
      "Ignored unknown kwarg option direction\n",
      "Ignored unknown kwarg option direction\n"
     ]
    },
    {
     "data": {
      "application/vnd.jupyter.widget-view+json": {
       "model_id": "31ce00a0046b4b7686fab55de86df0cb",
       "version_major": 2,
       "version_minor": 0
      },
      "text/plain": [
       "  0%|          | 0/1 [00:00<?, ?it/s]"
      ]
     },
     "metadata": {},
     "output_type": "display_data"
    },
    {
     "name": "stdout",
     "output_type": "stream",
     "text": [
      "Ignored unknown kwarg option direction\n"
     ]
    }
   ],
   "source": [
    "# We will pad our dataset so that our input matrices are the same length and truncate\n",
    "def preprocess(data):\n",
    "    return bert_tokenizer(data['text'], padding=True, truncation=True, max_length=128)\n",
    "\n",
    "train_set = train_set.map(preprocess, batched=True, batch_size=len(train_set))\n",
    "test_set = test_set.map(preprocess, batched=True, batch_size=len(test_set))\n",
    "\n",
    "train_set.set_format('torch', columns=['input_ids', 'attention_mask', 'label'])\n",
    "test_set.set_format('torch', columns=['input_ids', 'attention_mask', 'label'])"
   ]
  },
  {
   "cell_type": "code",
   "execution_count": null,
   "id": "4a87677f",
   "metadata": {
    "scrolled": true
   },
   "outputs": [],
   "source": []
  },
  {
   "cell_type": "code",
   "execution_count": 11,
   "id": "e99c98c4",
   "metadata": {
    "scrolled": true
   },
   "outputs": [
    {
     "name": "stderr",
     "output_type": "stream",
     "text": [
      "Some weights of the model checkpoint at distilbert-base-uncased were not used when initializing DistilBertForSequenceClassification: ['vocab_layer_norm.bias', 'vocab_layer_norm.weight', 'vocab_projector.weight', 'vocab_projector.bias', 'vocab_transform.bias', 'vocab_transform.weight']\n",
      "- This IS expected if you are initializing DistilBertForSequenceClassification from the checkpoint of a model trained on another task or with another architecture (e.g. initializing a BertForSequenceClassification model from a BertForPreTraining model).\n",
      "- This IS NOT expected if you are initializing DistilBertForSequenceClassification from the checkpoint of a model that you expect to be exactly identical (initializing a BertForSequenceClassification model from a BertForSequenceClassification model).\n",
      "Some weights of DistilBertForSequenceClassification were not initialized from the model checkpoint at distilbert-base-uncased and are newly initialized: ['classifier.weight', 'pre_classifier.bias', 'pre_classifier.weight', 'classifier.bias']\n",
      "You should probably TRAIN this model on a down-stream task to be able to use it for predictions and inference.\n"
     ]
    }
   ],
   "source": [
    "sequence_classification_model = DistilBertForSequenceClassification.from_pretrained(\n",
    "    BERT_MODEL, num_labels=3,\n",
    "    output_attentions = False, # Whether the model returns attentions weights.\n",
    "    output_hidden_states = False # Whether the model returns all hidden-states.\n",
    ")"
   ]
  },
  {
   "cell_type": "code",
   "execution_count": null,
   "id": "74b8a626",
   "metadata": {},
   "outputs": [],
   "source": []
  },
  {
   "cell_type": "code",
   "execution_count": 12,
   "id": "31537615",
   "metadata": {},
   "outputs": [],
   "source": [
    "metric = load_metric(\"accuracy\")\n",
    "\n",
    "def compute_metrics(eval_pred):\n",
    "    logits, labels = eval_pred\n",
    "    predictions = np.argmax(logits, axis=-1)\n",
    "    return metric.compute(predictions=predictions, references=labels)"
   ]
  },
  {
   "cell_type": "code",
   "execution_count": 13,
   "id": "36d2a137",
   "metadata": {},
   "outputs": [
    {
     "data": {
      "text/plain": [
       "1725"
      ]
     },
     "execution_count": 13,
     "metadata": {},
     "output_type": "execute_result"
    }
   ],
   "source": [
    "len(train_set)"
   ]
  },
  {
   "cell_type": "markdown",
   "id": "f5f4a4da",
   "metadata": {},
   "source": [
    "## Train a model on Tweets until the end of March"
   ]
  },
  {
   "cell_type": "code",
   "execution_count": 14,
   "id": "d8842fcf",
   "metadata": {
    "scrolled": true
   },
   "outputs": [],
   "source": [
    "batch_size = 32\n",
    "epochs = 2\n",
    "\n",
    "training_args = TrainingArguments(\n",
    "    output_dir='./drift_clf/results',\n",
    "    num_train_epochs=epochs,\n",
    "    per_device_train_batch_size=batch_size,\n",
    "    per_device_eval_batch_size=batch_size,\n",
    "    logging_dir='./drift_clf/logs',\n",
    "    logging_strategy='epoch',\n",
    "    save_strategy='epoch',\n",
    "    evaluation_strategy='epoch',\n",
    "    load_best_model_at_end=True\n",
    ")\n",
    "\n",
    "# Define the trainer\n",
    "trainer = Trainer(\n",
    "    model=sequence_classification_model,\n",
    "    args=training_args,\n",
    "    train_dataset=train_set,\n",
    "    eval_dataset=test_set,\n",
    "    compute_metrics=compute_metrics\n",
    ")"
   ]
  },
  {
   "cell_type": "code",
   "execution_count": 15,
   "id": "79284e1c",
   "metadata": {},
   "outputs": [],
   "source": [
    "URL_REGEX = re.compile('http(s)?:\\/\\/t.co\\/\\w+')\n",
    "MENTION_REGEX = re.compile('@\\w+')\n",
    "def clean_tweet(tweet):\n",
    "    # remove mentions, the pound sign, and replace urls with URL token\n",
    "    tweet = re.sub(URL_REGEX, 'url', tweet)  # replace urls with url. Assumes that the mention of a url is significant\n",
    "    tweet = re.sub(MENTION_REGEX, '', tweet)  # remove mentions entirely\n",
    "    tweet = tweet.replace('#', '')  # remove pound signs\n",
    "    \n",
    "    return tweet.strip()"
   ]
  },
  {
   "cell_type": "code",
   "execution_count": 16,
   "id": "c0d91543",
   "metadata": {},
   "outputs": [
    {
     "data": {
      "text/plain": [
       "tensor([[0.3465, 0.3342, 0.3193]], grad_fn=<SoftmaxBackward0>)"
      ]
     },
     "execution_count": 16,
     "metadata": {},
     "output_type": "execute_result"
    }
   ],
   "source": [
    "Softmax(dim=1)(sequence_classification_model(\n",
    "    bert_tokenizer.encode(clean_tweet('Corona Virus sucks so bad'), return_tensors='pt')).logits)"
   ]
  },
  {
   "cell_type": "code",
   "execution_count": 17,
   "id": "1b992b37",
   "metadata": {
    "scrolled": true
   },
   "outputs": [
    {
     "name": "stderr",
     "output_type": "stream",
     "text": [
      "***** Running Evaluation *****\n",
      "  Num examples = 432\n",
      "  Batch size = 32\n"
     ]
    },
    {
     "data": {
      "text/html": [
       "\n",
       "    <div>\n",
       "      \n",
       "      <progress value='28' max='14' style='width:300px; height:20px; vertical-align: middle;'></progress>\n",
       "      [14/14 01:52]\n",
       "    </div>\n",
       "    "
      ],
      "text/plain": [
       "<IPython.core.display.HTML object>"
      ]
     },
     "metadata": {},
     "output_type": "display_data"
    },
    {
     "data": {
      "text/plain": [
       "{'eval_loss': 1.0979571342468262,\n",
       " 'eval_accuracy': 0.33101851851851855,\n",
       " 'eval_runtime': 4.5475,\n",
       " 'eval_samples_per_second': 94.998,\n",
       " 'eval_steps_per_second': 3.079}"
      ]
     },
     "execution_count": 17,
     "metadata": {},
     "output_type": "execute_result"
    }
   ],
   "source": [
    "trainer.evaluate()"
   ]
  },
  {
   "cell_type": "markdown",
   "id": "60c4e922",
   "metadata": {},
   "source": [
    "## Train our DistilBERT model on tweets up until the end of March"
   ]
  },
  {
   "cell_type": "code",
   "execution_count": 18,
   "id": "aa832b43",
   "metadata": {
    "scrolled": true
   },
   "outputs": [
    {
     "name": "stderr",
     "output_type": "stream",
     "text": [
      "/opt/homebrew/lib/python3.9/site-packages/transformers/optimization.py:306: FutureWarning: This implementation of AdamW is deprecated and will be removed in a future version. Use thePyTorch implementation torch.optim.AdamW instead, or set `no_deprecation_warning=True` to disable this warning\n",
      "  warnings.warn(\n",
      "***** Running training *****\n",
      "  Num examples = 1725\n",
      "  Num Epochs = 2\n",
      "  Instantaneous batch size per device = 32\n",
      "  Total train batch size (w. parallel, distributed & accumulation) = 32\n",
      "  Gradient Accumulation steps = 1\n",
      "  Total optimization steps = 108\n"
     ]
    },
    {
     "data": {
      "text/html": [
       "\n",
       "    <div>\n",
       "      \n",
       "      <progress value='108' max='108' style='width:300px; height:20px; vertical-align: middle;'></progress>\n",
       "      [108/108 03:46, Epoch 2/2]\n",
       "    </div>\n",
       "    <table border=\"1\" class=\"dataframe\">\n",
       "  <thead>\n",
       " <tr style=\"text-align: left;\">\n",
       "      <th>Epoch</th>\n",
       "      <th>Training Loss</th>\n",
       "      <th>Validation Loss</th>\n",
       "      <th>Accuracy</th>\n",
       "    </tr>\n",
       "  </thead>\n",
       "  <tbody>\n",
       "    <tr>\n",
       "      <td>1</td>\n",
       "      <td>0.960500</td>\n",
       "      <td>0.819714</td>\n",
       "      <td>0.636574</td>\n",
       "    </tr>\n",
       "    <tr>\n",
       "      <td>2</td>\n",
       "      <td>0.636500</td>\n",
       "      <td>0.733567</td>\n",
       "      <td>0.706019</td>\n",
       "    </tr>\n",
       "  </tbody>\n",
       "</table><p>"
      ],
      "text/plain": [
       "<IPython.core.display.HTML object>"
      ]
     },
     "metadata": {},
     "output_type": "display_data"
    },
    {
     "name": "stderr",
     "output_type": "stream",
     "text": [
      "***** Running Evaluation *****\n",
      "  Num examples = 432\n",
      "  Batch size = 32\n",
      "Saving model checkpoint to ./drift_clf/results/checkpoint-54\n",
      "Configuration saved in ./drift_clf/results/checkpoint-54/config.json\n",
      "Model weights saved in ./drift_clf/results/checkpoint-54/pytorch_model.bin\n",
      "***** Running Evaluation *****\n",
      "  Num examples = 432\n",
      "  Batch size = 32\n",
      "Saving model checkpoint to ./drift_clf/results/checkpoint-108\n",
      "Configuration saved in ./drift_clf/results/checkpoint-108/config.json\n",
      "Model weights saved in ./drift_clf/results/checkpoint-108/pytorch_model.bin\n",
      "\n",
      "\n",
      "Training completed. Do not forget to share your model on huggingface.co/models =)\n",
      "\n",
      "\n",
      "Loading best model from ./drift_clf/results/checkpoint-108 (score: 0.73356693983078).\n"
     ]
    },
    {
     "data": {
      "text/plain": [
       "TrainOutput(global_step=108, training_loss=0.7984670709680628, metrics={'train_runtime': 227.716, 'train_samples_per_second': 15.15, 'train_steps_per_second': 0.474, 'total_flos': 86583995169300.0, 'train_loss': 0.7984670709680628, 'epoch': 2.0})"
      ]
     },
     "execution_count": 18,
     "metadata": {},
     "output_type": "execute_result"
    }
   ],
   "source": [
    "trainer.train()"
   ]
  },
  {
   "cell_type": "code",
   "execution_count": 19,
   "id": "b64123a5",
   "metadata": {},
   "outputs": [
    {
     "name": "stderr",
     "output_type": "stream",
     "text": [
      "***** Running Evaluation *****\n",
      "  Num examples = 432\n",
      "  Batch size = 32\n"
     ]
    },
    {
     "data": {
      "text/html": [
       "\n",
       "    <div>\n",
       "      \n",
       "      <progress value='161' max='14' style='width:300px; height:20px; vertical-align: middle;'></progress>\n",
       "      [14/14 01:45]\n",
       "    </div>\n",
       "    "
      ],
      "text/plain": [
       "<IPython.core.display.HTML object>"
      ]
     },
     "metadata": {},
     "output_type": "display_data"
    },
    {
     "data": {
      "text/plain": [
       "{'eval_loss': 0.73356693983078,\n",
       " 'eval_accuracy': 0.7060185185185185,\n",
       " 'eval_runtime': 4.6034,\n",
       " 'eval_samples_per_second': 93.843,\n",
       " 'eval_steps_per_second': 3.041,\n",
       " 'epoch': 2.0}"
      ]
     },
     "execution_count": 19,
     "metadata": {},
     "output_type": "execute_result"
    }
   ],
   "source": [
    "trainer.evaluate()"
   ]
  },
  {
   "cell_type": "code",
   "execution_count": 20,
   "id": "fd2b3bee",
   "metadata": {},
   "outputs": [
    {
     "data": {
      "text/plain": [
       "tensor([[0.8494, 0.0543, 0.0964]], grad_fn=<SoftmaxBackward0>)"
      ]
     },
     "execution_count": 20,
     "metadata": {},
     "output_type": "execute_result"
    }
   ],
   "source": [
    "# Our model is definitely performing better\n",
    "Softmax(dim=1)(sequence_classification_model(\n",
    "    bert_tokenizer.encode(clean_tweet('Corona Virus sucks so bad'), return_tensors='pt')).logits)"
   ]
  },
  {
   "cell_type": "code",
   "execution_count": 21,
   "id": "de6ece8c",
   "metadata": {},
   "outputs": [
    {
     "name": "stderr",
     "output_type": "stream",
     "text": [
      "Saving model checkpoint to ./drift_clf/results\n",
      "Configuration saved in ./drift_clf/results/config.json\n",
      "Model weights saved in ./drift_clf/results/pytorch_model.bin\n"
     ]
    }
   ],
   "source": [
    "# save our best model\n",
    "trainer.save_model()"
   ]
  },
  {
   "cell_type": "code",
   "execution_count": null,
   "id": "international-soundtrack",
   "metadata": {},
   "outputs": [],
   "source": []
  },
  {
   "cell_type": "markdown",
   "id": "825a5008",
   "metadata": {},
   "source": [
    "## Load up our fine-tuned model (in the future)"
   ]
  },
  {
   "cell_type": "code",
   "execution_count": 22,
   "id": "81733e5e",
   "metadata": {
    "scrolled": true
   },
   "outputs": [
    {
     "name": "stderr",
     "output_type": "stream",
     "text": [
      "loading configuration file ./drift_clf/results/config.json\n",
      "Model config DistilBertConfig {\n",
      "  \"_name_or_path\": \"distilbert-base-uncased\",\n",
      "  \"activation\": \"gelu\",\n",
      "  \"architectures\": [\n",
      "    \"DistilBertForSequenceClassification\"\n",
      "  ],\n",
      "  \"attention_dropout\": 0.1,\n",
      "  \"dim\": 768,\n",
      "  \"dropout\": 0.1,\n",
      "  \"hidden_dim\": 3072,\n",
      "  \"id2label\": {\n",
      "    \"0\": \"LABEL_0\",\n",
      "    \"1\": \"LABEL_1\",\n",
      "    \"2\": \"LABEL_2\"\n",
      "  },\n",
      "  \"initializer_range\": 0.02,\n",
      "  \"label2id\": {\n",
      "    \"LABEL_0\": 0,\n",
      "    \"LABEL_1\": 1,\n",
      "    \"LABEL_2\": 2\n",
      "  },\n",
      "  \"max_position_embeddings\": 512,\n",
      "  \"model_type\": \"distilbert\",\n",
      "  \"n_heads\": 12,\n",
      "  \"n_layers\": 6,\n",
      "  \"pad_token_id\": 0,\n",
      "  \"problem_type\": \"single_label_classification\",\n",
      "  \"qa_dropout\": 0.1,\n",
      "  \"seq_classif_dropout\": 0.2,\n",
      "  \"sinusoidal_pos_embds\": false,\n",
      "  \"tie_weights_\": true,\n",
      "  \"torch_dtype\": \"float32\",\n",
      "  \"transformers_version\": \"4.16.2\",\n",
      "  \"vocab_size\": 30522\n",
      "}\n",
      "\n",
      "loading weights file ./drift_clf/results/pytorch_model.bin\n",
      "All model checkpoint weights were used when initializing DistilBertForSequenceClassification.\n",
      "\n",
      "All the weights of DistilBertForSequenceClassification were initialized from the model checkpoint at ./drift_clf/results.\n",
      "If your task is similar to the task the model of the checkpoint was trained on, you can already use DistilBertForSequenceClassification for predictions without further training.\n"
     ]
    }
   ],
   "source": [
    "# Load our model from our training directory\n",
    "sequence_classification_model = DistilBertForSequenceClassification.from_pretrained(\n",
    "    './drift_clf/results', num_labels=3\n",
    ")\n"
   ]
  },
  {
   "cell_type": "markdown",
   "id": "898b9360",
   "metadata": {},
   "source": [
    "# Predict all tweets from April 1 onwards using the model only trained up until March"
   ]
  },
  {
   "cell_type": "code",
   "execution_count": null,
   "id": "3b4572be",
   "metadata": {},
   "outputs": [],
   "source": []
  },
  {
   "cell_type": "code",
   "execution_count": 24,
   "id": "52f079c4",
   "metadata": {
    "scrolled": true
   },
   "outputs": [
    {
     "name": "stdout",
     "output_type": "stream",
     "text": [
      "Ignored unknown kwarg option direction\n"
     ]
    },
    {
     "data": {
      "application/vnd.jupyter.widget-view+json": {
       "model_id": "4289a173fc024d558f753e711bcb255d",
       "version_major": 2,
       "version_minor": 0
      },
      "text/plain": [
       "  0%|          | 0/1 [00:00<?, ?it/s]"
      ]
     },
     "metadata": {},
     "output_type": "display_data"
    },
    {
     "name": "stdout",
     "output_type": "stream",
     "text": [
      "Ignored unknown kwarg option direction\n"
     ]
    },
    {
     "name": "stderr",
     "output_type": "stream",
     "text": [
      "***** Running Prediction *****\n",
      "  Num examples = 4685\n",
      "  Batch size = 32\n"
     ]
    }
   ],
   "source": [
    "april_onwards = tweets.loc['2020-4':].reset_index()\n",
    "\n",
    "april_onwards = Dataset.from_pandas(april_onwards[['text', 'label']])\n",
    "\n",
    "# We will pad our dataset so that our input matrices are the same length and truncate\n",
    "def preprocess(data):\n",
    "    return bert_tokenizer(data['text'], padding=True, truncation=True, max_length=128)\n",
    "\n",
    "april_onwards = april_onwards.map(preprocess, batched=True, batch_size=len(april_onwards))\n",
    "\n",
    "april_onwards.set_format('torch', columns=['input_ids', 'attention_mask', 'label'])\n",
    "\n",
    "tweets['predicted_label'] = None\n",
    "tweets.loc['2020-4':, 'predicted_label'] = trainer.predict(april_onwards).predictions.argmax(1)"
   ]
  },
  {
   "cell_type": "code",
   "execution_count": null,
   "id": "e4a5721c",
   "metadata": {},
   "outputs": [],
   "source": []
  },
  {
   "cell_type": "code",
   "execution_count": 25,
   "id": "23c1e3ac",
   "metadata": {},
   "outputs": [
    {
     "data": {
      "text/html": [
       "<div>\n",
       "<style scoped>\n",
       "    .dataframe tbody tr th:only-of-type {\n",
       "        vertical-align: middle;\n",
       "    }\n",
       "\n",
       "    .dataframe tbody tr th {\n",
       "        vertical-align: top;\n",
       "    }\n",
       "\n",
       "    .dataframe thead th {\n",
       "        text-align: right;\n",
       "    }\n",
       "</style>\n",
       "<table border=\"1\" class=\"dataframe\">\n",
       "  <thead>\n",
       "    <tr style=\"text-align: right;\">\n",
       "      <th></th>\n",
       "      <th>UserName</th>\n",
       "      <th>ScreenName</th>\n",
       "      <th>Location</th>\n",
       "      <th>TweetAt</th>\n",
       "      <th>OriginalTweet</th>\n",
       "      <th>Sentiment</th>\n",
       "      <th>month</th>\n",
       "      <th>text</th>\n",
       "      <th>label</th>\n",
       "      <th>predicted_label</th>\n",
       "    </tr>\n",
       "    <tr>\n",
       "      <th>date</th>\n",
       "      <th></th>\n",
       "      <th></th>\n",
       "      <th></th>\n",
       "      <th></th>\n",
       "      <th></th>\n",
       "      <th></th>\n",
       "      <th></th>\n",
       "      <th></th>\n",
       "      <th></th>\n",
       "      <th></th>\n",
       "    </tr>\n",
       "  </thead>\n",
       "  <tbody>\n",
       "    <tr>\n",
       "      <th>2020-12-04</th>\n",
       "      <td>42574</td>\n",
       "      <td>87526</td>\n",
       "      <td>Berlin</td>\n",
       "      <td>12-04-2020</td>\n",
       "      <td>Confronting shows how far a infected person s...</td>\n",
       "      <td>Positive</td>\n",
       "      <td>12</td>\n",
       "      <td>Confronting shows how far a infected person s ...</td>\n",
       "      <td>2</td>\n",
       "      <td>0</td>\n",
       "    </tr>\n",
       "    <tr>\n",
       "      <th>2020-12-04</th>\n",
       "      <td>42989</td>\n",
       "      <td>87941</td>\n",
       "      <td>Boston, MA</td>\n",
       "      <td>12-04-2020</td>\n",
       "      <td>Via @Forrester Navigate To The New Norm: Insig...</td>\n",
       "      <td>Neutral</td>\n",
       "      <td>12</td>\n",
       "      <td>Via  Navigate To The New Norm: Insights From F...</td>\n",
       "      <td>1</td>\n",
       "      <td>1</td>\n",
       "    </tr>\n",
       "  </tbody>\n",
       "</table>\n",
       "</div>"
      ],
      "text/plain": [
       "            UserName  ScreenName    Location     TweetAt  \\\n",
       "date                                                       \n",
       "2020-12-04     42574       87526      Berlin  12-04-2020   \n",
       "2020-12-04     42989       87941  Boston, MA  12-04-2020   \n",
       "\n",
       "                                                OriginalTweet Sentiment  \\\n",
       "date                                                                      \n",
       "2020-12-04   Confronting shows how far a infected person s...  Positive   \n",
       "2020-12-04  Via @Forrester Navigate To The New Norm: Insig...   Neutral   \n",
       "\n",
       "            month                                               text  label  \\\n",
       "date                                                                          \n",
       "2020-12-04     12  Confronting shows how far a infected person s ...      2   \n",
       "2020-12-04     12  Via  Navigate To The New Norm: Insights From F...      1   \n",
       "\n",
       "           predicted_label  \n",
       "date                        \n",
       "2020-12-04               0  \n",
       "2020-12-04               1  "
      ]
     },
     "execution_count": 25,
     "metadata": {},
     "output_type": "execute_result"
    }
   ],
   "source": [
    "tweets.tail(2)"
   ]
  },
  {
   "cell_type": "code",
   "execution_count": null,
   "id": "1befb29c",
   "metadata": {},
   "outputs": [],
   "source": []
  },
  {
   "cell_type": "code",
   "execution_count": 27,
   "id": "40dc9560",
   "metadata": {},
   "outputs": [
    {
     "data": {
      "text/plain": [
       "month\n",
       "1     0.000000\n",
       "2     0.000000\n",
       "3     0.000000\n",
       "4     0.724687\n",
       "5     0.731959\n",
       "6     0.718287\n",
       "7     0.696541\n",
       "8     0.732836\n",
       "9     0.744141\n",
       "10    0.726064\n",
       "11    0.699700\n",
       "12    0.735915\n",
       "Name: correct_label, dtype: float64"
      ]
     },
     "execution_count": 27,
     "metadata": {},
     "output_type": "execute_result"
    }
   ],
   "source": [
    "tweets['correct_label'] = tweets['predicted_label'] == tweets['label']\n",
    "\n",
    "tweets.groupby('month')['correct_label'].mean()"
   ]
  },
  {
   "cell_type": "code",
   "execution_count": 28,
   "id": "2437c1fd",
   "metadata": {},
   "outputs": [
    {
     "data": {
      "text/plain": [
       "<AxesSubplot:xlabel='month'>"
      ]
     },
     "execution_count": 28,
     "metadata": {},
     "output_type": "execute_result"
    },
    {
     "data": {
      "image/png": "[encoded data removed]",
      "text/plain": [
       "<Figure size 432x288 with 1 Axes>"
      ]
     },
     "metadata": {
      "needs_background": "light"
     },
     "output_type": "display_data"
    }
   ],
   "source": [
    "tweets.groupby('month')['correct_label'].mean().plot()"
   ]
  },
  {
   "cell_type": "code",
   "execution_count": null,
   "id": "df73a29c",
   "metadata": {},
   "outputs": [],
   "source": []
  },
  {
   "cell_type": "markdown",
   "id": "c7e010cc",
   "metadata": {},
   "source": [
    "## Online Learning"
   ]
  },
  {
   "cell_type": "code",
   "execution_count": 29,
   "id": "a2190353",
   "metadata": {},
   "outputs": [
    {
     "name": "stderr",
     "output_type": "stream",
     "text": [
      "/var/folders/y9/9xqbqkg90tnc0cmm0dxt985m0000gn/T/ipykernel_8923/958100793.py:1: FutureWarning: Indexing a DataFrame with a datetimelike index using a single string to slice the rows, like `frame[string]`, is deprecated and will be removed in a future version. Use `frame.loc[string]` instead.\n",
      "  training_tweets = tweets['2020-04']\n"
     ]
    },
    {
     "data": {
      "application/vnd.jupyter.widget-view+json": {
       "model_id": "521534ad257c4e60b879ec44ecd38c66",
       "version_major": 2,
       "version_minor": 0
      },
      "text/plain": [
       "  0%|          | 0/1 [00:00<?, ?it/s]"
      ]
     },
     "metadata": {},
     "output_type": "display_data"
    },
    {
     "data": {
      "application/vnd.jupyter.widget-view+json": {
       "model_id": "db55c5b793b141639b6eb375799fbc0e",
       "version_major": 2,
       "version_minor": 0
      },
      "text/plain": [
       "  0%|          | 0/1 [00:00<?, ?it/s]"
      ]
     },
     "metadata": {},
     "output_type": "display_data"
    },
    {
     "name": "stdout",
     "output_type": "stream",
     "text": [
      "Ignored unknown kwarg option direction\n"
     ]
    },
    {
     "data": {
      "application/vnd.jupyter.widget-view+json": {
       "model_id": "6767354ff20e4b9e8d0744519c0cf59d",
       "version_major": 2,
       "version_minor": 0
      },
      "text/plain": [
       "  0%|          | 0/1 [00:00<?, ?it/s]"
      ]
     },
     "metadata": {},
     "output_type": "display_data"
    },
    {
     "name": "stdout",
     "output_type": "stream",
     "text": [
      "Ignored unknown kwarg option direction\n",
      "Ignored unknown kwarg option direction\n"
     ]
    },
    {
     "data": {
      "application/vnd.jupyter.widget-view+json": {
       "model_id": "a7f5b57b623e431a8e51fa48dc3e1cc8",
       "version_major": 2,
       "version_minor": 0
      },
      "text/plain": [
       "  0%|          | 0/1 [00:00<?, ?it/s]"
      ]
     },
     "metadata": {},
     "output_type": "display_data"
    },
    {
     "name": "stderr",
     "output_type": "stream",
     "text": [
      "PyTorch: setting up devices\n",
      "The default value for the training argument `--report_to` will change in v5 (from all installed integrations to none). In v5, you will need to use `--report_to all` to get the same behavior as now. You should start updating your code and make this info disappear :-).\n"
     ]
    },
    {
     "name": "stdout",
     "output_type": "stream",
     "text": [
      "Ignored unknown kwarg option direction\n"
     ]
    }
   ],
   "source": [
    "training_tweets = tweets['2020-04']\n",
    "\n",
    "tweet_dataset = Dataset.from_pandas(training_tweets.reset_index()[['text', 'label']])\n",
    "tweet_dataset = tweet_dataset.train_test_split(test_size=0.2)\n",
    "\n",
    "train_set = tweet_dataset['train']\n",
    "test_set = tweet_dataset['test']\n",
    "\n",
    "train_set = train_set.map(preprocess, batched=True, batch_size=len(train_set))\n",
    "test_set = test_set.map(preprocess, batched=True, batch_size=len(test_set))\n",
    "\n",
    "train_set.set_format('torch', columns=['input_ids', 'attention_mask', 'label'])\n",
    "test_set.set_format('torch', columns=['input_ids', 'attention_mask', 'label'])\n",
    "\n",
    "# Update the training arguments and trainer arguments\n",
    "\n",
    "training_args = TrainingArguments(\n",
    "    output_dir='./drift_clf/results',\n",
    "    num_train_epochs=epochs,\n",
    "    per_device_train_batch_size=batch_size,\n",
    "    per_device_eval_batch_size=batch_size,\n",
    "    logging_dir='./drift_clf/logs',\n",
    "    logging_strategy='epoch',\n",
    "    save_strategy='epoch',\n",
    "    evaluation_strategy='epoch',\n",
    "    load_best_model_at_end=True\n",
    ")\n",
    "\n",
    "# Define the trainer\n",
    "trainer = Trainer(\n",
    "    model=sequence_classification_model,\n",
    "    args=training_args,\n",
    "    train_dataset=train_set,\n",
    "    eval_dataset=test_set,\n",
    "    compute_metrics=compute_metrics\n",
    ")"
   ]
  },
  {
   "cell_type": "code",
   "execution_count": 30,
   "id": "f374a125",
   "metadata": {},
   "outputs": [
    {
     "data": {
      "text/plain": [
       "tensor([[0.8494, 0.0543, 0.0964]], grad_fn=<SoftmaxBackward0>)"
      ]
     },
     "execution_count": 30,
     "metadata": {},
     "output_type": "execute_result"
    }
   ],
   "source": [
    "Softmax(dim=1)(sequence_classification_model(\n",
    "    bert_tokenizer.encode(clean_tweet('Corona Virus sucks so bad'), return_tensors='pt')).logits)"
   ]
  },
  {
   "cell_type": "code",
   "execution_count": 31,
   "id": "7f95aaf4",
   "metadata": {},
   "outputs": [
    {
     "name": "stderr",
     "output_type": "stream",
     "text": [
      "***** Running Evaluation *****\n",
      "  Num examples = 176\n",
      "  Batch size = 32\n"
     ]
    },
    {
     "data": {
      "text/html": [
       "\n",
       "    <div>\n",
       "      \n",
       "      <progress value='12' max='6' style='width:300px; height:20px; vertical-align: middle;'></progress>\n",
       "      [6/6 00:29]\n",
       "    </div>\n",
       "    "
      ],
      "text/plain": [
       "<IPython.core.display.HTML object>"
      ]
     },
     "metadata": {},
     "output_type": "display_data"
    },
    {
     "data": {
      "text/plain": [
       "{'eval_loss': 0.6205384731292725,\n",
       " 'eval_accuracy': 0.7215909090909091,\n",
       " 'eval_runtime': 1.4286,\n",
       " 'eval_samples_per_second': 123.199,\n",
       " 'eval_steps_per_second': 4.2}"
      ]
     },
     "execution_count": 31,
     "metadata": {},
     "output_type": "execute_result"
    }
   ],
   "source": [
    "# evaluate on the new data\n",
    "trainer.evaluate()"
   ]
  },
  {
   "cell_type": "markdown",
   "id": "cf74e98d",
   "metadata": {},
   "source": [
    "## Train our DistilBERT model on tweets in April only"
   ]
  },
  {
   "cell_type": "code",
   "execution_count": 32,
   "id": "0cd73d28",
   "metadata": {
    "scrolled": true
   },
   "outputs": [
    {
     "name": "stderr",
     "output_type": "stream",
     "text": [
      "/opt/homebrew/lib/python3.9/site-packages/transformers/optimization.py:306: FutureWarning: This implementation of AdamW is deprecated and will be removed in a future version. Use thePyTorch implementation torch.optim.AdamW instead, or set `no_deprecation_warning=True` to disable this warning\n",
      "  warnings.warn(\n",
      "***** Running training *****\n",
      "  Num examples = 703\n",
      "  Num Epochs = 2\n",
      "  Instantaneous batch size per device = 32\n",
      "  Total train batch size (w. parallel, distributed & accumulation) = 32\n",
      "  Gradient Accumulation steps = 1\n",
      "  Total optimization steps = 44\n"
     ]
    },
    {
     "data": {
      "text/html": [
       "\n",
       "    <div>\n",
       "      \n",
       "      <progress value='44' max='44' style='width:300px; height:20px; vertical-align: middle;'></progress>\n",
       "      [44/44 00:55, Epoch 2/2]\n",
       "    </div>\n",
       "    <table border=\"1\" class=\"dataframe\">\n",
       "  <thead>\n",
       " <tr style=\"text-align: left;\">\n",
       "      <th>Epoch</th>\n",
       "      <th>Training Loss</th>\n",
       "      <th>Validation Loss</th>\n",
       "      <th>Accuracy</th>\n",
       "    </tr>\n",
       "  </thead>\n",
       "  <tbody>\n",
       "    <tr>\n",
       "      <td>1</td>\n",
       "      <td>0.704600</td>\n",
       "      <td>0.558317</td>\n",
       "      <td>0.801136</td>\n",
       "    </tr>\n",
       "    <tr>\n",
       "      <td>2</td>\n",
       "      <td>0.429300</td>\n",
       "      <td>0.528065</td>\n",
       "      <td>0.767045</td>\n",
       "    </tr>\n",
       "  </tbody>\n",
       "</table><p>"
      ],
      "text/plain": [
       "<IPython.core.display.HTML object>"
      ]
     },
     "metadata": {},
     "output_type": "display_data"
    },
    {
     "name": "stderr",
     "output_type": "stream",
     "text": [
      "***** Running Evaluation *****\n",
      "  Num examples = 176\n",
      "  Batch size = 32\n",
      "Saving model checkpoint to ./drift_clf/results/checkpoint-22\n",
      "Configuration saved in ./drift_clf/results/checkpoint-22/config.json\n",
      "Model weights saved in ./drift_clf/results/checkpoint-22/pytorch_model.bin\n",
      "***** Running Evaluation *****\n",
      "  Num examples = 176\n",
      "  Batch size = 32\n",
      "Saving model checkpoint to ./drift_clf/results/checkpoint-44\n",
      "Configuration saved in ./drift_clf/results/checkpoint-44/config.json\n",
      "Model weights saved in ./drift_clf/results/checkpoint-44/pytorch_model.bin\n",
      "\n",
      "\n",
      "Training completed. Do not forget to share your model on huggingface.co/models =)\n",
      "\n",
      "\n",
      "Loading best model from ./drift_clf/results/checkpoint-44 (score: 0.5280651450157166).\n"
     ]
    },
    {
     "data": {
      "text/plain": [
       "TrainOutput(global_step=44, training_loss=0.566939115524292, metrics={'train_runtime': 56.2461, 'train_samples_per_second': 24.997, 'train_steps_per_second': 0.782, 'total_flos': 20371365437472.0, 'train_loss': 0.566939115524292, 'epoch': 2.0})"
      ]
     },
     "execution_count": 32,
     "metadata": {},
     "output_type": "execute_result"
    }
   ],
   "source": [
    "trainer.train()"
   ]
  },
  {
   "cell_type": "code",
   "execution_count": 33,
   "id": "fb80042c",
   "metadata": {},
   "outputs": [
    {
     "name": "stderr",
     "output_type": "stream",
     "text": [
      "***** Running Evaluation *****\n",
      "  Num examples = 176\n",
      "  Batch size = 32\n"
     ]
    },
    {
     "data": {
      "text/html": [
       "\n",
       "    <div>\n",
       "      \n",
       "      <progress value='125' max='6' style='width:300px; height:20px; vertical-align: middle;'></progress>\n",
       "      [6/6 02:00]\n",
       "    </div>\n",
       "    "
      ],
      "text/plain": [
       "<IPython.core.display.HTML object>"
      ]
     },
     "metadata": {},
     "output_type": "display_data"
    },
    {
     "data": {
      "text/plain": [
       "{'eval_loss': 0.5280651450157166,\n",
       " 'eval_accuracy': 0.7670454545454546,\n",
       " 'eval_runtime': 2.0057,\n",
       " 'eval_samples_per_second': 87.749,\n",
       " 'eval_steps_per_second': 2.991,\n",
       " 'epoch': 2.0}"
      ]
     },
     "execution_count": 33,
     "metadata": {},
     "output_type": "execute_result"
    }
   ],
   "source": [
    "trainer.evaluate()"
   ]
  },
  {
   "cell_type": "code",
   "execution_count": 34,
   "id": "efd95576",
   "metadata": {},
   "outputs": [
    {
     "data": {
      "text/plain": [
       "tensor([[0.8946, 0.0328, 0.0727]], grad_fn=<SoftmaxBackward0>)"
      ]
     },
     "execution_count": 34,
     "metadata": {},
     "output_type": "execute_result"
    }
   ],
   "source": [
    "Softmax(dim=1)(sequence_classification_model(\n",
    "    bert_tokenizer.encode(clean_tweet('Corona Virus sucks so bad'), return_tensors='pt')).logits)"
   ]
  },
  {
   "cell_type": "code",
   "execution_count": null,
   "id": "06fa91f1",
   "metadata": {},
   "outputs": [],
   "source": []
  },
  {
   "cell_type": "code",
   "execution_count": 35,
   "id": "0391d10a",
   "metadata": {},
   "outputs": [
    {
     "name": "stdout",
     "output_type": "stream",
     "text": [
      "Ignored unknown kwarg option direction\n"
     ]
    },
    {
     "data": {
      "application/vnd.jupyter.widget-view+json": {
       "model_id": "5dc19acb9d604d2385be13efdd9c2818",
       "version_major": 2,
       "version_minor": 0
      },
      "text/plain": [
       "  0%|          | 0/1 [00:00<?, ?it/s]"
      ]
     },
     "metadata": {},
     "output_type": "display_data"
    },
    {
     "name": "stdout",
     "output_type": "stream",
     "text": [
      "Ignored unknown kwarg option direction\n"
     ]
    },
    {
     "name": "stderr",
     "output_type": "stream",
     "text": [
      "***** Running Prediction *****\n",
      "  Num examples = 3806\n",
      "  Batch size = 32\n"
     ]
    }
   ],
   "source": [
    "may_onwards = tweets.loc['2020-5':].reset_index()\n",
    "\n",
    "may_onwards = Dataset.from_pandas(may_onwards[['text', 'label']])\n",
    "\n",
    "# We will pad our dataset so that our input matrices are the same length and truncate\n",
    "def preprocess(data):\n",
    "    return bert_tokenizer(data['text'], padding=True, truncation=True, max_length=128)\n",
    "\n",
    "may_onwards = may_onwards.map(preprocess, batched=True, batch_size=len(may_onwards))\n",
    "\n",
    "may_onwards.set_format('torch', columns=['input_ids', 'attention_mask', 'label'])\n",
    "\n",
    "tweets['predicted_label_trained_at_4'] = None\n",
    "tweets.loc['2020-5':, 'predicted_label_trained_at_4'] = trainer.predict(may_onwards).predictions.argmax(1)"
   ]
  },
  {
   "cell_type": "code",
   "execution_count": 37,
   "id": "f1680733",
   "metadata": {},
   "outputs": [
    {
     "data": {
      "text/plain": [
       "<AxesSubplot:xlabel='month'>"
      ]
     },
     "execution_count": 37,
     "metadata": {},
     "output_type": "execute_result"
    },
    {
     "data": {
      "image/png": "[encoded data removed]",
      "text/plain": [
       "<Figure size 432x288 with 1 Axes>"
      ]
     },
     "metadata": {
      "needs_background": "light"
     },
     "output_type": "display_data"
    }
   ],
   "source": [
    "tweets['correct_label_trained_at_4'] = tweets['predicted_label_trained_at_4'] == tweets['label']\n",
    "\n",
    "tweets.groupby('month')[['correct_label', 'correct_label_trained_at_4']].mean().plot()"
   ]
  },
  {
   "cell_type": "code",
   "execution_count": 38,
   "id": "a163a1e2",
   "metadata": {},
   "outputs": [
    {
     "name": "stderr",
     "output_type": "stream",
     "text": [
      "/var/folders/y9/9xqbqkg90tnc0cmm0dxt985m0000gn/T/ipykernel_8923/992910795.py:1: FutureWarning: Indexing a DataFrame with a datetimelike index using a single string to slice the rows, like `frame[string]`, is deprecated and will be removed in a future version. Use `frame.loc[string]` instead.\n",
      "  training_tweets = tweets['2020-05']\n"
     ]
    },
    {
     "data": {
      "application/vnd.jupyter.widget-view+json": {
       "model_id": "1aaf90b3db20413aa4301c40b6593d53",
       "version_major": 2,
       "version_minor": 0
      },
      "text/plain": [
       "  0%|          | 0/1 [00:00<?, ?it/s]"
      ]
     },
     "metadata": {},
     "output_type": "display_data"
    },
    {
     "data": {
      "application/vnd.jupyter.widget-view+json": {
       "model_id": "d05a7f2cb2e8422c801a7d2da4fa0ffd",
       "version_major": 2,
       "version_minor": 0
      },
      "text/plain": [
       "  0%|          | 0/1 [00:00<?, ?it/s]"
      ]
     },
     "metadata": {},
     "output_type": "display_data"
    },
    {
     "name": "stdout",
     "output_type": "stream",
     "text": [
      "Ignored unknown kwarg option direction\n"
     ]
    },
    {
     "data": {
      "application/vnd.jupyter.widget-view+json": {
       "model_id": "517d9b1d727f4a14905fa9fa30df144a",
       "version_major": 2,
       "version_minor": 0
      },
      "text/plain": [
       "  0%|          | 0/1 [00:00<?, ?it/s]"
      ]
     },
     "metadata": {},
     "output_type": "display_data"
    },
    {
     "name": "stdout",
     "output_type": "stream",
     "text": [
      "Ignored unknown kwarg option direction\n",
      "Ignored unknown kwarg option direction\n"
     ]
    },
    {
     "data": {
      "application/vnd.jupyter.widget-view+json": {
       "model_id": "db29aa4889794199838cbdd06f704c7f",
       "version_major": 2,
       "version_minor": 0
      },
      "text/plain": [
       "  0%|          | 0/1 [00:00<?, ?it/s]"
      ]
     },
     "metadata": {},
     "output_type": "display_data"
    },
    {
     "name": "stderr",
     "output_type": "stream",
     "text": [
      "PyTorch: setting up devices\n",
      "The default value for the training argument `--report_to` will change in v5 (from all installed integrations to none). In v5, you will need to use `--report_to all` to get the same behavior as now. You should start updating your code and make this info disappear :-).\n"
     ]
    },
    {
     "name": "stdout",
     "output_type": "stream",
     "text": [
      "Ignored unknown kwarg option direction\n"
     ]
    }
   ],
   "source": [
    "training_tweets = tweets['2020-05']\n",
    "\n",
    "tweet_dataset = Dataset.from_pandas(training_tweets.reset_index()[['text', 'label']])\n",
    "tweet_dataset = tweet_dataset.train_test_split(test_size=0.2)\n",
    "train_set = tweet_dataset['train']\n",
    "test_set = tweet_dataset['test']\n",
    "\n",
    "train_set = train_set.map(preprocess, batched=True, batch_size=len(train_set))\n",
    "test_set = test_set.map(preprocess, batched=True, batch_size=len(test_set))\n",
    "\n",
    "train_set.set_format('torch', columns=['input_ids', 'attention_mask', 'label'])\n",
    "test_set.set_format('torch', columns=['input_ids', 'attention_mask', 'label'])\n",
    "\n",
    "training_args = TrainingArguments(\n",
    "    output_dir='./drift_clf/results',\n",
    "    num_train_epochs=epochs,\n",
    "    per_device_train_batch_size=batch_size,\n",
    "    per_device_eval_batch_size=batch_size,\n",
    "    logging_dir='./drift_clf/logs',\n",
    "    logging_strategy='epoch',\n",
    "    save_strategy='epoch',\n",
    "    evaluation_strategy='epoch',\n",
    "    load_best_model_at_end=True\n",
    ")\n",
    "\n",
    "# Define the trainer\n",
    "trainer = Trainer(\n",
    "    model=sequence_classification_model,\n",
    "    args=training_args,\n",
    "    train_dataset=train_set,\n",
    "    eval_dataset=test_set,\n",
    "    compute_metrics=compute_metrics\n",
    ")"
   ]
  },
  {
   "cell_type": "code",
   "execution_count": 39,
   "id": "90d699f8",
   "metadata": {},
   "outputs": [
    {
     "name": "stderr",
     "output_type": "stream",
     "text": [
      "***** Running Evaluation *****\n",
      "  Num examples = 78\n",
      "  Batch size = 32\n"
     ]
    },
    {
     "data": {
      "text/html": [
       "\n",
       "    <div>\n",
       "      \n",
       "      <progress value='6' max='3' style='width:300px; height:20px; vertical-align: middle;'></progress>\n",
       "      [3/3 00:11]\n",
       "    </div>\n",
       "    "
      ],
      "text/plain": [
       "<IPython.core.display.HTML object>"
      ]
     },
     "metadata": {},
     "output_type": "display_data"
    },
    {
     "data": {
      "text/plain": [
       "{'eval_loss': 0.7994105815887451,\n",
       " 'eval_accuracy': 0.6923076923076923,\n",
       " 'eval_runtime': 0.6514,\n",
       " 'eval_samples_per_second': 119.74,\n",
       " 'eval_steps_per_second': 4.605}"
      ]
     },
     "execution_count": 39,
     "metadata": {},
     "output_type": "execute_result"
    }
   ],
   "source": [
    "trainer.evaluate()"
   ]
  },
  {
   "cell_type": "markdown",
   "id": "6aa6fa15",
   "metadata": {},
   "source": [
    "## Train our DistilBERT model on tweets in May only"
   ]
  },
  {
   "cell_type": "code",
   "execution_count": 40,
   "id": "ea04057c",
   "metadata": {
    "scrolled": true
   },
   "outputs": [
    {
     "name": "stderr",
     "output_type": "stream",
     "text": [
      "/opt/homebrew/lib/python3.9/site-packages/transformers/optimization.py:306: FutureWarning: This implementation of AdamW is deprecated and will be removed in a future version. Use thePyTorch implementation torch.optim.AdamW instead, or set `no_deprecation_warning=True` to disable this warning\n",
      "  warnings.warn(\n",
      "***** Running training *****\n",
      "  Num examples = 310\n",
      "  Num Epochs = 2\n",
      "  Instantaneous batch size per device = 32\n",
      "  Total train batch size (w. parallel, distributed & accumulation) = 32\n",
      "  Gradient Accumulation steps = 1\n",
      "  Total optimization steps = 20\n"
     ]
    },
    {
     "data": {
      "text/html": [
       "\n",
       "    <div>\n",
       "      \n",
       "      <progress value='20' max='20' style='width:300px; height:20px; vertical-align: middle;'></progress>\n",
       "      [20/20 00:24, Epoch 2/2]\n",
       "    </div>\n",
       "    <table border=\"1\" class=\"dataframe\">\n",
       "  <thead>\n",
       " <tr style=\"text-align: left;\">\n",
       "      <th>Epoch</th>\n",
       "      <th>Training Loss</th>\n",
       "      <th>Validation Loss</th>\n",
       "      <th>Accuracy</th>\n",
       "    </tr>\n",
       "  </thead>\n",
       "  <tbody>\n",
       "    <tr>\n",
       "      <td>1</td>\n",
       "      <td>0.660400</td>\n",
       "      <td>0.786373</td>\n",
       "      <td>0.705128</td>\n",
       "    </tr>\n",
       "    <tr>\n",
       "      <td>2</td>\n",
       "      <td>0.404800</td>\n",
       "      <td>0.781244</td>\n",
       "      <td>0.641026</td>\n",
       "    </tr>\n",
       "  </tbody>\n",
       "</table><p>"
      ],
      "text/plain": [
       "<IPython.core.display.HTML object>"
      ]
     },
     "metadata": {},
     "output_type": "display_data"
    },
    {
     "name": "stderr",
     "output_type": "stream",
     "text": [
      "***** Running Evaluation *****\n",
      "  Num examples = 78\n",
      "  Batch size = 32\n",
      "Saving model checkpoint to ./drift_clf/results/checkpoint-10\n",
      "Configuration saved in ./drift_clf/results/checkpoint-10/config.json\n",
      "Model weights saved in ./drift_clf/results/checkpoint-10/pytorch_model.bin\n",
      "***** Running Evaluation *****\n",
      "  Num examples = 78\n",
      "  Batch size = 32\n",
      "Saving model checkpoint to ./drift_clf/results/checkpoint-20\n",
      "Configuration saved in ./drift_clf/results/checkpoint-20/config.json\n",
      "Model weights saved in ./drift_clf/results/checkpoint-20/pytorch_model.bin\n",
      "\n",
      "\n",
      "Training completed. Do not forget to share your model on huggingface.co/models =)\n",
      "\n",
      "\n",
      "Loading best model from ./drift_clf/results/checkpoint-20 (score: 0.7812435626983643).\n"
     ]
    },
    {
     "data": {
      "text/plain": [
       "TrainOutput(global_step=20, training_loss=0.5325803995132447, metrics={'train_runtime': 25.9516, 'train_samples_per_second': 23.891, 'train_steps_per_second': 0.771, 'total_flos': 11228882086800.0, 'train_loss': 0.5325803995132447, 'epoch': 2.0})"
      ]
     },
     "execution_count": 40,
     "metadata": {},
     "output_type": "execute_result"
    }
   ],
   "source": [
    "trainer.train()"
   ]
  },
  {
   "cell_type": "code",
   "execution_count": 41,
   "id": "16ef194d",
   "metadata": {},
   "outputs": [
    {
     "name": "stderr",
     "output_type": "stream",
     "text": [
      "***** Running Evaluation *****\n",
      "  Num examples = 78\n",
      "  Batch size = 32\n"
     ]
    },
    {
     "data": {
      "text/html": [
       "\n",
       "    <div>\n",
       "      \n",
       "      <progress value='110' max='3' style='width:300px; height:20px; vertical-align: middle;'></progress>\n",
       "      [3/3 01:07]\n",
       "    </div>\n",
       "    "
      ],
      "text/plain": [
       "<IPython.core.display.HTML object>"
      ]
     },
     "metadata": {},
     "output_type": "display_data"
    },
    {
     "data": {
      "text/plain": [
       "{'eval_loss': 0.7812435626983643,\n",
       " 'eval_accuracy': 0.6410256410256411,\n",
       " 'eval_runtime': 1.2123,\n",
       " 'eval_samples_per_second': 64.338,\n",
       " 'eval_steps_per_second': 2.475,\n",
       " 'epoch': 2.0}"
      ]
     },
     "execution_count": 41,
     "metadata": {},
     "output_type": "execute_result"
    }
   ],
   "source": [
    "trainer.evaluate()"
   ]
  },
  {
   "cell_type": "code",
   "execution_count": 42,
   "id": "92023836",
   "metadata": {},
   "outputs": [
    {
     "data": {
      "text/plain": [
       "tensor([[0.9001, 0.0418, 0.0581]], grad_fn=<SoftmaxBackward0>)"
      ]
     },
     "execution_count": 42,
     "metadata": {},
     "output_type": "execute_result"
    }
   ],
   "source": [
    "Softmax(dim=1)(sequence_classification_model(\n",
    "    bert_tokenizer.encode(clean_tweet('Corona Virus sucks so bad'), return_tensors='pt')).logits)"
   ]
  },
  {
   "cell_type": "code",
   "execution_count": 43,
   "id": "2a8e6036",
   "metadata": {},
   "outputs": [
    {
     "name": "stdout",
     "output_type": "stream",
     "text": [
      "Ignored unknown kwarg option direction\n"
     ]
    },
    {
     "data": {
      "application/vnd.jupyter.widget-view+json": {
       "model_id": "9ee42c22c9004468ae4fb3aa2c79c5b4",
       "version_major": 2,
       "version_minor": 0
      },
      "text/plain": [
       "  0%|          | 0/1 [00:00<?, ?it/s]"
      ]
     },
     "metadata": {},
     "output_type": "display_data"
    },
    {
     "name": "stdout",
     "output_type": "stream",
     "text": [
      "Ignored unknown kwarg option direction\n"
     ]
    },
    {
     "name": "stderr",
     "output_type": "stream",
     "text": [
      "***** Running Prediction *****\n",
      "  Num examples = 3418\n",
      "  Batch size = 32\n"
     ]
    }
   ],
   "source": [
    "june_onwards = tweets.loc['2020-6':].reset_index()\n",
    "\n",
    "\n",
    "june_onwards = Dataset.from_pandas(june_onwards[['text', 'label']])\n",
    "\n",
    "# We will pad our dataset so that our input matrices are the same length and truncate\n",
    "def preprocess(data):\n",
    "    return bert_tokenizer(data['text'], padding=True, truncation=True, max_length=128)\n",
    "\n",
    "june_onwards = june_onwards.map(preprocess, batched=True, batch_size=len(june_onwards))\n",
    "\n",
    "june_onwards.set_format('torch', columns=['input_ids', 'attention_mask', 'label'])\n",
    "\n",
    "tweets['predicted_label_trained_at_5'] = None\n",
    "tweets.loc['2020-6':, 'predicted_label_trained_at_5'] = trainer.predict(june_onwards).predictions.argmax(1)"
   ]
  },
  {
   "cell_type": "code",
   "execution_count": null,
   "id": "c5086f24",
   "metadata": {},
   "outputs": [],
   "source": []
  },
  {
   "cell_type": "code",
   "execution_count": 44,
   "id": "a0fc8ec7",
   "metadata": {},
   "outputs": [
    {
     "data": {
      "text/plain": [
       "<AxesSubplot:xlabel='month'>"
      ]
     },
     "execution_count": 44,
     "metadata": {},
     "output_type": "execute_result"
    },
    {
     "data": {
      "image/png": "[encoded data removed]",
      "text/plain": [
       "<Figure size 432x288 with 1 Axes>"
      ]
     },
     "metadata": {
      "needs_background": "light"
     },
     "output_type": "display_data"
    }
   ],
   "source": [
    "# Online training will generally only close minor gaps in performance and usually is not enough\n",
    "tweets['correct_label_trained_at_5'] = tweets['predicted_label_trained_at_5'] == tweets['label']\n",
    "tweets.groupby('month')[['correct_label', 'correct_label_trained_at_4', 'correct_label_trained_at_5']].mean().plot()"
   ]
  },
  {
   "cell_type": "code",
   "execution_count": null,
   "id": "26e1f036",
   "metadata": {},
   "outputs": [],
   "source": []
  },
  {
   "cell_type": "markdown",
   "id": "cba5d48a",
   "metadata": {},
   "source": [
    "**Kullback–Leibler (KL) divergence** is a measure of difference between two probability distributions. It is unbounded and assymetric (top is continuous, bottom is discrete)\n",
    "![title](../images/kl1.png)\n",
    "![title](../images/kl2.png)\n",
    "\n",
    "**Jensen-Shannon (or JS) divergence** is another way to test differences between distributions based on the KL divergence. It symmetric and it always has a finite value.\n",
    "![title](../images/js.png)\n"
   ]
  },
  {
   "cell_type": "code",
   "execution_count": null,
   "id": "58c80921",
   "metadata": {},
   "outputs": [],
   "source": []
  },
  {
   "cell_type": "code",
   "execution_count": 45,
   "id": "cf07b680",
   "metadata": {},
   "outputs": [],
   "source": [
    "def kl_divergence(p, q):\n",
    "    '''Kullback–Leibler (KL) divergence'''\n",
    "    p /= p.mean()\n",
    "    q /= q.mean()\n",
    "    return np.sum(p*np.log((p/(q+ 1e-5)) + 1e-5))\n",
    "\n",
    "\n",
    "def js_divergence(p, q):\n",
    "    '''Jensen-Shannon (or JS) divergence'''\n",
    "    m = 0.5 * (p + q)\n",
    "    return 0.5 * kl_divergence(p, m) + 0.5 * kl_divergence(q, m)"
   ]
  },
  {
   "cell_type": "code",
   "execution_count": null,
   "id": "5f849de7",
   "metadata": {},
   "outputs": [],
   "source": []
  },
  {
   "cell_type": "code",
   "execution_count": null,
   "id": "6e1cc9e5",
   "metadata": {},
   "outputs": [],
   "source": []
  },
  {
   "cell_type": "code",
   "execution_count": null,
   "id": "6b67bc54",
   "metadata": {},
   "outputs": [],
   "source": []
  },
  {
   "cell_type": "markdown",
   "id": "51294d8f",
   "metadata": {},
   "source": [
    "## KL Divergenve"
   ]
  },
  {
   "cell_type": "code",
   "execution_count": 46,
   "id": "6e36c67f",
   "metadata": {},
   "outputs": [
    {
     "data": {
      "text/html": [
       "<div>\n",
       "<style scoped>\n",
       "    .dataframe tbody tr th:only-of-type {\n",
       "        vertical-align: middle;\n",
       "    }\n",
       "\n",
       "    .dataframe tbody tr th {\n",
       "        vertical-align: top;\n",
       "    }\n",
       "\n",
       "    .dataframe thead th {\n",
       "        text-align: right;\n",
       "    }\n",
       "</style>\n",
       "<table border=\"1\" class=\"dataframe\">\n",
       "  <thead>\n",
       "    <tr style=\"text-align: right;\">\n",
       "      <th></th>\n",
       "      <th>accuracy</th>\n",
       "      <th>accuracy_change</th>\n",
       "    </tr>\n",
       "    <tr>\n",
       "      <th>month</th>\n",
       "      <th></th>\n",
       "      <th></th>\n",
       "    </tr>\n",
       "  </thead>\n",
       "  <tbody>\n",
       "    <tr>\n",
       "      <th>1</th>\n",
       "      <td>0.000000</td>\n",
       "      <td>NaN</td>\n",
       "    </tr>\n",
       "    <tr>\n",
       "      <th>2</th>\n",
       "      <td>0.000000</td>\n",
       "      <td>NaN</td>\n",
       "    </tr>\n",
       "    <tr>\n",
       "      <th>3</th>\n",
       "      <td>0.000000</td>\n",
       "      <td>NaN</td>\n",
       "    </tr>\n",
       "    <tr>\n",
       "      <th>4</th>\n",
       "      <td>0.724687</td>\n",
       "      <td>inf</td>\n",
       "    </tr>\n",
       "    <tr>\n",
       "      <th>5</th>\n",
       "      <td>0.731959</td>\n",
       "      <td>0.010034</td>\n",
       "    </tr>\n",
       "    <tr>\n",
       "      <th>6</th>\n",
       "      <td>0.718287</td>\n",
       "      <td>-0.018679</td>\n",
       "    </tr>\n",
       "    <tr>\n",
       "      <th>7</th>\n",
       "      <td>0.696541</td>\n",
       "      <td>-0.030275</td>\n",
       "    </tr>\n",
       "    <tr>\n",
       "      <th>8</th>\n",
       "      <td>0.732836</td>\n",
       "      <td>0.052107</td>\n",
       "    </tr>\n",
       "    <tr>\n",
       "      <th>9</th>\n",
       "      <td>0.744141</td>\n",
       "      <td>0.015426</td>\n",
       "    </tr>\n",
       "    <tr>\n",
       "      <th>10</th>\n",
       "      <td>0.726064</td>\n",
       "      <td>-0.024292</td>\n",
       "    </tr>\n",
       "    <tr>\n",
       "      <th>11</th>\n",
       "      <td>0.699700</td>\n",
       "      <td>-0.036311</td>\n",
       "    </tr>\n",
       "    <tr>\n",
       "      <th>12</th>\n",
       "      <td>0.735915</td>\n",
       "      <td>0.051759</td>\n",
       "    </tr>\n",
       "  </tbody>\n",
       "</table>\n",
       "</div>"
      ],
      "text/plain": [
       "       accuracy  accuracy_change\n",
       "month                           \n",
       "1      0.000000              NaN\n",
       "2      0.000000              NaN\n",
       "3      0.000000              NaN\n",
       "4      0.724687              inf\n",
       "5      0.731959         0.010034\n",
       "6      0.718287        -0.018679\n",
       "7      0.696541        -0.030275\n",
       "8      0.732836         0.052107\n",
       "9      0.744141         0.015426\n",
       "10     0.726064        -0.024292\n",
       "11     0.699700        -0.036311\n",
       "12     0.735915         0.051759"
      ]
     },
     "execution_count": 46,
     "metadata": {},
     "output_type": "execute_result"
    }
   ],
   "source": [
    "# Calculate accuracy change by month\n",
    "monthly_stats = tweets.groupby('month').agg(accuracy=('correct_label', 'mean'))\n",
    "monthly_stats['accuracy_change'] = (monthly_stats['accuracy'] - monthly_stats['accuracy'].shift(1)) / monthly_stats['accuracy'].shift(1)\n",
    "monthly_stats\n"
   ]
  },
  {
   "cell_type": "code",
   "execution_count": null,
   "id": "7bf88c07",
   "metadata": {},
   "outputs": [],
   "source": []
  },
  {
   "cell_type": "code",
   "execution_count": 47,
   "id": "2be4b6ff",
   "metadata": {},
   "outputs": [
    {
     "data": {
      "text/html": [
       "<div>\n",
       "<style scoped>\n",
       "    .dataframe tbody tr th:only-of-type {\n",
       "        vertical-align: middle;\n",
       "    }\n",
       "\n",
       "    .dataframe tbody tr th {\n",
       "        vertical-align: top;\n",
       "    }\n",
       "\n",
       "    .dataframe thead th {\n",
       "        text-align: right;\n",
       "    }\n",
       "</style>\n",
       "<table border=\"1\" class=\"dataframe\">\n",
       "  <thead>\n",
       "    <tr style=\"text-align: right;\">\n",
       "      <th></th>\n",
       "      <th>accuracy</th>\n",
       "      <th>accuracy_change</th>\n",
       "      <th>kl</th>\n",
       "      <th>js</th>\n",
       "    </tr>\n",
       "    <tr>\n",
       "      <th>month</th>\n",
       "      <th></th>\n",
       "      <th></th>\n",
       "      <th></th>\n",
       "      <th></th>\n",
       "    </tr>\n",
       "  </thead>\n",
       "  <tbody>\n",
       "    <tr>\n",
       "      <th>1</th>\n",
       "      <td>0.000000</td>\n",
       "      <td>NaN</td>\n",
       "      <td>0.000000</td>\n",
       "      <td>0.000000</td>\n",
       "    </tr>\n",
       "    <tr>\n",
       "      <th>2</th>\n",
       "      <td>0.000000</td>\n",
       "      <td>NaN</td>\n",
       "      <td>0.000000</td>\n",
       "      <td>0.000000</td>\n",
       "    </tr>\n",
       "    <tr>\n",
       "      <th>3</th>\n",
       "      <td>0.000000</td>\n",
       "      <td>NaN</td>\n",
       "      <td>0.000000</td>\n",
       "      <td>0.000000</td>\n",
       "    </tr>\n",
       "    <tr>\n",
       "      <th>4</th>\n",
       "      <td>0.724687</td>\n",
       "      <td>inf</td>\n",
       "      <td>0.000000</td>\n",
       "      <td>0.000000</td>\n",
       "    </tr>\n",
       "    <tr>\n",
       "      <th>5</th>\n",
       "      <td>0.731959</td>\n",
       "      <td>0.010034</td>\n",
       "      <td>0.001378</td>\n",
       "      <td>0.000344</td>\n",
       "    </tr>\n",
       "    <tr>\n",
       "      <th>6</th>\n",
       "      <td>0.718287</td>\n",
       "      <td>-0.018679</td>\n",
       "      <td>0.012928</td>\n",
       "      <td>0.003238</td>\n",
       "    </tr>\n",
       "    <tr>\n",
       "      <th>7</th>\n",
       "      <td>0.696541</td>\n",
       "      <td>-0.030275</td>\n",
       "      <td>0.018373</td>\n",
       "      <td>0.004653</td>\n",
       "    </tr>\n",
       "    <tr>\n",
       "      <th>8</th>\n",
       "      <td>0.732836</td>\n",
       "      <td>0.052107</td>\n",
       "      <td>0.008648</td>\n",
       "      <td>0.002159</td>\n",
       "    </tr>\n",
       "    <tr>\n",
       "      <th>9</th>\n",
       "      <td>0.744141</td>\n",
       "      <td>0.015426</td>\n",
       "      <td>0.012198</td>\n",
       "      <td>0.003029</td>\n",
       "    </tr>\n",
       "    <tr>\n",
       "      <th>10</th>\n",
       "      <td>0.726064</td>\n",
       "      <td>-0.024292</td>\n",
       "      <td>0.018552</td>\n",
       "      <td>0.004669</td>\n",
       "    </tr>\n",
       "    <tr>\n",
       "      <th>11</th>\n",
       "      <td>0.699700</td>\n",
       "      <td>-0.036311</td>\n",
       "      <td>0.009218</td>\n",
       "      <td>0.002313</td>\n",
       "    </tr>\n",
       "    <tr>\n",
       "      <th>12</th>\n",
       "      <td>0.735915</td>\n",
       "      <td>0.051759</td>\n",
       "      <td>0.001340</td>\n",
       "      <td>0.000334</td>\n",
       "    </tr>\n",
       "  </tbody>\n",
       "</table>\n",
       "</div>"
      ],
      "text/plain": [
       "       accuracy  accuracy_change        kl        js\n",
       "month                                               \n",
       "1      0.000000              NaN  0.000000  0.000000\n",
       "2      0.000000              NaN  0.000000  0.000000\n",
       "3      0.000000              NaN  0.000000  0.000000\n",
       "4      0.724687              inf  0.000000  0.000000\n",
       "5      0.731959         0.010034  0.001378  0.000344\n",
       "6      0.718287        -0.018679  0.012928  0.003238\n",
       "7      0.696541        -0.030275  0.018373  0.004653\n",
       "8      0.732836         0.052107  0.008648  0.002159\n",
       "9      0.744141         0.015426  0.012198  0.003029\n",
       "10     0.726064        -0.024292  0.018552  0.004669\n",
       "11     0.699700        -0.036311  0.009218  0.002313\n",
       "12     0.735915         0.051759  0.001340  0.000334"
      ]
     },
     "execution_count": 47,
     "metadata": {},
     "output_type": "execute_result"
    }
   ],
   "source": [
    "kl_change = [0, 0, 0, 0]  # for months 1, 2, 3, and 4\n",
    "js_change = [0, 0, 0, 0]  # for months 1, 2, 3, and 4\n",
    "\n",
    "# Calculate divergence\n",
    "for month in range(4, 12):\n",
    "    kl_div = kl_divergence(\n",
    "        tweets[tweets.index.month==month]['predicted_label'].value_counts(normalize=True).sort_index(),\n",
    "        tweets[tweets.index.month==month + 1]['predicted_label'].value_counts(normalize=True).sort_index()\n",
    "    )\n",
    "    js_div = js_divergence(\n",
    "        tweets[tweets.index.month==month]['predicted_label'].value_counts(normalize=True).sort_index(),\n",
    "        tweets[tweets.index.month==month + 1]['predicted_label'].value_counts(normalize=True).sort_index()\n",
    "    )\n",
    "    js_change.append(js_div)\n",
    "    kl_change.append(kl_div)\n",
    "monthly_stats['kl'] = kl_change\n",
    "monthly_stats['js'] = js_change\n",
    "\n",
    "monthly_stats"
   ]
  },
  {
   "cell_type": "code",
   "execution_count": 48,
   "id": "33610046",
   "metadata": {},
   "outputs": [
    {
     "data": {
      "text/plain": [
       "<AxesSubplot:title={'center':'Plotting Divergence with Accuracy % Change'}, xlabel='month'>"
      ]
     },
     "execution_count": 48,
     "metadata": {},
     "output_type": "execute_result"
    },
    {
     "data": {
      "image/png": "[encoded data removed]",
      "text/plain": [
       "<Figure size 1440x720 with 1 Axes>"
      ]
     },
     "metadata": {
      "needs_background": "light"
     },
     "output_type": "display_data"
    }
   ],
   "source": [
    "monthly_stats[monthly_stats.index >= 5][['accuracy_change', 'kl', 'js']].plot(\n",
    "    kind='bar', figsize=(20, 10), title='Plotting Divergence with Accuracy % Change'\n",
    ")"
   ]
  },
  {
   "cell_type": "code",
   "execution_count": null,
   "id": "4805f698",
   "metadata": {},
   "outputs": [],
   "source": []
  }
 ],
 "metadata": {
  "kernelspec": {
   "display_name": "Python 3 (ipykernel)",
   "language": "python",
   "name": "python3"
  },
  "language_info": {
   "codemirror_mode": {
    "name": "ipython",
    "version": 3
   },
   "file_extension": ".py",
   "mimetype": "text/x-python",
   "name": "python",
   "nbconvert_exporter": "python",
   "pygments_lexer": "ipython3",
   "version": "3.9.10"
  }
 },
 "nbformat": 4,
 "nbformat_minor": 5
}
